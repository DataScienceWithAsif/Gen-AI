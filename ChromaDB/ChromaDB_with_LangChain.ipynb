{
 "cells": [
  {
   "cell_type": "code",
   "execution_count": 1,
   "id": "6b7d5b5a-6455-44ff-99b3-70db39c62798",
   "metadata": {
    "collapsed": true,
    "jupyter": {
     "outputs_hidden": true
    }
   },
   "outputs": [
    {
     "name": "stdout",
     "output_type": "stream",
     "text": [
      "Name: chromadb\n",
      "Version: 1.0.16\n",
      "Summary: Chroma.\n",
      "Home-page: https://github.com/chroma-core/chroma\n",
      "Author: \n",
      "Author-email: Jeff Huber <jeff@trychroma.com>, Anton Troynikov <anton@trychroma.com>\n",
      "License: \n",
      "Location: E:\\DataScience\\anaconda\\envs\\asif\\Lib\\site-packages\n",
      "Requires: bcrypt, build, grpcio, httpx, importlib-resources, jsonschema, kubernetes, mmh3, numpy, onnxruntime, opentelemetry-api, opentelemetry-exporter-otlp-proto-grpc, opentelemetry-sdk, orjson, overrides, posthog, pybase64, pydantic, pypika, pyyaml, rich, tenacity, tokenizers, tqdm, typer, typing-extensions, uvicorn\n",
      "Required-by: \n",
      "Note: you may need to restart the kernel to use updated packages.\n"
     ]
    }
   ],
   "source": [
    "pip show chromadb"
   ]
  },
  {
   "cell_type": "code",
   "execution_count": 4,
   "id": "13b90d01-f18e-440d-b947-c3646679d44d",
   "metadata": {},
   "outputs": [
    {
     "name": "stdout",
     "output_type": "stream",
     "text": [
      "✅ Extraction complete!\n"
     ]
    }
   ],
   "source": [
    "import zipfile\n",
    "import os\n",
    "\n",
    "zip_path = \"new_articles.zip\"\n",
    "extract_path = \"new_articles\"\n",
    "\n",
    "os.makedirs(extract_path, exist_ok=True)\n",
    "\n",
    "with zipfile.ZipFile(zip_path, 'r') as zip_ref:\n",
    "    zip_ref.extractall(extract_path)\n",
    "\n",
    "print(\"✅ Extraction complete!\")\n"
   ]
  },
  {
   "cell_type": "code",
   "execution_count": null,
   "id": "4773303f-3f0f-47f6-b649-c278dddb6f80",
   "metadata": {},
   "outputs": [],
   "source": [
    "os.environ[\"OPENAI_API_KEY\"]=\"\""
   ]
  },
  {
   "cell_type": "code",
   "execution_count": 44,
   "id": "4b15d5d8-f9f7-4bd8-894b-1a8e7fd1ff6f",
   "metadata": {},
   "outputs": [],
   "source": [
    "from langchain.vectorstores import Chroma # chroma is local db using sqlite3 server and stores embedding in binary form\n",
    "from langchain.embeddings import OpenAIEmbeddings \n",
    "from langchain.llms import OpenAI\n",
    "from langchain.document_loaders import DirectoryLoader, TextLoader"
   ]
  },
  {
   "cell_type": "code",
   "execution_count": 16,
   "id": "0669b600-96bf-44bb-82d8-4675d161a12e",
   "metadata": {},
   "outputs": [],
   "source": [
    "loader=DirectoryLoader(\"C:\\\\Users\\\\ASIF\\\\Gen AI\\\\ChromaDB\\\\new_articles\", \n",
    "                       glob=\"./*.txt\", \n",
    "                       loader_cls=TextLoader,\n",
    "                       loader_kwargs={\"encoding\": \"utf-8\"}  # Force UTF-8\n",
    "                      )"
   ]
  },
  {
   "cell_type": "code",
   "execution_count": 18,
   "id": "ed70e782-6a72-4f70-861c-7aedc9a5ab5d",
   "metadata": {},
   "outputs": [],
   "source": [
    "document=loader.load()"
   ]
  },
  {
   "cell_type": "code",
   "execution_count": 24,
   "id": "cd032b7f-3b42-44cf-9383-38d6bdb6aac1",
   "metadata": {},
   "outputs": [
    {
     "data": {
      "text/plain": [
       "21"
      ]
     },
     "execution_count": 24,
     "metadata": {},
     "output_type": "execute_result"
    }
   ],
   "source": [
    "len(document)"
   ]
  },
  {
   "cell_type": "code",
   "execution_count": 25,
   "id": "0a5b5fc4-2821-4bdd-bc13-dcb09063914c",
   "metadata": {},
   "outputs": [],
   "source": [
    "from langchain.text_splitter import RecursiveCharacterTextSplitter"
   ]
  },
  {
   "cell_type": "code",
   "execution_count": 77,
   "id": "6637aa62-ba46-4e4b-9199-5af78d8f6f8d",
   "metadata": {},
   "outputs": [],
   "source": [
    "text_splitter=RecursiveCharacterTextSplitter(chunk_size=1000, chunk_overlap=200)"
   ]
  },
  {
   "cell_type": "code",
   "execution_count": 78,
   "id": "76fd7c06-e674-460a-8d72-a7efc71f0302",
   "metadata": {},
   "outputs": [],
   "source": [
    "text_chunks=text_splitter.split_documents(document)"
   ]
  },
  {
   "cell_type": "code",
   "execution_count": 79,
   "id": "bb7af648-9b18-4d72-89f6-744cde82c1b5",
   "metadata": {},
   "outputs": [
    {
     "data": {
      "text/plain": [
       "'Signaling that investments in the supply chain sector remain robust, Pando, a startup developing fulfillment management technologies, today announced that it raised $30 million in a Series B round, bringing its total raised to $45 million.\\n\\nIron Pillar and Uncorrelated Ventures led the round, with participation from existing investors Nexus Venture Partners, Chiratae Ventures and Next47. CEO and founder Nitin Jayakrishnan says that the new capital will be put toward expanding Pando’s global sales, marketing and delivery capabilities.\\n\\n“We will not expand into new industries or adjacent product areas,” he told TechCrunch in an email interview. “Great talent is the foundation of the business — we will continue to augment our teams at all levels of the organization. Pando is also open to exploring strategic partnerships and acquisitions with this round of funding.”'"
      ]
     },
     "execution_count": 79,
     "metadata": {},
     "output_type": "execute_result"
    }
   ],
   "source": [
    "text_chunks[0].page_content"
   ]
  },
  {
   "cell_type": "code",
   "execution_count": 80,
   "id": "1204f416-68ed-42e9-9eb7-77ed7fb62567",
   "metadata": {},
   "outputs": [
    {
     "data": {
      "text/plain": [
       "874"
      ]
     },
     "execution_count": 80,
     "metadata": {},
     "output_type": "execute_result"
    }
   ],
   "source": [
    "len(text_chunks[0].page_content)"
   ]
  },
  {
   "cell_type": "code",
   "execution_count": 81,
   "id": "623af715-cf7b-4619-9dcb-f9da5719f8ff",
   "metadata": {},
   "outputs": [
    {
     "data": {
      "text/plain": [
       "233"
      ]
     },
     "execution_count": 81,
     "metadata": {},
     "output_type": "execute_result"
    }
   ],
   "source": [
    "len(text_chunks)"
   ]
  },
  {
   "cell_type": "code",
   "execution_count": 82,
   "id": "82c3d140-0bfa-4a42-af82-0619aed63c56",
   "metadata": {},
   "outputs": [],
   "source": [
    "from langchain import embeddings"
   ]
  },
  {
   "cell_type": "code",
   "execution_count": 83,
   "id": "eddbe358-7d0d-4136-ae81-0aeed2b8bbdf",
   "metadata": {},
   "outputs": [],
   "source": [
    "persist_directory=\"db\"\n",
    "\n",
    "embedding=OpenAIEmbeddings()"
   ]
  },
  {
   "cell_type": "code",
   "execution_count": 84,
   "id": "42c9f86b-b332-40ea-af6a-1f42a515ccc8",
   "metadata": {},
   "outputs": [],
   "source": [
    "vectordb=Chroma.from_documents(documents=text_chunks,\n",
    "                              embedding=embedding,\n",
    "                              persist_directory=persist_directory)"
   ]
  },
  {
   "cell_type": "code",
   "execution_count": 85,
   "id": "29112f3e-beb4-470f-a03e-8fc36da9802a",
   "metadata": {},
   "outputs": [
    {
     "data": {
      "text/plain": [
       "<langchain_community.vectorstores.chroma.Chroma at 0x156d1a1f3b0>"
      ]
     },
     "execution_count": 85,
     "metadata": {},
     "output_type": "execute_result"
    }
   ],
   "source": [
    "vectordb"
   ]
  },
  {
   "cell_type": "code",
   "execution_count": 86,
   "id": "5189ef14-4200-4b64-8fb6-504da622d5a4",
   "metadata": {},
   "outputs": [],
   "source": [
    "## Persist the db to disk\n",
    "vectordb.persist()"
   ]
  },
  {
   "cell_type": "code",
   "execution_count": 87,
   "id": "81c3865b-43b6-4726-a352-19519e7d1b41",
   "metadata": {},
   "outputs": [],
   "source": [
    "vectordb=None"
   ]
  },
  {
   "cell_type": "code",
   "execution_count": null,
   "id": "6b65a6e2-06cc-43d0-bb00-f6bb6d618cea",
   "metadata": {},
   "outputs": [],
   "source": [
    "## We can load persisted database from disk and use it as normal one"
   ]
  },
  {
   "cell_type": "code",
   "execution_count": 88,
   "id": "9b5c05f1-48be-4201-afd9-df76ab41a5c9",
   "metadata": {},
   "outputs": [],
   "source": [
    "vectordb=Chroma(persist_directory=persist_directory, embedding_function=embedding)"
   ]
  },
  {
   "cell_type": "code",
   "execution_count": 89,
   "id": "a22e820c-b178-40f4-9bd7-e0eff12be4e0",
   "metadata": {},
   "outputs": [
    {
     "data": {
      "text/plain": [
       "<langchain_community.vectorstores.chroma.Chroma at 0x156d19872f0>"
      ]
     },
     "execution_count": 89,
     "metadata": {},
     "output_type": "execute_result"
    }
   ],
   "source": [
    "vectordb"
   ]
  },
  {
   "cell_type": "markdown",
   "id": "84f0ea1d-44ea-4baa-bcdf-fa26df84a9e5",
   "metadata": {},
   "source": [
    "## Making a retriever"
   ]
  },
  {
   "cell_type": "code",
   "execution_count": 90,
   "id": "f72ef2a2-c3c3-46da-b6d0-691f8271f318",
   "metadata": {},
   "outputs": [],
   "source": [
    "retriever=vectordb.as_retriever()"
   ]
  },
  {
   "cell_type": "code",
   "execution_count": 111,
   "id": "3fd1838c-2c95-4e26-aac4-fff98e1f3606",
   "metadata": {},
   "outputs": [],
   "source": [
    "docs=retriever.get_relevant_documents(\"will ai replace tv writers?\")"
   ]
  },
  {
   "cell_type": "code",
   "execution_count": 112,
   "id": "d79db038-8544-41c9-8501-d169d5f171e8",
   "metadata": {},
   "outputs": [
    {
     "data": {
      "text/plain": [
       "'As the Writers Guild of America strikes for the first time since its historic 100-day action in 2007, Conover said he thinks the debate over AI technology is a “red herring.” With generative AI in such a rudimentary stage, writers are more immediately concerned with dismal streaming residuals and understaffed writing teams. Yet studios’ pushback on the union’s AI-related requests only further reinforces the core issue: The people who power Hollywood aren’t being paid their fair share.\\n\\n“I’m not worried about the technology,” Conover said. “I’m worried about the companies using technology, that is not in fact very good, to undermine our working conditions.”'"
      ]
     },
     "execution_count": 112,
     "metadata": {},
     "output_type": "execute_result"
    }
   ],
   "source": [
    "docs[0].page_content"
   ]
  },
  {
   "cell_type": "code",
   "execution_count": 94,
   "id": "e1723a5a-04be-4879-8e6f-c047b0116a67",
   "metadata": {},
   "outputs": [
    {
     "data": {
      "text/plain": [
       "4"
      ]
     },
     "execution_count": 94,
     "metadata": {},
     "output_type": "execute_result"
    }
   ],
   "source": [
    "len(docs)"
   ]
  },
  {
   "cell_type": "code",
   "execution_count": 95,
   "id": "0982f403-f07d-4aa5-962e-359c336e1ab2",
   "metadata": {},
   "outputs": [],
   "source": [
    "# To get only 2 relevant docs\n",
    "\n",
    "retriever=vectordb.as_retriever(search_kwargs={\"k\":2})"
   ]
  },
  {
   "cell_type": "code",
   "execution_count": 113,
   "id": "d767f6c4-4ee2-449b-8601-0785c3485b64",
   "metadata": {},
   "outputs": [],
   "source": [
    "docs2=retriever.get_relevant_documents(\"will ai replace tv writers?\")"
   ]
  },
  {
   "cell_type": "code",
   "execution_count": 114,
   "id": "4ad8e8a2-df19-406e-9275-b1d009c395c2",
   "metadata": {},
   "outputs": [
    {
     "data": {
      "text/plain": [
       "2"
      ]
     },
     "execution_count": 114,
     "metadata": {},
     "output_type": "execute_result"
    }
   ],
   "source": [
    "len(docs2)"
   ]
  },
  {
   "cell_type": "markdown",
   "id": "868210ee-f87e-45a8-9d04-d04c1712c5d4",
   "metadata": {},
   "source": [
    "# Making a chain"
   ]
  },
  {
   "cell_type": "code",
   "execution_count": 115,
   "id": "eb729089-de95-42a0-ae8e-acc527412cec",
   "metadata": {},
   "outputs": [],
   "source": [
    "from langchain.chains import RetrievalQA"
   ]
  },
  {
   "cell_type": "code",
   "execution_count": 99,
   "id": "59538527-b4ad-402f-a6f2-717bf5346453",
   "metadata": {},
   "outputs": [],
   "source": [
    "llm=OpenAI()"
   ]
  },
  {
   "cell_type": "code",
   "execution_count": 116,
   "id": "0380b0ff-9ad6-4370-a31d-24aa94706772",
   "metadata": {},
   "outputs": [],
   "source": [
    "qa_chain=RetrievalQA.from_chain_type(\n",
    "    llm=llm,\n",
    "    chain_type=\"stuff\",\n",
    "    retriever=retriever,\n",
    "    return_source_documents=True\n",
    ")"
   ]
  },
  {
   "cell_type": "code",
   "execution_count": 117,
   "id": "00932f87-8806-486e-b515-03ed9e139bfc",
   "metadata": {},
   "outputs": [],
   "source": [
    "def process_llm_response(llm_response):\n",
    "    print(llm_response[\"result\"])\n",
    "    print(\"\\n\\nSourses : \")\n",
    "    for source in llm_response[\"source_documents\"]:\n",
    "        print(source.metadata[\"source\"])"
   ]
  },
  {
   "cell_type": "code",
   "execution_count": 118,
   "id": "7a993349-bcb2-401a-9f1b-12aaa4bef6eb",
   "metadata": {},
   "outputs": [],
   "source": [
    "query=\"will ai replace tv writers?\""
   ]
  },
  {
   "cell_type": "code",
   "execution_count": 119,
   "id": "6981e405-4614-4ab4-860c-9db4748add5b",
   "metadata": {},
   "outputs": [],
   "source": [
    "llm_response=qa_chain(query)"
   ]
  },
  {
   "cell_type": "code",
   "execution_count": 120,
   "id": "8eddd452-ab9d-4289-b3e5-a8cfb54b111e",
   "metadata": {},
   "outputs": [
    {
     "data": {
      "text/plain": [
       "{'query': 'will ai replace tv writers?',\n",
       " 'result': ' No, according to Conover, the debate over AI technology is a \"red herring\" and the current focus is on issues such as low pay and understaffing for TV writers. AI technology is still in a rudimentary stage and is not seen as a threat to replacing TV writers at this time.',\n",
       " 'source_documents': [Document(metadata={'source': 'C:\\\\Users\\\\ASIF\\\\Gen AI\\\\ChromaDB\\\\new_articles\\\\05-03-ai-replace-tv-writers-strike.txt'}, page_content='As the Writers Guild of America strikes for the first time since its historic 100-day action in 2007, Conover said he thinks the debate over AI technology is a “red herring.” With generative AI in such a rudimentary stage, writers are more immediately concerned with dismal streaming residuals and understaffed writing teams. Yet studios’ pushback on the union’s AI-related requests only further reinforces the core issue: The people who power Hollywood aren’t being paid their fair share.\\n\\n“I’m not worried about the technology,” Conover said. “I’m worried about the companies using technology, that is not in fact very good, to undermine our working conditions.”'),\n",
       "  Document(metadata={'source': 'C:\\\\Users\\\\ASIF\\\\Gen AI\\\\ChromaDB\\\\new_articles\\\\05-03-ai-replace-tv-writers-strike.txt'}, page_content='As the Writers Guild of America strikes for the first time since its historic 100-day action in 2007, Conover said he thinks the debate over AI technology is a “red herring.” With generative AI in such a rudimentary stage, writers are more immediately concerned with dismal streaming residuals and understaffed writing teams. Yet studios’ pushback on the union’s AI-related requests only further reinforces the core issue: The people who power Hollywood aren’t being paid their fair share.\\n\\n“I’m not worried about the technology,” Conover said. “I’m worried about the companies using technology, that is not in fact very good, to undermine our working conditions.”')]}"
      ]
     },
     "execution_count": 120,
     "metadata": {},
     "output_type": "execute_result"
    }
   ],
   "source": [
    "llm_response"
   ]
  },
  {
   "cell_type": "code",
   "execution_count": 121,
   "id": "a446f9e5-af5f-4c8e-8d26-61838dfd2b33",
   "metadata": {},
   "outputs": [
    {
     "name": "stdout",
     "output_type": "stream",
     "text": [
      " No, according to Conover, the debate over AI technology is a \"red herring\" and the current focus is on issues such as low pay and understaffing for TV writers. AI technology is still in a rudimentary stage and is not seen as a threat to replacing TV writers at this time.\n",
      "\n",
      "\n",
      "Sourses : \n",
      "C:\\Users\\ASIF\\Gen AI\\ChromaDB\\new_articles\\05-03-ai-replace-tv-writers-strike.txt\n",
      "C:\\Users\\ASIF\\Gen AI\\ChromaDB\\new_articles\\05-03-ai-replace-tv-writers-strike.txt\n"
     ]
    }
   ],
   "source": [
    "process_llm_response(llm_response)"
   ]
  },
  {
   "cell_type": "markdown",
   "id": "0332d694-21e4-432c-bc68-78eb3e8384d4",
   "metadata": {},
   "source": [
    "## To delete the Chroma DB"
   ]
  },
  {
   "cell_type": "code",
   "execution_count": null,
   "id": "76092f37-f19e-4818-8f1d-ad7526d646a9",
   "metadata": {},
   "outputs": [],
   "source": [
    "!zip -r db.zip ./db"
   ]
  },
  {
   "cell_type": "code",
   "execution_count": null,
   "id": "443ec0a4-7c61-43db-8e10-519237848157",
   "metadata": {},
   "outputs": [],
   "source": [
    "## To Cleanup, we can delete the collection\n",
    "\n",
    "vectordb.delete_collection()\n",
    "vectordb.persist()"
   ]
  },
  {
   "cell_type": "code",
   "execution_count": null,
   "id": "cdbbc058-284c-4b0c-a17f-975d24700b6c",
   "metadata": {},
   "outputs": [],
   "source": [
    "## To delete the directory\n",
    "\n",
    "!rm -rf db/"
   ]
  }
 ],
 "metadata": {
  "kernelspec": {
   "display_name": "Python 3.13.1",
   "language": "python",
   "name": "python3.13"
  },
  "language_info": {
   "codemirror_mode": {
    "name": "ipython",
    "version": 3
   },
   "file_extension": ".py",
   "mimetype": "text/x-python",
   "name": "python",
   "nbconvert_exporter": "python",
   "pygments_lexer": "ipython3",
   "version": "3.12.4"
  }
 },
 "nbformat": 4,
 "nbformat_minor": 5
}
