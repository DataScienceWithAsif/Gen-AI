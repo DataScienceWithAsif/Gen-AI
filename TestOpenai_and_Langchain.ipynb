{
 "cells": [
  {
   "cell_type": "markdown",
   "id": "d792b644-dfbd-4aaa-9981-f0fe0f57f73b",
   "metadata": {},
   "source": []
  },
  {
   "cell_type": "code",
   "execution_count": 141,
   "id": "500bd2cd-5b8b-474d-854b-58522772a5ee",
   "metadata": {},
   "outputs": [],
   "source": [
    "mykey='.......'"
   ]
  },
  {
   "cell_type": "code",
   "execution_count": 4,
   "id": "a11d1e19-cec9-470b-8e66-1a0c6b0875ab",
   "metadata": {},
   "outputs": [],
   "source": [
    "import openai\n",
    "openai.api_key=mykey"
   ]
  },
  {
   "cell_type": "code",
   "execution_count": 10,
   "id": "3baee570-13d9-4d33-b3a4-23870e6a0f15",
   "metadata": {},
   "outputs": [],
   "source": [
    "all_models=openai.models.list()"
   ]
  },
  {
   "cell_type": "code",
   "execution_count": 11,
   "id": "42880db2-fac5-453a-a674-d9c05e4a4739",
   "metadata": {
    "collapsed": true,
    "jupyter": {
     "outputs_hidden": true
    }
   },
   "outputs": [
    {
     "data": {
      "text/plain": [
       "[Model(id='text-embedding-ada-002', created=1671217299, object='model', owned_by='openai-internal'),\n",
       " Model(id='whisper-1', created=1677532384, object='model', owned_by='openai-internal'),\n",
       " Model(id='gpt-3.5-turbo', created=1677610602, object='model', owned_by='openai'),\n",
       " Model(id='tts-1', created=1681940951, object='model', owned_by='openai-internal'),\n",
       " Model(id='gpt-3.5-turbo-16k', created=1683758102, object='model', owned_by='openai-internal'),\n",
       " Model(id='davinci-002', created=1692634301, object='model', owned_by='system'),\n",
       " Model(id='babbage-002', created=1692634615, object='model', owned_by='system'),\n",
       " Model(id='gpt-3.5-turbo-instruct', created=1692901427, object='model', owned_by='system'),\n",
       " Model(id='gpt-3.5-turbo-instruct-0914', created=1694122472, object='model', owned_by='system'),\n",
       " Model(id='dall-e-3', created=1698785189, object='model', owned_by='system'),\n",
       " Model(id='dall-e-2', created=1698798177, object='model', owned_by='system'),\n",
       " Model(id='gpt-3.5-turbo-1106', created=1698959748, object='model', owned_by='system'),\n",
       " Model(id='tts-1-hd', created=1699046015, object='model', owned_by='system'),\n",
       " Model(id='tts-1-1106', created=1699053241, object='model', owned_by='system'),\n",
       " Model(id='tts-1-hd-1106', created=1699053533, object='model', owned_by='system'),\n",
       " Model(id='text-embedding-3-small', created=1705948997, object='model', owned_by='system'),\n",
       " Model(id='text-embedding-3-large', created=1705953180, object='model', owned_by='system'),\n",
       " Model(id='gpt-3.5-turbo-0125', created=1706048358, object='model', owned_by='system'),\n",
       " Model(id='gpt-4o', created=1715367049, object='model', owned_by='system'),\n",
       " Model(id='gpt-4o-2024-05-13', created=1715368132, object='model', owned_by='system'),\n",
       " Model(id='gpt-4o-mini-2024-07-18', created=1721172717, object='model', owned_by='system'),\n",
       " Model(id='gpt-4o-mini', created=1721172741, object='model', owned_by='system'),\n",
       " Model(id='gpt-4o-2024-08-06', created=1722814719, object='model', owned_by='system'),\n",
       " Model(id='o1-preview-2024-09-12', created=1725648865, object='model', owned_by='system'),\n",
       " Model(id='o1-preview', created=1725648897, object='model', owned_by='system'),\n",
       " Model(id='o1-mini-2024-09-12', created=1725648979, object='model', owned_by='system'),\n",
       " Model(id='o1-mini', created=1725649008, object='model', owned_by='system'),\n",
       " Model(id='gpt-4o-audio-preview-2024-10-01', created=1727389042, object='model', owned_by='system'),\n",
       " Model(id='gpt-4o-audio-preview', created=1727460443, object='model', owned_by='system'),\n",
       " Model(id='omni-moderation-latest', created=1731689265, object='model', owned_by='system'),\n",
       " Model(id='omni-moderation-2024-09-26', created=1732734466, object='model', owned_by='system'),\n",
       " Model(id='gpt-4o-audio-preview-2024-12-17', created=1734034239, object='model', owned_by='system'),\n",
       " Model(id='gpt-4o-mini-audio-preview-2024-12-17', created=1734115920, object='model', owned_by='system'),\n",
       " Model(id='gpt-4o-mini-audio-preview', created=1734387424, object='model', owned_by='system'),\n",
       " Model(id='gpt-4o-2024-11-20', created=1739331543, object='model', owned_by='system'),\n",
       " Model(id='gpt-4.5-preview', created=1740623059, object='model', owned_by='system'),\n",
       " Model(id='gpt-4.5-preview-2025-02-27', created=1740623304, object='model', owned_by='system'),\n",
       " Model(id='gpt-4o-search-preview-2025-03-11', created=1741388170, object='model', owned_by='system'),\n",
       " Model(id='gpt-4o-search-preview', created=1741388720, object='model', owned_by='system'),\n",
       " Model(id='gpt-4o-mini-search-preview-2025-03-11', created=1741390858, object='model', owned_by='system'),\n",
       " Model(id='gpt-4o-mini-search-preview', created=1741391161, object='model', owned_by='system'),\n",
       " Model(id='gpt-4o-transcribe', created=1742068463, object='model', owned_by='system'),\n",
       " Model(id='gpt-4o-mini-transcribe', created=1742068596, object='model', owned_by='system'),\n",
       " Model(id='gpt-4o-mini-tts', created=1742403959, object='model', owned_by='system'),\n",
       " Model(id='gpt-4.1-2025-04-14', created=1744315746, object='model', owned_by='system'),\n",
       " Model(id='gpt-4.1', created=1744316542, object='model', owned_by='system'),\n",
       " Model(id='gpt-4.1-mini-2025-04-14', created=1744317547, object='model', owned_by='system'),\n",
       " Model(id='gpt-4.1-mini', created=1744318173, object='model', owned_by='system'),\n",
       " Model(id='gpt-4.1-nano-2025-04-14', created=1744321025, object='model', owned_by='system'),\n",
       " Model(id='gpt-4.1-nano', created=1744321707, object='model', owned_by='system'),\n",
       " Model(id='gpt-image-1', created=1745517030, object='model', owned_by='system'),\n",
       " Model(id='gpt-4o-audio-preview-2025-06-03', created=1748908498, object='model', owned_by='system')]"
      ]
     },
     "execution_count": 11,
     "metadata": {},
     "output_type": "execute_result"
    }
   ],
   "source": [
    "list(all_models)"
   ]
  },
  {
   "cell_type": "code",
   "execution_count": 13,
   "id": "f6e5cd71-f398-4805-996a-4d54d8b28525",
   "metadata": {},
   "outputs": [],
   "source": [
    "import pandas as pd\n",
    "\n",
    "models=pd.DataFrame(list(all_models), columns=['id','created','object','owned_by'])"
   ]
  },
  {
   "cell_type": "code",
   "execution_count": 14,
   "id": "7563d4b1-40b5-49b9-b8ed-500a6a495341",
   "metadata": {
    "collapsed": true,
    "jupyter": {
     "outputs_hidden": true
    }
   },
   "outputs": [
    {
     "data": {
      "text/html": [
       "<div>\n",
       "<style scoped>\n",
       "    .dataframe tbody tr th:only-of-type {\n",
       "        vertical-align: middle;\n",
       "    }\n",
       "\n",
       "    .dataframe tbody tr th {\n",
       "        vertical-align: top;\n",
       "    }\n",
       "\n",
       "    .dataframe thead th {\n",
       "        text-align: right;\n",
       "    }\n",
       "</style>\n",
       "<table border=\"1\" class=\"dataframe\">\n",
       "  <thead>\n",
       "    <tr style=\"text-align: right;\">\n",
       "      <th></th>\n",
       "      <th>id</th>\n",
       "      <th>created</th>\n",
       "      <th>object</th>\n",
       "      <th>owned_by</th>\n",
       "    </tr>\n",
       "  </thead>\n",
       "  <tbody>\n",
       "    <tr>\n",
       "      <th>0</th>\n",
       "      <td>(id, text-embedding-ada-002)</td>\n",
       "      <td>(created, 1671217299)</td>\n",
       "      <td>(object, model)</td>\n",
       "      <td>(owned_by, openai-internal)</td>\n",
       "    </tr>\n",
       "    <tr>\n",
       "      <th>1</th>\n",
       "      <td>(id, whisper-1)</td>\n",
       "      <td>(created, 1677532384)</td>\n",
       "      <td>(object, model)</td>\n",
       "      <td>(owned_by, openai-internal)</td>\n",
       "    </tr>\n",
       "    <tr>\n",
       "      <th>2</th>\n",
       "      <td>(id, gpt-3.5-turbo)</td>\n",
       "      <td>(created, 1677610602)</td>\n",
       "      <td>(object, model)</td>\n",
       "      <td>(owned_by, openai)</td>\n",
       "    </tr>\n",
       "    <tr>\n",
       "      <th>3</th>\n",
       "      <td>(id, tts-1)</td>\n",
       "      <td>(created, 1681940951)</td>\n",
       "      <td>(object, model)</td>\n",
       "      <td>(owned_by, openai-internal)</td>\n",
       "    </tr>\n",
       "    <tr>\n",
       "      <th>4</th>\n",
       "      <td>(id, gpt-3.5-turbo-16k)</td>\n",
       "      <td>(created, 1683758102)</td>\n",
       "      <td>(object, model)</td>\n",
       "      <td>(owned_by, openai-internal)</td>\n",
       "    </tr>\n",
       "    <tr>\n",
       "      <th>5</th>\n",
       "      <td>(id, davinci-002)</td>\n",
       "      <td>(created, 1692634301)</td>\n",
       "      <td>(object, model)</td>\n",
       "      <td>(owned_by, system)</td>\n",
       "    </tr>\n",
       "    <tr>\n",
       "      <th>6</th>\n",
       "      <td>(id, babbage-002)</td>\n",
       "      <td>(created, 1692634615)</td>\n",
       "      <td>(object, model)</td>\n",
       "      <td>(owned_by, system)</td>\n",
       "    </tr>\n",
       "    <tr>\n",
       "      <th>7</th>\n",
       "      <td>(id, gpt-3.5-turbo-instruct)</td>\n",
       "      <td>(created, 1692901427)</td>\n",
       "      <td>(object, model)</td>\n",
       "      <td>(owned_by, system)</td>\n",
       "    </tr>\n",
       "    <tr>\n",
       "      <th>8</th>\n",
       "      <td>(id, gpt-3.5-turbo-instruct-0914)</td>\n",
       "      <td>(created, 1694122472)</td>\n",
       "      <td>(object, model)</td>\n",
       "      <td>(owned_by, system)</td>\n",
       "    </tr>\n",
       "    <tr>\n",
       "      <th>9</th>\n",
       "      <td>(id, dall-e-3)</td>\n",
       "      <td>(created, 1698785189)</td>\n",
       "      <td>(object, model)</td>\n",
       "      <td>(owned_by, system)</td>\n",
       "    </tr>\n",
       "    <tr>\n",
       "      <th>10</th>\n",
       "      <td>(id, dall-e-2)</td>\n",
       "      <td>(created, 1698798177)</td>\n",
       "      <td>(object, model)</td>\n",
       "      <td>(owned_by, system)</td>\n",
       "    </tr>\n",
       "    <tr>\n",
       "      <th>11</th>\n",
       "      <td>(id, gpt-3.5-turbo-1106)</td>\n",
       "      <td>(created, 1698959748)</td>\n",
       "      <td>(object, model)</td>\n",
       "      <td>(owned_by, system)</td>\n",
       "    </tr>\n",
       "    <tr>\n",
       "      <th>12</th>\n",
       "      <td>(id, tts-1-hd)</td>\n",
       "      <td>(created, 1699046015)</td>\n",
       "      <td>(object, model)</td>\n",
       "      <td>(owned_by, system)</td>\n",
       "    </tr>\n",
       "    <tr>\n",
       "      <th>13</th>\n",
       "      <td>(id, tts-1-1106)</td>\n",
       "      <td>(created, 1699053241)</td>\n",
       "      <td>(object, model)</td>\n",
       "      <td>(owned_by, system)</td>\n",
       "    </tr>\n",
       "    <tr>\n",
       "      <th>14</th>\n",
       "      <td>(id, tts-1-hd-1106)</td>\n",
       "      <td>(created, 1699053533)</td>\n",
       "      <td>(object, model)</td>\n",
       "      <td>(owned_by, system)</td>\n",
       "    </tr>\n",
       "    <tr>\n",
       "      <th>15</th>\n",
       "      <td>(id, text-embedding-3-small)</td>\n",
       "      <td>(created, 1705948997)</td>\n",
       "      <td>(object, model)</td>\n",
       "      <td>(owned_by, system)</td>\n",
       "    </tr>\n",
       "    <tr>\n",
       "      <th>16</th>\n",
       "      <td>(id, text-embedding-3-large)</td>\n",
       "      <td>(created, 1705953180)</td>\n",
       "      <td>(object, model)</td>\n",
       "      <td>(owned_by, system)</td>\n",
       "    </tr>\n",
       "    <tr>\n",
       "      <th>17</th>\n",
       "      <td>(id, gpt-3.5-turbo-0125)</td>\n",
       "      <td>(created, 1706048358)</td>\n",
       "      <td>(object, model)</td>\n",
       "      <td>(owned_by, system)</td>\n",
       "    </tr>\n",
       "    <tr>\n",
       "      <th>18</th>\n",
       "      <td>(id, gpt-4o)</td>\n",
       "      <td>(created, 1715367049)</td>\n",
       "      <td>(object, model)</td>\n",
       "      <td>(owned_by, system)</td>\n",
       "    </tr>\n",
       "    <tr>\n",
       "      <th>19</th>\n",
       "      <td>(id, gpt-4o-2024-05-13)</td>\n",
       "      <td>(created, 1715368132)</td>\n",
       "      <td>(object, model)</td>\n",
       "      <td>(owned_by, system)</td>\n",
       "    </tr>\n",
       "    <tr>\n",
       "      <th>20</th>\n",
       "      <td>(id, gpt-4o-mini-2024-07-18)</td>\n",
       "      <td>(created, 1721172717)</td>\n",
       "      <td>(object, model)</td>\n",
       "      <td>(owned_by, system)</td>\n",
       "    </tr>\n",
       "    <tr>\n",
       "      <th>21</th>\n",
       "      <td>(id, gpt-4o-mini)</td>\n",
       "      <td>(created, 1721172741)</td>\n",
       "      <td>(object, model)</td>\n",
       "      <td>(owned_by, system)</td>\n",
       "    </tr>\n",
       "    <tr>\n",
       "      <th>22</th>\n",
       "      <td>(id, gpt-4o-2024-08-06)</td>\n",
       "      <td>(created, 1722814719)</td>\n",
       "      <td>(object, model)</td>\n",
       "      <td>(owned_by, system)</td>\n",
       "    </tr>\n",
       "    <tr>\n",
       "      <th>23</th>\n",
       "      <td>(id, o1-preview-2024-09-12)</td>\n",
       "      <td>(created, 1725648865)</td>\n",
       "      <td>(object, model)</td>\n",
       "      <td>(owned_by, system)</td>\n",
       "    </tr>\n",
       "    <tr>\n",
       "      <th>24</th>\n",
       "      <td>(id, o1-preview)</td>\n",
       "      <td>(created, 1725648897)</td>\n",
       "      <td>(object, model)</td>\n",
       "      <td>(owned_by, system)</td>\n",
       "    </tr>\n",
       "    <tr>\n",
       "      <th>25</th>\n",
       "      <td>(id, o1-mini-2024-09-12)</td>\n",
       "      <td>(created, 1725648979)</td>\n",
       "      <td>(object, model)</td>\n",
       "      <td>(owned_by, system)</td>\n",
       "    </tr>\n",
       "    <tr>\n",
       "      <th>26</th>\n",
       "      <td>(id, o1-mini)</td>\n",
       "      <td>(created, 1725649008)</td>\n",
       "      <td>(object, model)</td>\n",
       "      <td>(owned_by, system)</td>\n",
       "    </tr>\n",
       "    <tr>\n",
       "      <th>27</th>\n",
       "      <td>(id, gpt-4o-audio-preview-2024-10-01)</td>\n",
       "      <td>(created, 1727389042)</td>\n",
       "      <td>(object, model)</td>\n",
       "      <td>(owned_by, system)</td>\n",
       "    </tr>\n",
       "    <tr>\n",
       "      <th>28</th>\n",
       "      <td>(id, gpt-4o-audio-preview)</td>\n",
       "      <td>(created, 1727460443)</td>\n",
       "      <td>(object, model)</td>\n",
       "      <td>(owned_by, system)</td>\n",
       "    </tr>\n",
       "    <tr>\n",
       "      <th>29</th>\n",
       "      <td>(id, omni-moderation-latest)</td>\n",
       "      <td>(created, 1731689265)</td>\n",
       "      <td>(object, model)</td>\n",
       "      <td>(owned_by, system)</td>\n",
       "    </tr>\n",
       "    <tr>\n",
       "      <th>30</th>\n",
       "      <td>(id, omni-moderation-2024-09-26)</td>\n",
       "      <td>(created, 1732734466)</td>\n",
       "      <td>(object, model)</td>\n",
       "      <td>(owned_by, system)</td>\n",
       "    </tr>\n",
       "    <tr>\n",
       "      <th>31</th>\n",
       "      <td>(id, gpt-4o-audio-preview-2024-12-17)</td>\n",
       "      <td>(created, 1734034239)</td>\n",
       "      <td>(object, model)</td>\n",
       "      <td>(owned_by, system)</td>\n",
       "    </tr>\n",
       "    <tr>\n",
       "      <th>32</th>\n",
       "      <td>(id, gpt-4o-mini-audio-preview-2024-12-17)</td>\n",
       "      <td>(created, 1734115920)</td>\n",
       "      <td>(object, model)</td>\n",
       "      <td>(owned_by, system)</td>\n",
       "    </tr>\n",
       "    <tr>\n",
       "      <th>33</th>\n",
       "      <td>(id, gpt-4o-mini-audio-preview)</td>\n",
       "      <td>(created, 1734387424)</td>\n",
       "      <td>(object, model)</td>\n",
       "      <td>(owned_by, system)</td>\n",
       "    </tr>\n",
       "    <tr>\n",
       "      <th>34</th>\n",
       "      <td>(id, gpt-4o-2024-11-20)</td>\n",
       "      <td>(created, 1739331543)</td>\n",
       "      <td>(object, model)</td>\n",
       "      <td>(owned_by, system)</td>\n",
       "    </tr>\n",
       "    <tr>\n",
       "      <th>35</th>\n",
       "      <td>(id, gpt-4.5-preview)</td>\n",
       "      <td>(created, 1740623059)</td>\n",
       "      <td>(object, model)</td>\n",
       "      <td>(owned_by, system)</td>\n",
       "    </tr>\n",
       "    <tr>\n",
       "      <th>36</th>\n",
       "      <td>(id, gpt-4.5-preview-2025-02-27)</td>\n",
       "      <td>(created, 1740623304)</td>\n",
       "      <td>(object, model)</td>\n",
       "      <td>(owned_by, system)</td>\n",
       "    </tr>\n",
       "    <tr>\n",
       "      <th>37</th>\n",
       "      <td>(id, gpt-4o-search-preview-2025-03-11)</td>\n",
       "      <td>(created, 1741388170)</td>\n",
       "      <td>(object, model)</td>\n",
       "      <td>(owned_by, system)</td>\n",
       "    </tr>\n",
       "    <tr>\n",
       "      <th>38</th>\n",
       "      <td>(id, gpt-4o-search-preview)</td>\n",
       "      <td>(created, 1741388720)</td>\n",
       "      <td>(object, model)</td>\n",
       "      <td>(owned_by, system)</td>\n",
       "    </tr>\n",
       "    <tr>\n",
       "      <th>39</th>\n",
       "      <td>(id, gpt-4o-mini-search-preview-2025-03-11)</td>\n",
       "      <td>(created, 1741390858)</td>\n",
       "      <td>(object, model)</td>\n",
       "      <td>(owned_by, system)</td>\n",
       "    </tr>\n",
       "    <tr>\n",
       "      <th>40</th>\n",
       "      <td>(id, gpt-4o-mini-search-preview)</td>\n",
       "      <td>(created, 1741391161)</td>\n",
       "      <td>(object, model)</td>\n",
       "      <td>(owned_by, system)</td>\n",
       "    </tr>\n",
       "    <tr>\n",
       "      <th>41</th>\n",
       "      <td>(id, gpt-4o-transcribe)</td>\n",
       "      <td>(created, 1742068463)</td>\n",
       "      <td>(object, model)</td>\n",
       "      <td>(owned_by, system)</td>\n",
       "    </tr>\n",
       "    <tr>\n",
       "      <th>42</th>\n",
       "      <td>(id, gpt-4o-mini-transcribe)</td>\n",
       "      <td>(created, 1742068596)</td>\n",
       "      <td>(object, model)</td>\n",
       "      <td>(owned_by, system)</td>\n",
       "    </tr>\n",
       "    <tr>\n",
       "      <th>43</th>\n",
       "      <td>(id, gpt-4o-mini-tts)</td>\n",
       "      <td>(created, 1742403959)</td>\n",
       "      <td>(object, model)</td>\n",
       "      <td>(owned_by, system)</td>\n",
       "    </tr>\n",
       "    <tr>\n",
       "      <th>44</th>\n",
       "      <td>(id, gpt-4.1-2025-04-14)</td>\n",
       "      <td>(created, 1744315746)</td>\n",
       "      <td>(object, model)</td>\n",
       "      <td>(owned_by, system)</td>\n",
       "    </tr>\n",
       "    <tr>\n",
       "      <th>45</th>\n",
       "      <td>(id, gpt-4.1)</td>\n",
       "      <td>(created, 1744316542)</td>\n",
       "      <td>(object, model)</td>\n",
       "      <td>(owned_by, system)</td>\n",
       "    </tr>\n",
       "    <tr>\n",
       "      <th>46</th>\n",
       "      <td>(id, gpt-4.1-mini-2025-04-14)</td>\n",
       "      <td>(created, 1744317547)</td>\n",
       "      <td>(object, model)</td>\n",
       "      <td>(owned_by, system)</td>\n",
       "    </tr>\n",
       "    <tr>\n",
       "      <th>47</th>\n",
       "      <td>(id, gpt-4.1-mini)</td>\n",
       "      <td>(created, 1744318173)</td>\n",
       "      <td>(object, model)</td>\n",
       "      <td>(owned_by, system)</td>\n",
       "    </tr>\n",
       "    <tr>\n",
       "      <th>48</th>\n",
       "      <td>(id, gpt-4.1-nano-2025-04-14)</td>\n",
       "      <td>(created, 1744321025)</td>\n",
       "      <td>(object, model)</td>\n",
       "      <td>(owned_by, system)</td>\n",
       "    </tr>\n",
       "    <tr>\n",
       "      <th>49</th>\n",
       "      <td>(id, gpt-4.1-nano)</td>\n",
       "      <td>(created, 1744321707)</td>\n",
       "      <td>(object, model)</td>\n",
       "      <td>(owned_by, system)</td>\n",
       "    </tr>\n",
       "    <tr>\n",
       "      <th>50</th>\n",
       "      <td>(id, gpt-image-1)</td>\n",
       "      <td>(created, 1745517030)</td>\n",
       "      <td>(object, model)</td>\n",
       "      <td>(owned_by, system)</td>\n",
       "    </tr>\n",
       "    <tr>\n",
       "      <th>51</th>\n",
       "      <td>(id, gpt-4o-audio-preview-2025-06-03)</td>\n",
       "      <td>(created, 1748908498)</td>\n",
       "      <td>(object, model)</td>\n",
       "      <td>(owned_by, system)</td>\n",
       "    </tr>\n",
       "  </tbody>\n",
       "</table>\n",
       "</div>"
      ],
      "text/plain": [
       "                                             id                created  \\\n",
       "0                  (id, text-embedding-ada-002)  (created, 1671217299)   \n",
       "1                               (id, whisper-1)  (created, 1677532384)   \n",
       "2                           (id, gpt-3.5-turbo)  (created, 1677610602)   \n",
       "3                                   (id, tts-1)  (created, 1681940951)   \n",
       "4                       (id, gpt-3.5-turbo-16k)  (created, 1683758102)   \n",
       "5                             (id, davinci-002)  (created, 1692634301)   \n",
       "6                             (id, babbage-002)  (created, 1692634615)   \n",
       "7                  (id, gpt-3.5-turbo-instruct)  (created, 1692901427)   \n",
       "8             (id, gpt-3.5-turbo-instruct-0914)  (created, 1694122472)   \n",
       "9                                (id, dall-e-3)  (created, 1698785189)   \n",
       "10                               (id, dall-e-2)  (created, 1698798177)   \n",
       "11                     (id, gpt-3.5-turbo-1106)  (created, 1698959748)   \n",
       "12                               (id, tts-1-hd)  (created, 1699046015)   \n",
       "13                             (id, tts-1-1106)  (created, 1699053241)   \n",
       "14                          (id, tts-1-hd-1106)  (created, 1699053533)   \n",
       "15                 (id, text-embedding-3-small)  (created, 1705948997)   \n",
       "16                 (id, text-embedding-3-large)  (created, 1705953180)   \n",
       "17                     (id, gpt-3.5-turbo-0125)  (created, 1706048358)   \n",
       "18                                 (id, gpt-4o)  (created, 1715367049)   \n",
       "19                      (id, gpt-4o-2024-05-13)  (created, 1715368132)   \n",
       "20                 (id, gpt-4o-mini-2024-07-18)  (created, 1721172717)   \n",
       "21                            (id, gpt-4o-mini)  (created, 1721172741)   \n",
       "22                      (id, gpt-4o-2024-08-06)  (created, 1722814719)   \n",
       "23                  (id, o1-preview-2024-09-12)  (created, 1725648865)   \n",
       "24                             (id, o1-preview)  (created, 1725648897)   \n",
       "25                     (id, o1-mini-2024-09-12)  (created, 1725648979)   \n",
       "26                                (id, o1-mini)  (created, 1725649008)   \n",
       "27        (id, gpt-4o-audio-preview-2024-10-01)  (created, 1727389042)   \n",
       "28                   (id, gpt-4o-audio-preview)  (created, 1727460443)   \n",
       "29                 (id, omni-moderation-latest)  (created, 1731689265)   \n",
       "30             (id, omni-moderation-2024-09-26)  (created, 1732734466)   \n",
       "31        (id, gpt-4o-audio-preview-2024-12-17)  (created, 1734034239)   \n",
       "32   (id, gpt-4o-mini-audio-preview-2024-12-17)  (created, 1734115920)   \n",
       "33              (id, gpt-4o-mini-audio-preview)  (created, 1734387424)   \n",
       "34                      (id, gpt-4o-2024-11-20)  (created, 1739331543)   \n",
       "35                        (id, gpt-4.5-preview)  (created, 1740623059)   \n",
       "36             (id, gpt-4.5-preview-2025-02-27)  (created, 1740623304)   \n",
       "37       (id, gpt-4o-search-preview-2025-03-11)  (created, 1741388170)   \n",
       "38                  (id, gpt-4o-search-preview)  (created, 1741388720)   \n",
       "39  (id, gpt-4o-mini-search-preview-2025-03-11)  (created, 1741390858)   \n",
       "40             (id, gpt-4o-mini-search-preview)  (created, 1741391161)   \n",
       "41                      (id, gpt-4o-transcribe)  (created, 1742068463)   \n",
       "42                 (id, gpt-4o-mini-transcribe)  (created, 1742068596)   \n",
       "43                        (id, gpt-4o-mini-tts)  (created, 1742403959)   \n",
       "44                     (id, gpt-4.1-2025-04-14)  (created, 1744315746)   \n",
       "45                                (id, gpt-4.1)  (created, 1744316542)   \n",
       "46                (id, gpt-4.1-mini-2025-04-14)  (created, 1744317547)   \n",
       "47                           (id, gpt-4.1-mini)  (created, 1744318173)   \n",
       "48                (id, gpt-4.1-nano-2025-04-14)  (created, 1744321025)   \n",
       "49                           (id, gpt-4.1-nano)  (created, 1744321707)   \n",
       "50                            (id, gpt-image-1)  (created, 1745517030)   \n",
       "51        (id, gpt-4o-audio-preview-2025-06-03)  (created, 1748908498)   \n",
       "\n",
       "             object                     owned_by  \n",
       "0   (object, model)  (owned_by, openai-internal)  \n",
       "1   (object, model)  (owned_by, openai-internal)  \n",
       "2   (object, model)           (owned_by, openai)  \n",
       "3   (object, model)  (owned_by, openai-internal)  \n",
       "4   (object, model)  (owned_by, openai-internal)  \n",
       "5   (object, model)           (owned_by, system)  \n",
       "6   (object, model)           (owned_by, system)  \n",
       "7   (object, model)           (owned_by, system)  \n",
       "8   (object, model)           (owned_by, system)  \n",
       "9   (object, model)           (owned_by, system)  \n",
       "10  (object, model)           (owned_by, system)  \n",
       "11  (object, model)           (owned_by, system)  \n",
       "12  (object, model)           (owned_by, system)  \n",
       "13  (object, model)           (owned_by, system)  \n",
       "14  (object, model)           (owned_by, system)  \n",
       "15  (object, model)           (owned_by, system)  \n",
       "16  (object, model)           (owned_by, system)  \n",
       "17  (object, model)           (owned_by, system)  \n",
       "18  (object, model)           (owned_by, system)  \n",
       "19  (object, model)           (owned_by, system)  \n",
       "20  (object, model)           (owned_by, system)  \n",
       "21  (object, model)           (owned_by, system)  \n",
       "22  (object, model)           (owned_by, system)  \n",
       "23  (object, model)           (owned_by, system)  \n",
       "24  (object, model)           (owned_by, system)  \n",
       "25  (object, model)           (owned_by, system)  \n",
       "26  (object, model)           (owned_by, system)  \n",
       "27  (object, model)           (owned_by, system)  \n",
       "28  (object, model)           (owned_by, system)  \n",
       "29  (object, model)           (owned_by, system)  \n",
       "30  (object, model)           (owned_by, system)  \n",
       "31  (object, model)           (owned_by, system)  \n",
       "32  (object, model)           (owned_by, system)  \n",
       "33  (object, model)           (owned_by, system)  \n",
       "34  (object, model)           (owned_by, system)  \n",
       "35  (object, model)           (owned_by, system)  \n",
       "36  (object, model)           (owned_by, system)  \n",
       "37  (object, model)           (owned_by, system)  \n",
       "38  (object, model)           (owned_by, system)  \n",
       "39  (object, model)           (owned_by, system)  \n",
       "40  (object, model)           (owned_by, system)  \n",
       "41  (object, model)           (owned_by, system)  \n",
       "42  (object, model)           (owned_by, system)  \n",
       "43  (object, model)           (owned_by, system)  \n",
       "44  (object, model)           (owned_by, system)  \n",
       "45  (object, model)           (owned_by, system)  \n",
       "46  (object, model)           (owned_by, system)  \n",
       "47  (object, model)           (owned_by, system)  \n",
       "48  (object, model)           (owned_by, system)  \n",
       "49  (object, model)           (owned_by, system)  \n",
       "50  (object, model)           (owned_by, system)  \n",
       "51  (object, model)           (owned_by, system)  "
      ]
     },
     "execution_count": 14,
     "metadata": {},
     "output_type": "execute_result"
    }
   ],
   "source": [
    "models"
   ]
  },
  {
   "cell_type": "code",
   "execution_count": 2,
   "id": "6cff4b4b-acbd-4aaa-87a5-ef963d6f1bdb",
   "metadata": {},
   "outputs": [],
   "source": [
    "from openai import OpenAI"
   ]
  },
  {
   "cell_type": "code",
   "execution_count": 15,
   "id": "bfaeeb04-9c04-4602-9adc-065e80b6ace6",
   "metadata": {
    "collapsed": true,
    "jupyter": {
     "outputs_hidden": true
    }
   },
   "outputs": [
    {
     "ename": "RateLimitError",
     "evalue": "Error code: 429 - {'error': {'message': 'You exceeded your current quota, please check your plan and billing details. For more information on this error, read the docs: https://platform.openai.com/docs/guides/error-codes/api-errors.', 'type': 'insufficient_quota', 'param': None, 'code': 'insufficient_quota'}}",
     "output_type": "error",
     "traceback": [
      "\u001b[1;31m---------------------------------------------------------------------------\u001b[0m",
      "\u001b[1;31mRateLimitError\u001b[0m                            Traceback (most recent call last)",
      "Cell \u001b[1;32mIn[15], line 7\u001b[0m\n\u001b[0;32m      1\u001b[0m \u001b[38;5;28;01mfrom\u001b[39;00m \u001b[38;5;21;01mopenai\u001b[39;00m \u001b[38;5;28;01mimport\u001b[39;00m OpenAI\n\u001b[0;32m      3\u001b[0m client \u001b[38;5;241m=\u001b[39m OpenAI(\n\u001b[0;32m      4\u001b[0m   api_key\u001b[38;5;241m=\u001b[39mmykey\n\u001b[0;32m      5\u001b[0m )\n\u001b[1;32m----> 7\u001b[0m completion \u001b[38;5;241m=\u001b[39m \u001b[43mclient\u001b[49m\u001b[38;5;241;43m.\u001b[39;49m\u001b[43mchat\u001b[49m\u001b[38;5;241;43m.\u001b[39;49m\u001b[43mcompletions\u001b[49m\u001b[38;5;241;43m.\u001b[39;49m\u001b[43mcreate\u001b[49m\u001b[43m(\u001b[49m\n\u001b[0;32m      8\u001b[0m \u001b[43m  \u001b[49m\u001b[43mmodel\u001b[49m\u001b[38;5;241;43m=\u001b[39;49m\u001b[38;5;124;43m\"\u001b[39;49m\u001b[38;5;124;43mgpt-4o-mini\u001b[39;49m\u001b[38;5;124;43m\"\u001b[39;49m\u001b[43m,\u001b[49m\n\u001b[0;32m      9\u001b[0m \u001b[43m  \u001b[49m\u001b[43mstore\u001b[49m\u001b[38;5;241;43m=\u001b[39;49m\u001b[38;5;28;43;01mTrue\u001b[39;49;00m\u001b[43m,\u001b[49m\n\u001b[0;32m     10\u001b[0m \u001b[43m  \u001b[49m\u001b[43mmessages\u001b[49m\u001b[38;5;241;43m=\u001b[39;49m\u001b[43m[\u001b[49m\n\u001b[0;32m     11\u001b[0m \u001b[43m    \u001b[49m\u001b[43m{\u001b[49m\u001b[38;5;124;43m\"\u001b[39;49m\u001b[38;5;124;43mrole\u001b[39;49m\u001b[38;5;124;43m\"\u001b[39;49m\u001b[43m:\u001b[49m\u001b[43m \u001b[49m\u001b[38;5;124;43m\"\u001b[39;49m\u001b[38;5;124;43muser\u001b[39;49m\u001b[38;5;124;43m\"\u001b[39;49m\u001b[43m,\u001b[49m\u001b[43m \u001b[49m\u001b[38;5;124;43m\"\u001b[39;49m\u001b[38;5;124;43mcontent\u001b[39;49m\u001b[38;5;124;43m\"\u001b[39;49m\u001b[43m:\u001b[49m\u001b[43m \u001b[49m\u001b[38;5;124;43m\"\u001b[39;49m\u001b[38;5;124;43mwrite a haiku about ai\u001b[39;49m\u001b[38;5;124;43m\"\u001b[39;49m\u001b[43m}\u001b[49m\n\u001b[0;32m     12\u001b[0m \u001b[43m  \u001b[49m\u001b[43m]\u001b[49m\n\u001b[0;32m     13\u001b[0m \u001b[43m)\u001b[49m\n\u001b[0;32m     15\u001b[0m \u001b[38;5;28mprint\u001b[39m(completion\u001b[38;5;241m.\u001b[39mchoices[\u001b[38;5;241m0\u001b[39m]\u001b[38;5;241m.\u001b[39mmessage);\n",
      "File \u001b[1;32mE:\\DataScience\\anaconda\\envs\\asif\\Lib\\site-packages\\openai\\_utils\\_utils.py:287\u001b[0m, in \u001b[0;36mrequired_args.<locals>.inner.<locals>.wrapper\u001b[1;34m(*args, **kwargs)\u001b[0m\n\u001b[0;32m    285\u001b[0m             msg \u001b[38;5;241m=\u001b[39m \u001b[38;5;124mf\u001b[39m\u001b[38;5;124m\"\u001b[39m\u001b[38;5;124mMissing required argument: \u001b[39m\u001b[38;5;132;01m{\u001b[39;00mquote(missing[\u001b[38;5;241m0\u001b[39m])\u001b[38;5;132;01m}\u001b[39;00m\u001b[38;5;124m\"\u001b[39m\n\u001b[0;32m    286\u001b[0m     \u001b[38;5;28;01mraise\u001b[39;00m \u001b[38;5;167;01mTypeError\u001b[39;00m(msg)\n\u001b[1;32m--> 287\u001b[0m \u001b[38;5;28;01mreturn\u001b[39;00m \u001b[43mfunc\u001b[49m\u001b[43m(\u001b[49m\u001b[38;5;241;43m*\u001b[39;49m\u001b[43margs\u001b[49m\u001b[43m,\u001b[49m\u001b[43m \u001b[49m\u001b[38;5;241;43m*\u001b[39;49m\u001b[38;5;241;43m*\u001b[39;49m\u001b[43mkwargs\u001b[49m\u001b[43m)\u001b[49m\n",
      "File \u001b[1;32mE:\\DataScience\\anaconda\\envs\\asif\\Lib\\site-packages\\openai\\resources\\chat\\completions\\completions.py:1087\u001b[0m, in \u001b[0;36mCompletions.create\u001b[1;34m(self, messages, model, audio, frequency_penalty, function_call, functions, logit_bias, logprobs, max_completion_tokens, max_tokens, metadata, modalities, n, parallel_tool_calls, prediction, presence_penalty, reasoning_effort, response_format, seed, service_tier, stop, store, stream, stream_options, temperature, tool_choice, tools, top_logprobs, top_p, user, web_search_options, extra_headers, extra_query, extra_body, timeout)\u001b[0m\n\u001b[0;32m   1044\u001b[0m \u001b[38;5;129m@required_args\u001b[39m([\u001b[38;5;124m\"\u001b[39m\u001b[38;5;124mmessages\u001b[39m\u001b[38;5;124m\"\u001b[39m, \u001b[38;5;124m\"\u001b[39m\u001b[38;5;124mmodel\u001b[39m\u001b[38;5;124m\"\u001b[39m], [\u001b[38;5;124m\"\u001b[39m\u001b[38;5;124mmessages\u001b[39m\u001b[38;5;124m\"\u001b[39m, \u001b[38;5;124m\"\u001b[39m\u001b[38;5;124mmodel\u001b[39m\u001b[38;5;124m\"\u001b[39m, \u001b[38;5;124m\"\u001b[39m\u001b[38;5;124mstream\u001b[39m\u001b[38;5;124m\"\u001b[39m])\n\u001b[0;32m   1045\u001b[0m \u001b[38;5;28;01mdef\u001b[39;00m \u001b[38;5;21mcreate\u001b[39m(\n\u001b[0;32m   1046\u001b[0m     \u001b[38;5;28mself\u001b[39m,\n\u001b[1;32m   (...)\u001b[0m\n\u001b[0;32m   1084\u001b[0m     timeout: \u001b[38;5;28mfloat\u001b[39m \u001b[38;5;241m|\u001b[39m httpx\u001b[38;5;241m.\u001b[39mTimeout \u001b[38;5;241m|\u001b[39m \u001b[38;5;28;01mNone\u001b[39;00m \u001b[38;5;241m|\u001b[39m NotGiven \u001b[38;5;241m=\u001b[39m NOT_GIVEN,\n\u001b[0;32m   1085\u001b[0m ) \u001b[38;5;241m-\u001b[39m\u001b[38;5;241m>\u001b[39m ChatCompletion \u001b[38;5;241m|\u001b[39m Stream[ChatCompletionChunk]:\n\u001b[0;32m   1086\u001b[0m     validate_response_format(response_format)\n\u001b[1;32m-> 1087\u001b[0m     \u001b[38;5;28;01mreturn\u001b[39;00m \u001b[38;5;28;43mself\u001b[39;49m\u001b[38;5;241;43m.\u001b[39;49m\u001b[43m_post\u001b[49m\u001b[43m(\u001b[49m\n\u001b[0;32m   1088\u001b[0m \u001b[43m        \u001b[49m\u001b[38;5;124;43m\"\u001b[39;49m\u001b[38;5;124;43m/chat/completions\u001b[39;49m\u001b[38;5;124;43m\"\u001b[39;49m\u001b[43m,\u001b[49m\n\u001b[0;32m   1089\u001b[0m \u001b[43m        \u001b[49m\u001b[43mbody\u001b[49m\u001b[38;5;241;43m=\u001b[39;49m\u001b[43mmaybe_transform\u001b[49m\u001b[43m(\u001b[49m\n\u001b[0;32m   1090\u001b[0m \u001b[43m            \u001b[49m\u001b[43m{\u001b[49m\n\u001b[0;32m   1091\u001b[0m \u001b[43m                \u001b[49m\u001b[38;5;124;43m\"\u001b[39;49m\u001b[38;5;124;43mmessages\u001b[39;49m\u001b[38;5;124;43m\"\u001b[39;49m\u001b[43m:\u001b[49m\u001b[43m \u001b[49m\u001b[43mmessages\u001b[49m\u001b[43m,\u001b[49m\n\u001b[0;32m   1092\u001b[0m \u001b[43m                \u001b[49m\u001b[38;5;124;43m\"\u001b[39;49m\u001b[38;5;124;43mmodel\u001b[39;49m\u001b[38;5;124;43m\"\u001b[39;49m\u001b[43m:\u001b[49m\u001b[43m \u001b[49m\u001b[43mmodel\u001b[49m\u001b[43m,\u001b[49m\n\u001b[0;32m   1093\u001b[0m \u001b[43m                \u001b[49m\u001b[38;5;124;43m\"\u001b[39;49m\u001b[38;5;124;43maudio\u001b[39;49m\u001b[38;5;124;43m\"\u001b[39;49m\u001b[43m:\u001b[49m\u001b[43m \u001b[49m\u001b[43maudio\u001b[49m\u001b[43m,\u001b[49m\n\u001b[0;32m   1094\u001b[0m \u001b[43m                \u001b[49m\u001b[38;5;124;43m\"\u001b[39;49m\u001b[38;5;124;43mfrequency_penalty\u001b[39;49m\u001b[38;5;124;43m\"\u001b[39;49m\u001b[43m:\u001b[49m\u001b[43m \u001b[49m\u001b[43mfrequency_penalty\u001b[49m\u001b[43m,\u001b[49m\n\u001b[0;32m   1095\u001b[0m \u001b[43m                \u001b[49m\u001b[38;5;124;43m\"\u001b[39;49m\u001b[38;5;124;43mfunction_call\u001b[39;49m\u001b[38;5;124;43m\"\u001b[39;49m\u001b[43m:\u001b[49m\u001b[43m \u001b[49m\u001b[43mfunction_call\u001b[49m\u001b[43m,\u001b[49m\n\u001b[0;32m   1096\u001b[0m \u001b[43m                \u001b[49m\u001b[38;5;124;43m\"\u001b[39;49m\u001b[38;5;124;43mfunctions\u001b[39;49m\u001b[38;5;124;43m\"\u001b[39;49m\u001b[43m:\u001b[49m\u001b[43m \u001b[49m\u001b[43mfunctions\u001b[49m\u001b[43m,\u001b[49m\n\u001b[0;32m   1097\u001b[0m \u001b[43m                \u001b[49m\u001b[38;5;124;43m\"\u001b[39;49m\u001b[38;5;124;43mlogit_bias\u001b[39;49m\u001b[38;5;124;43m\"\u001b[39;49m\u001b[43m:\u001b[49m\u001b[43m \u001b[49m\u001b[43mlogit_bias\u001b[49m\u001b[43m,\u001b[49m\n\u001b[0;32m   1098\u001b[0m \u001b[43m                \u001b[49m\u001b[38;5;124;43m\"\u001b[39;49m\u001b[38;5;124;43mlogprobs\u001b[39;49m\u001b[38;5;124;43m\"\u001b[39;49m\u001b[43m:\u001b[49m\u001b[43m \u001b[49m\u001b[43mlogprobs\u001b[49m\u001b[43m,\u001b[49m\n\u001b[0;32m   1099\u001b[0m \u001b[43m                \u001b[49m\u001b[38;5;124;43m\"\u001b[39;49m\u001b[38;5;124;43mmax_completion_tokens\u001b[39;49m\u001b[38;5;124;43m\"\u001b[39;49m\u001b[43m:\u001b[49m\u001b[43m \u001b[49m\u001b[43mmax_completion_tokens\u001b[49m\u001b[43m,\u001b[49m\n\u001b[0;32m   1100\u001b[0m \u001b[43m                \u001b[49m\u001b[38;5;124;43m\"\u001b[39;49m\u001b[38;5;124;43mmax_tokens\u001b[39;49m\u001b[38;5;124;43m\"\u001b[39;49m\u001b[43m:\u001b[49m\u001b[43m \u001b[49m\u001b[43mmax_tokens\u001b[49m\u001b[43m,\u001b[49m\n\u001b[0;32m   1101\u001b[0m \u001b[43m                \u001b[49m\u001b[38;5;124;43m\"\u001b[39;49m\u001b[38;5;124;43mmetadata\u001b[39;49m\u001b[38;5;124;43m\"\u001b[39;49m\u001b[43m:\u001b[49m\u001b[43m \u001b[49m\u001b[43mmetadata\u001b[49m\u001b[43m,\u001b[49m\n\u001b[0;32m   1102\u001b[0m \u001b[43m                \u001b[49m\u001b[38;5;124;43m\"\u001b[39;49m\u001b[38;5;124;43mmodalities\u001b[39;49m\u001b[38;5;124;43m\"\u001b[39;49m\u001b[43m:\u001b[49m\u001b[43m \u001b[49m\u001b[43mmodalities\u001b[49m\u001b[43m,\u001b[49m\n\u001b[0;32m   1103\u001b[0m \u001b[43m                \u001b[49m\u001b[38;5;124;43m\"\u001b[39;49m\u001b[38;5;124;43mn\u001b[39;49m\u001b[38;5;124;43m\"\u001b[39;49m\u001b[43m:\u001b[49m\u001b[43m \u001b[49m\u001b[43mn\u001b[49m\u001b[43m,\u001b[49m\n\u001b[0;32m   1104\u001b[0m \u001b[43m                \u001b[49m\u001b[38;5;124;43m\"\u001b[39;49m\u001b[38;5;124;43mparallel_tool_calls\u001b[39;49m\u001b[38;5;124;43m\"\u001b[39;49m\u001b[43m:\u001b[49m\u001b[43m \u001b[49m\u001b[43mparallel_tool_calls\u001b[49m\u001b[43m,\u001b[49m\n\u001b[0;32m   1105\u001b[0m \u001b[43m                \u001b[49m\u001b[38;5;124;43m\"\u001b[39;49m\u001b[38;5;124;43mprediction\u001b[39;49m\u001b[38;5;124;43m\"\u001b[39;49m\u001b[43m:\u001b[49m\u001b[43m \u001b[49m\u001b[43mprediction\u001b[49m\u001b[43m,\u001b[49m\n\u001b[0;32m   1106\u001b[0m \u001b[43m                \u001b[49m\u001b[38;5;124;43m\"\u001b[39;49m\u001b[38;5;124;43mpresence_penalty\u001b[39;49m\u001b[38;5;124;43m\"\u001b[39;49m\u001b[43m:\u001b[49m\u001b[43m \u001b[49m\u001b[43mpresence_penalty\u001b[49m\u001b[43m,\u001b[49m\n\u001b[0;32m   1107\u001b[0m \u001b[43m                \u001b[49m\u001b[38;5;124;43m\"\u001b[39;49m\u001b[38;5;124;43mreasoning_effort\u001b[39;49m\u001b[38;5;124;43m\"\u001b[39;49m\u001b[43m:\u001b[49m\u001b[43m \u001b[49m\u001b[43mreasoning_effort\u001b[49m\u001b[43m,\u001b[49m\n\u001b[0;32m   1108\u001b[0m \u001b[43m                \u001b[49m\u001b[38;5;124;43m\"\u001b[39;49m\u001b[38;5;124;43mresponse_format\u001b[39;49m\u001b[38;5;124;43m\"\u001b[39;49m\u001b[43m:\u001b[49m\u001b[43m \u001b[49m\u001b[43mresponse_format\u001b[49m\u001b[43m,\u001b[49m\n\u001b[0;32m   1109\u001b[0m \u001b[43m                \u001b[49m\u001b[38;5;124;43m\"\u001b[39;49m\u001b[38;5;124;43mseed\u001b[39;49m\u001b[38;5;124;43m\"\u001b[39;49m\u001b[43m:\u001b[49m\u001b[43m \u001b[49m\u001b[43mseed\u001b[49m\u001b[43m,\u001b[49m\n\u001b[0;32m   1110\u001b[0m \u001b[43m                \u001b[49m\u001b[38;5;124;43m\"\u001b[39;49m\u001b[38;5;124;43mservice_tier\u001b[39;49m\u001b[38;5;124;43m\"\u001b[39;49m\u001b[43m:\u001b[49m\u001b[43m \u001b[49m\u001b[43mservice_tier\u001b[49m\u001b[43m,\u001b[49m\n\u001b[0;32m   1111\u001b[0m \u001b[43m                \u001b[49m\u001b[38;5;124;43m\"\u001b[39;49m\u001b[38;5;124;43mstop\u001b[39;49m\u001b[38;5;124;43m\"\u001b[39;49m\u001b[43m:\u001b[49m\u001b[43m \u001b[49m\u001b[43mstop\u001b[49m\u001b[43m,\u001b[49m\n\u001b[0;32m   1112\u001b[0m \u001b[43m                \u001b[49m\u001b[38;5;124;43m\"\u001b[39;49m\u001b[38;5;124;43mstore\u001b[39;49m\u001b[38;5;124;43m\"\u001b[39;49m\u001b[43m:\u001b[49m\u001b[43m \u001b[49m\u001b[43mstore\u001b[49m\u001b[43m,\u001b[49m\n\u001b[0;32m   1113\u001b[0m \u001b[43m                \u001b[49m\u001b[38;5;124;43m\"\u001b[39;49m\u001b[38;5;124;43mstream\u001b[39;49m\u001b[38;5;124;43m\"\u001b[39;49m\u001b[43m:\u001b[49m\u001b[43m \u001b[49m\u001b[43mstream\u001b[49m\u001b[43m,\u001b[49m\n\u001b[0;32m   1114\u001b[0m \u001b[43m                \u001b[49m\u001b[38;5;124;43m\"\u001b[39;49m\u001b[38;5;124;43mstream_options\u001b[39;49m\u001b[38;5;124;43m\"\u001b[39;49m\u001b[43m:\u001b[49m\u001b[43m \u001b[49m\u001b[43mstream_options\u001b[49m\u001b[43m,\u001b[49m\n\u001b[0;32m   1115\u001b[0m \u001b[43m                \u001b[49m\u001b[38;5;124;43m\"\u001b[39;49m\u001b[38;5;124;43mtemperature\u001b[39;49m\u001b[38;5;124;43m\"\u001b[39;49m\u001b[43m:\u001b[49m\u001b[43m \u001b[49m\u001b[43mtemperature\u001b[49m\u001b[43m,\u001b[49m\n\u001b[0;32m   1116\u001b[0m \u001b[43m                \u001b[49m\u001b[38;5;124;43m\"\u001b[39;49m\u001b[38;5;124;43mtool_choice\u001b[39;49m\u001b[38;5;124;43m\"\u001b[39;49m\u001b[43m:\u001b[49m\u001b[43m \u001b[49m\u001b[43mtool_choice\u001b[49m\u001b[43m,\u001b[49m\n\u001b[0;32m   1117\u001b[0m \u001b[43m                \u001b[49m\u001b[38;5;124;43m\"\u001b[39;49m\u001b[38;5;124;43mtools\u001b[39;49m\u001b[38;5;124;43m\"\u001b[39;49m\u001b[43m:\u001b[49m\u001b[43m \u001b[49m\u001b[43mtools\u001b[49m\u001b[43m,\u001b[49m\n\u001b[0;32m   1118\u001b[0m \u001b[43m                \u001b[49m\u001b[38;5;124;43m\"\u001b[39;49m\u001b[38;5;124;43mtop_logprobs\u001b[39;49m\u001b[38;5;124;43m\"\u001b[39;49m\u001b[43m:\u001b[49m\u001b[43m \u001b[49m\u001b[43mtop_logprobs\u001b[49m\u001b[43m,\u001b[49m\n\u001b[0;32m   1119\u001b[0m \u001b[43m                \u001b[49m\u001b[38;5;124;43m\"\u001b[39;49m\u001b[38;5;124;43mtop_p\u001b[39;49m\u001b[38;5;124;43m\"\u001b[39;49m\u001b[43m:\u001b[49m\u001b[43m \u001b[49m\u001b[43mtop_p\u001b[49m\u001b[43m,\u001b[49m\n\u001b[0;32m   1120\u001b[0m \u001b[43m                \u001b[49m\u001b[38;5;124;43m\"\u001b[39;49m\u001b[38;5;124;43muser\u001b[39;49m\u001b[38;5;124;43m\"\u001b[39;49m\u001b[43m:\u001b[49m\u001b[43m \u001b[49m\u001b[43muser\u001b[49m\u001b[43m,\u001b[49m\n\u001b[0;32m   1121\u001b[0m \u001b[43m                \u001b[49m\u001b[38;5;124;43m\"\u001b[39;49m\u001b[38;5;124;43mweb_search_options\u001b[39;49m\u001b[38;5;124;43m\"\u001b[39;49m\u001b[43m:\u001b[49m\u001b[43m \u001b[49m\u001b[43mweb_search_options\u001b[49m\u001b[43m,\u001b[49m\n\u001b[0;32m   1122\u001b[0m \u001b[43m            \u001b[49m\u001b[43m}\u001b[49m\u001b[43m,\u001b[49m\n\u001b[0;32m   1123\u001b[0m \u001b[43m            \u001b[49m\u001b[43mcompletion_create_params\u001b[49m\u001b[38;5;241;43m.\u001b[39;49m\u001b[43mCompletionCreateParamsStreaming\u001b[49m\n\u001b[0;32m   1124\u001b[0m \u001b[43m            \u001b[49m\u001b[38;5;28;43;01mif\u001b[39;49;00m\u001b[43m \u001b[49m\u001b[43mstream\u001b[49m\n\u001b[0;32m   1125\u001b[0m \u001b[43m            \u001b[49m\u001b[38;5;28;43;01melse\u001b[39;49;00m\u001b[43m \u001b[49m\u001b[43mcompletion_create_params\u001b[49m\u001b[38;5;241;43m.\u001b[39;49m\u001b[43mCompletionCreateParamsNonStreaming\u001b[49m\u001b[43m,\u001b[49m\n\u001b[0;32m   1126\u001b[0m \u001b[43m        \u001b[49m\u001b[43m)\u001b[49m\u001b[43m,\u001b[49m\n\u001b[0;32m   1127\u001b[0m \u001b[43m        \u001b[49m\u001b[43moptions\u001b[49m\u001b[38;5;241;43m=\u001b[39;49m\u001b[43mmake_request_options\u001b[49m\u001b[43m(\u001b[49m\n\u001b[0;32m   1128\u001b[0m \u001b[43m            \u001b[49m\u001b[43mextra_headers\u001b[49m\u001b[38;5;241;43m=\u001b[39;49m\u001b[43mextra_headers\u001b[49m\u001b[43m,\u001b[49m\u001b[43m \u001b[49m\u001b[43mextra_query\u001b[49m\u001b[38;5;241;43m=\u001b[39;49m\u001b[43mextra_query\u001b[49m\u001b[43m,\u001b[49m\u001b[43m \u001b[49m\u001b[43mextra_body\u001b[49m\u001b[38;5;241;43m=\u001b[39;49m\u001b[43mextra_body\u001b[49m\u001b[43m,\u001b[49m\u001b[43m \u001b[49m\u001b[43mtimeout\u001b[49m\u001b[38;5;241;43m=\u001b[39;49m\u001b[43mtimeout\u001b[49m\n\u001b[0;32m   1129\u001b[0m \u001b[43m        \u001b[49m\u001b[43m)\u001b[49m\u001b[43m,\u001b[49m\n\u001b[0;32m   1130\u001b[0m \u001b[43m        \u001b[49m\u001b[43mcast_to\u001b[49m\u001b[38;5;241;43m=\u001b[39;49m\u001b[43mChatCompletion\u001b[49m\u001b[43m,\u001b[49m\n\u001b[0;32m   1131\u001b[0m \u001b[43m        \u001b[49m\u001b[43mstream\u001b[49m\u001b[38;5;241;43m=\u001b[39;49m\u001b[43mstream\u001b[49m\u001b[43m \u001b[49m\u001b[38;5;129;43;01mor\u001b[39;49;00m\u001b[43m \u001b[49m\u001b[38;5;28;43;01mFalse\u001b[39;49;00m\u001b[43m,\u001b[49m\n\u001b[0;32m   1132\u001b[0m \u001b[43m        \u001b[49m\u001b[43mstream_cls\u001b[49m\u001b[38;5;241;43m=\u001b[39;49m\u001b[43mStream\u001b[49m\u001b[43m[\u001b[49m\u001b[43mChatCompletionChunk\u001b[49m\u001b[43m]\u001b[49m\u001b[43m,\u001b[49m\n\u001b[0;32m   1133\u001b[0m \u001b[43m    \u001b[49m\u001b[43m)\u001b[49m\n",
      "File \u001b[1;32mE:\\DataScience\\anaconda\\envs\\asif\\Lib\\site-packages\\openai\\_base_client.py:1256\u001b[0m, in \u001b[0;36mSyncAPIClient.post\u001b[1;34m(self, path, cast_to, body, options, files, stream, stream_cls)\u001b[0m\n\u001b[0;32m   1242\u001b[0m \u001b[38;5;28;01mdef\u001b[39;00m \u001b[38;5;21mpost\u001b[39m(\n\u001b[0;32m   1243\u001b[0m     \u001b[38;5;28mself\u001b[39m,\n\u001b[0;32m   1244\u001b[0m     path: \u001b[38;5;28mstr\u001b[39m,\n\u001b[1;32m   (...)\u001b[0m\n\u001b[0;32m   1251\u001b[0m     stream_cls: \u001b[38;5;28mtype\u001b[39m[_StreamT] \u001b[38;5;241m|\u001b[39m \u001b[38;5;28;01mNone\u001b[39;00m \u001b[38;5;241m=\u001b[39m \u001b[38;5;28;01mNone\u001b[39;00m,\n\u001b[0;32m   1252\u001b[0m ) \u001b[38;5;241m-\u001b[39m\u001b[38;5;241m>\u001b[39m ResponseT \u001b[38;5;241m|\u001b[39m _StreamT:\n\u001b[0;32m   1253\u001b[0m     opts \u001b[38;5;241m=\u001b[39m FinalRequestOptions\u001b[38;5;241m.\u001b[39mconstruct(\n\u001b[0;32m   1254\u001b[0m         method\u001b[38;5;241m=\u001b[39m\u001b[38;5;124m\"\u001b[39m\u001b[38;5;124mpost\u001b[39m\u001b[38;5;124m\"\u001b[39m, url\u001b[38;5;241m=\u001b[39mpath, json_data\u001b[38;5;241m=\u001b[39mbody, files\u001b[38;5;241m=\u001b[39mto_httpx_files(files), \u001b[38;5;241m*\u001b[39m\u001b[38;5;241m*\u001b[39moptions\n\u001b[0;32m   1255\u001b[0m     )\n\u001b[1;32m-> 1256\u001b[0m     \u001b[38;5;28;01mreturn\u001b[39;00m cast(ResponseT, \u001b[38;5;28;43mself\u001b[39;49m\u001b[38;5;241;43m.\u001b[39;49m\u001b[43mrequest\u001b[49m\u001b[43m(\u001b[49m\u001b[43mcast_to\u001b[49m\u001b[43m,\u001b[49m\u001b[43m \u001b[49m\u001b[43mopts\u001b[49m\u001b[43m,\u001b[49m\u001b[43m \u001b[49m\u001b[43mstream\u001b[49m\u001b[38;5;241;43m=\u001b[39;49m\u001b[43mstream\u001b[49m\u001b[43m,\u001b[49m\u001b[43m \u001b[49m\u001b[43mstream_cls\u001b[49m\u001b[38;5;241;43m=\u001b[39;49m\u001b[43mstream_cls\u001b[49m\u001b[43m)\u001b[49m)\n",
      "File \u001b[1;32mE:\\DataScience\\anaconda\\envs\\asif\\Lib\\site-packages\\openai\\_base_client.py:1044\u001b[0m, in \u001b[0;36mSyncAPIClient.request\u001b[1;34m(self, cast_to, options, stream, stream_cls)\u001b[0m\n\u001b[0;32m   1041\u001b[0m             err\u001b[38;5;241m.\u001b[39mresponse\u001b[38;5;241m.\u001b[39mread()\n\u001b[0;32m   1043\u001b[0m         log\u001b[38;5;241m.\u001b[39mdebug(\u001b[38;5;124m\"\u001b[39m\u001b[38;5;124mRe-raising status error\u001b[39m\u001b[38;5;124m\"\u001b[39m)\n\u001b[1;32m-> 1044\u001b[0m         \u001b[38;5;28;01mraise\u001b[39;00m \u001b[38;5;28mself\u001b[39m\u001b[38;5;241m.\u001b[39m_make_status_error_from_response(err\u001b[38;5;241m.\u001b[39mresponse) \u001b[38;5;28;01mfrom\u001b[39;00m \u001b[38;5;28;01mNone\u001b[39;00m\n\u001b[0;32m   1046\u001b[0m     \u001b[38;5;28;01mbreak\u001b[39;00m\n\u001b[0;32m   1048\u001b[0m \u001b[38;5;28;01massert\u001b[39;00m response \u001b[38;5;129;01mis\u001b[39;00m \u001b[38;5;129;01mnot\u001b[39;00m \u001b[38;5;28;01mNone\u001b[39;00m, \u001b[38;5;124m\"\u001b[39m\u001b[38;5;124mcould not resolve response (should never happen)\u001b[39m\u001b[38;5;124m\"\u001b[39m\n",
      "\u001b[1;31mRateLimitError\u001b[0m: Error code: 429 - {'error': {'message': 'You exceeded your current quota, please check your plan and billing details. For more information on this error, read the docs: https://platform.openai.com/docs/guides/error-codes/api-errors.', 'type': 'insufficient_quota', 'param': None, 'code': 'insufficient_quota'}}"
     ]
    }
   ],
   "source": [
    "from openai import OpenAI\n",
    "\n",
    "client = OpenAI(\n",
    "  api_key=mykey\n",
    ")\n",
    "\n",
    "completion = client.chat.completions.create(\n",
    "  model=\"gpt-4o-mini\",\n",
    "  store=True,\n",
    "  messages=[\n",
    "    {\"role\": \"user\", \"content\": \"write a haiku about ai\"}\n",
    "  ]\n",
    ")\n",
    "\n",
    "print(completion.choices[0].message);\n"
   ]
  },
  {
   "cell_type": "code",
   "execution_count": null,
   "id": "65f8e488-3f13-4f30-8926-8ebec7b3421f",
   "metadata": {},
   "outputs": [],
   "source": []
  },
  {
   "cell_type": "markdown",
   "id": "fbf0bc23-9fdb-42b6-8b20-52d6c2903bb4",
   "metadata": {},
   "source": [
    "# LangChain"
   ]
  },
  {
   "cell_type": "code",
   "execution_count": 3,
   "id": "3001cb5b-f371-46ef-8b7d-8acb3a53cdbf",
   "metadata": {
    "collapsed": true,
    "jupyter": {
     "outputs_hidden": true
    }
   },
   "outputs": [
    {
     "name": "stdout",
     "output_type": "stream",
     "text": [
      "Collecting langchainNote: you may need to restart the kernel to use updated packages.\n",
      "\n",
      "  Using cached langchain-0.3.26-py3-none-any.whl.metadata (7.8 kB)\n",
      "Collecting langchain-core<1.0.0,>=0.3.66 (from langchain)\n",
      "  Using cached langchain_core-0.3.68-py3-none-any.whl.metadata (5.8 kB)\n",
      "Collecting langchain-text-splitters<1.0.0,>=0.3.8 (from langchain)\n",
      "  Using cached langchain_text_splitters-0.3.8-py3-none-any.whl.metadata (1.9 kB)\n",
      "Collecting langsmith>=0.1.17 (from langchain)\n",
      "  Using cached langsmith-0.4.5-py3-none-any.whl.metadata (15 kB)\n",
      "Requirement already satisfied: pydantic<3.0.0,>=2.7.4 in e:\\datascience\\anaconda\\envs\\asif\\lib\\site-packages (from langchain) (2.10.6)\n",
      "Collecting SQLAlchemy<3,>=1.4 (from langchain)\n",
      "  Downloading sqlalchemy-2.0.41-cp312-cp312-win_amd64.whl.metadata (9.8 kB)\n",
      "Requirement already satisfied: requests<3,>=2 in e:\\datascience\\anaconda\\envs\\asif\\lib\\site-packages (from langchain) (2.32.3)\n",
      "Requirement already satisfied: PyYAML>=5.3 in e:\\datascience\\anaconda\\envs\\asif\\lib\\site-packages (from langchain) (6.0.1)\n",
      "Requirement already satisfied: tenacity!=8.4.0,<10.0.0,>=8.1.0 in e:\\datascience\\anaconda\\envs\\asif\\lib\\site-packages (from langchain-core<1.0.0,>=0.3.66->langchain) (9.0.0)\n",
      "Collecting jsonpatch<2.0,>=1.33 (from langchain-core<1.0.0,>=0.3.66->langchain)\n",
      "  Using cached jsonpatch-1.33-py2.py3-none-any.whl.metadata (3.0 kB)\n",
      "Requirement already satisfied: packaging<25,>=23.2 in c:\\users\\asif\\appdata\\roaming\\python\\python312\\site-packages (from langchain-core<1.0.0,>=0.3.66->langchain) (23.2)\n",
      "Requirement already satisfied: typing-extensions>=4.7 in e:\\datascience\\anaconda\\envs\\asif\\lib\\site-packages (from langchain-core<1.0.0,>=0.3.66->langchain) (4.12.2)\n",
      "Requirement already satisfied: httpx<1,>=0.23.0 in e:\\datascience\\anaconda\\envs\\asif\\lib\\site-packages (from langsmith>=0.1.17->langchain) (0.27.0)\n",
      "Collecting orjson<4.0.0,>=3.9.14 (from langsmith>=0.1.17->langchain)\n",
      "  Downloading orjson-3.11.0-cp312-cp312-win_amd64.whl.metadata (43 kB)\n",
      "Collecting requests-toolbelt<2.0.0,>=1.0.0 (from langsmith>=0.1.17->langchain)\n",
      "  Using cached requests_toolbelt-1.0.0-py2.py3-none-any.whl.metadata (14 kB)\n",
      "Collecting zstandard<0.24.0,>=0.23.0 (from langsmith>=0.1.17->langchain)\n",
      "  Downloading zstandard-0.23.0-cp312-cp312-win_amd64.whl.metadata (3.0 kB)\n",
      "Requirement already satisfied: annotated-types>=0.6.0 in e:\\datascience\\anaconda\\envs\\asif\\lib\\site-packages (from pydantic<3.0.0,>=2.7.4->langchain) (0.7.0)\n",
      "Requirement already satisfied: pydantic-core==2.27.2 in e:\\datascience\\anaconda\\envs\\asif\\lib\\site-packages (from pydantic<3.0.0,>=2.7.4->langchain) (2.27.2)\n",
      "Requirement already satisfied: charset-normalizer<4,>=2 in e:\\datascience\\anaconda\\envs\\asif\\lib\\site-packages (from requests<3,>=2->langchain) (3.3.2)\n",
      "Requirement already satisfied: idna<4,>=2.5 in e:\\datascience\\anaconda\\envs\\asif\\lib\\site-packages (from requests<3,>=2->langchain) (3.7)\n",
      "Requirement already satisfied: urllib3<3,>=1.21.1 in e:\\datascience\\anaconda\\envs\\asif\\lib\\site-packages (from requests<3,>=2->langchain) (2.2.2)\n",
      "Requirement already satisfied: certifi>=2017.4.17 in e:\\datascience\\anaconda\\envs\\asif\\lib\\site-packages (from requests<3,>=2->langchain) (2024.8.30)\n",
      "Collecting greenlet>=1 (from SQLAlchemy<3,>=1.4->langchain)\n",
      "  Downloading greenlet-3.2.3-cp312-cp312-win_amd64.whl.metadata (4.2 kB)\n",
      "Requirement already satisfied: anyio in e:\\datascience\\anaconda\\envs\\asif\\lib\\site-packages (from httpx<1,>=0.23.0->langsmith>=0.1.17->langchain) (4.2.0)\n",
      "Requirement already satisfied: httpcore==1.* in e:\\datascience\\anaconda\\envs\\asif\\lib\\site-packages (from httpx<1,>=0.23.0->langsmith>=0.1.17->langchain) (1.0.2)\n",
      "Requirement already satisfied: sniffio in e:\\datascience\\anaconda\\envs\\asif\\lib\\site-packages (from httpx<1,>=0.23.0->langsmith>=0.1.17->langchain) (1.3.0)\n",
      "Requirement already satisfied: h11<0.15,>=0.13 in e:\\datascience\\anaconda\\envs\\asif\\lib\\site-packages (from httpcore==1.*->httpx<1,>=0.23.0->langsmith>=0.1.17->langchain) (0.14.0)\n",
      "Collecting jsonpointer>=1.9 (from jsonpatch<2.0,>=1.33->langchain-core<1.0.0,>=0.3.66->langchain)\n",
      "  Using cached jsonpointer-3.0.0-py2.py3-none-any.whl.metadata (2.3 kB)\n",
      "Using cached langchain-0.3.26-py3-none-any.whl (1.0 MB)\n",
      "Using cached langchain_core-0.3.68-py3-none-any.whl (441 kB)\n",
      "Using cached langchain_text_splitters-0.3.8-py3-none-any.whl (32 kB)\n",
      "Using cached langsmith-0.4.5-py3-none-any.whl (367 kB)\n",
      "Downloading sqlalchemy-2.0.41-cp312-cp312-win_amd64.whl (2.1 MB)\n",
      "   ---------------------------------------- 0.0/2.1 MB ? eta -:--:--\n",
      "   ---------------------------------------- 0.0/2.1 MB ? eta -:--:--\n",
      "   ---------------------------------------- 0.0/2.1 MB ? eta -:--:--\n",
      "   ---------------------------------------- 0.0/2.1 MB ? eta -:--:--\n",
      "   ---------------------------------------- 0.0/2.1 MB ? eta -:--:--\n",
      "   ---------------------------------------- 0.0/2.1 MB ? eta -:--:--\n",
      "   ---------------------------------------- 0.0/2.1 MB ? eta -:--:--\n",
      "   ---------------------------------------- 0.0/2.1 MB ? eta -:--:--\n",
      "   ---------------------------------------- 0.0/2.1 MB ? eta -:--:--\n",
      "   ---- ----------------------------------- 0.3/2.1 MB ? eta -:--:--\n",
      "   ---- ----------------------------------- 0.3/2.1 MB ? eta -:--:--\n",
      "   ---- ----------------------------------- 0.3/2.1 MB ? eta -:--:--\n",
      "   ---- ----------------------------------- 0.3/2.1 MB ? eta -:--:--\n",
      "   ---- ----------------------------------- 0.3/2.1 MB ? eta -:--:--\n",
      "   ---- ----------------------------------- 0.3/2.1 MB ? eta -:--:--\n",
      "   ---- ----------------------------------- 0.3/2.1 MB ? eta -:--:--\n",
      "   ---- ----------------------------------- 0.3/2.1 MB ? eta -:--:--\n",
      "   ---- ----------------------------------- 0.3/2.1 MB ? eta -:--:--\n",
      "   ---- ----------------------------------- 0.3/2.1 MB ? eta -:--:--\n",
      "   ---- ----------------------------------- 0.3/2.1 MB ? eta -:--:--\n",
      "   ---- ----------------------------------- 0.3/2.1 MB ? eta -:--:--\n",
      "   --------- ------------------------------ 0.5/2.1 MB 101.7 kB/s eta 0:00:16\n",
      "   --------- ------------------------------ 0.5/2.1 MB 101.7 kB/s eta 0:00:16\n",
      "   --------- ------------------------------ 0.5/2.1 MB 101.7 kB/s eta 0:00:16\n",
      "   --------- ------------------------------ 0.5/2.1 MB 101.7 kB/s eta 0:00:16\n",
      "   --------- ------------------------------ 0.5/2.1 MB 101.7 kB/s eta 0:00:16\n",
      "   --------- ------------------------------ 0.5/2.1 MB 101.7 kB/s eta 0:00:16\n",
      "   --------- ------------------------------ 0.5/2.1 MB 101.7 kB/s eta 0:00:16\n",
      "   --------- ------------------------------ 0.5/2.1 MB 101.7 kB/s eta 0:00:16\n",
      "   --------- ------------------------------ 0.5/2.1 MB 101.7 kB/s eta 0:00:16\n",
      "   --------- ------------------------------ 0.5/2.1 MB 101.7 kB/s eta 0:00:16\n",
      "   --------- ------------------------------ 0.5/2.1 MB 101.7 kB/s eta 0:00:16\n",
      "   --------- ------------------------------ 0.5/2.1 MB 101.7 kB/s eta 0:00:16\n",
      "   --------- ------------------------------ 0.5/2.1 MB 101.7 kB/s eta 0:00:16\n",
      "   --------- ------------------------------ 0.5/2.1 MB 101.7 kB/s eta 0:00:16\n",
      "   --------- ------------------------------ 0.5/2.1 MB 101.7 kB/s eta 0:00:16\n",
      "   --------- ------------------------------ 0.5/2.1 MB 101.7 kB/s eta 0:00:16\n",
      "   --------- ------------------------------ 0.5/2.1 MB 101.7 kB/s eta 0:00:16\n",
      "   --------- ------------------------------ 0.5/2.1 MB 101.7 kB/s eta 0:00:16\n",
      "   --------- ------------------------------ 0.5/2.1 MB 101.7 kB/s eta 0:00:16\n",
      "   --------- ------------------------------ 0.5/2.1 MB 101.7 kB/s eta 0:00:16\n",
      "   -------------- ------------------------- 0.8/2.1 MB 77.3 kB/s eta 0:00:18\n",
      "   -------------- ------------------------- 0.8/2.1 MB 77.3 kB/s eta 0:00:18\n",
      "   -------------- ------------------------- 0.8/2.1 MB 77.3 kB/s eta 0:00:18\n",
      "   -------------- ------------------------- 0.8/2.1 MB 77.3 kB/s eta 0:00:18\n",
      "   -------------- ------------------------- 0.8/2.1 MB 77.3 kB/s eta 0:00:18\n",
      "   -------------- ------------------------- 0.8/2.1 MB 77.3 kB/s eta 0:00:18\n",
      "   -------------- ------------------------- 0.8/2.1 MB 77.3 kB/s eta 0:00:18\n",
      "   -------------- ------------------------- 0.8/2.1 MB 77.3 kB/s eta 0:00:18\n",
      "   -------------- ------------------------- 0.8/2.1 MB 77.3 kB/s eta 0:00:18\n",
      "   ------------------- -------------------- 1.0/2.1 MB 88.9 kB/s eta 0:00:12\n",
      "   ------------------- -------------------- 1.0/2.1 MB 88.9 kB/s eta 0:00:12\n",
      "   ------------------- -------------------- 1.0/2.1 MB 88.9 kB/s eta 0:00:12\n",
      "   ------------------- -------------------- 1.0/2.1 MB 88.9 kB/s eta 0:00:12\n",
      "   ------------------- -------------------- 1.0/2.1 MB 88.9 kB/s eta 0:00:12\n",
      "   ------------------- -------------------- 1.0/2.1 MB 88.9 kB/s eta 0:00:12\n",
      "   ------------------- -------------------- 1.0/2.1 MB 88.9 kB/s eta 0:00:12\n",
      "   ------------------- -------------------- 1.0/2.1 MB 88.9 kB/s eta 0:00:12\n",
      "   ------------------- -------------------- 1.0/2.1 MB 88.9 kB/s eta 0:00:12\n",
      "   ------------------- -------------------- 1.0/2.1 MB 88.9 kB/s eta 0:00:12\n",
      "   ------------------- -------------------- 1.0/2.1 MB 88.9 kB/s eta 0:00:12\n",
      "   ------------------- -------------------- 1.0/2.1 MB 88.9 kB/s eta 0:00:12\n",
      "   ------------------- -------------------- 1.0/2.1 MB 88.9 kB/s eta 0:00:12\n",
      "   ------------------- -------------------- 1.0/2.1 MB 88.9 kB/s eta 0:00:12\n",
      "   ------------------- -------------------- 1.0/2.1 MB 88.9 kB/s eta 0:00:12\n",
      "   ------------------- -------------------- 1.0/2.1 MB 88.9 kB/s eta 0:00:12\n",
      "   ------------------- -------------------- 1.0/2.1 MB 88.9 kB/s eta 0:00:12\n",
      "   ------------------- -------------------- 1.0/2.1 MB 88.9 kB/s eta 0:00:12\n",
      "   ------------------- -------------------- 1.0/2.1 MB 88.9 kB/s eta 0:00:12\n",
      "   ------------------- -------------------- 1.0/2.1 MB 88.9 kB/s eta 0:00:12\n",
      "   ------------------- -------------------- 1.0/2.1 MB 88.9 kB/s eta 0:00:12\n",
      "   ------------------- -------------------- 1.0/2.1 MB 88.9 kB/s eta 0:00:12\n",
      "   ------------------- -------------------- 1.0/2.1 MB 88.9 kB/s eta 0:00:12\n",
      "   ------------------- -------------------- 1.0/2.1 MB 88.9 kB/s eta 0:00:12\n",
      "   ------------------- -------------------- 1.0/2.1 MB 88.9 kB/s eta 0:00:12\n",
      "   ------------------- -------------------- 1.0/2.1 MB 88.9 kB/s eta 0:00:12\n",
      "   ------------------- -------------------- 1.0/2.1 MB 88.9 kB/s eta 0:00:12\n",
      "   ------------------- -------------------- 1.0/2.1 MB 88.9 kB/s eta 0:00:12\n",
      "   ------------------- -------------------- 1.0/2.1 MB 88.9 kB/s eta 0:00:12\n",
      "   ------------------- -------------------- 1.0/2.1 MB 88.9 kB/s eta 0:00:12\n",
      "   ------------------- -------------------- 1.0/2.1 MB 88.9 kB/s eta 0:00:12\n",
      "   ------------------- -------------------- 1.0/2.1 MB 88.9 kB/s eta 0:00:12\n",
      "   ------------------- -------------------- 1.0/2.1 MB 88.9 kB/s eta 0:00:12\n",
      "   ------------------- -------------------- 1.0/2.1 MB 88.9 kB/s eta 0:00:12\n",
      "   ------------------- -------------------- 1.0/2.1 MB 88.9 kB/s eta 0:00:12\n",
      "   ------------------- -------------------- 1.0/2.1 MB 88.9 kB/s eta 0:00:12\n",
      "   ------------------------ --------------- 1.3/2.1 MB 63.5 kB/s eta 0:00:13\n",
      "   ------------------------ --------------- 1.3/2.1 MB 63.5 kB/s eta 0:00:13\n",
      "   ------------------------ --------------- 1.3/2.1 MB 63.5 kB/s eta 0:00:13\n",
      "   ------------------------ --------------- 1.3/2.1 MB 63.5 kB/s eta 0:00:13\n",
      "   ------------------------ --------------- 1.3/2.1 MB 63.5 kB/s eta 0:00:13\n",
      "   ------------------------ --------------- 1.3/2.1 MB 63.5 kB/s eta 0:00:13\n",
      "   ------------------------ --------------- 1.3/2.1 MB 63.5 kB/s eta 0:00:13\n",
      "   ------------------------ --------------- 1.3/2.1 MB 63.5 kB/s eta 0:00:13\n",
      "   ------------------------ --------------- 1.3/2.1 MB 63.5 kB/s eta 0:00:13\n",
      "   ------------------------ --------------- 1.3/2.1 MB 63.5 kB/s eta 0:00:13\n",
      "   ------------------------ --------------- 1.3/2.1 MB 63.5 kB/s eta 0:00:13\n",
      "   ------------------------ --------------- 1.3/2.1 MB 63.5 kB/s eta 0:00:13\n",
      "   ------------------------ --------------- 1.3/2.1 MB 63.5 kB/s eta 0:00:13\n",
      "   ------------------------ --------------- 1.3/2.1 MB 63.5 kB/s eta 0:00:13\n",
      "   ------------------------ --------------- 1.3/2.1 MB 63.5 kB/s eta 0:00:13\n",
      "   ------------------------ --------------- 1.3/2.1 MB 63.5 kB/s eta 0:00:13\n",
      "   ------------------------ --------------- 1.3/2.1 MB 63.5 kB/s eta 0:00:13\n",
      "   ------------------------ --------------- 1.3/2.1 MB 63.5 kB/s eta 0:00:13\n",
      "   ------------------------ --------------- 1.3/2.1 MB 63.5 kB/s eta 0:00:13\n",
      "   ------------------------ --------------- 1.3/2.1 MB 63.5 kB/s eta 0:00:13\n",
      "   ------------------------ --------------- 1.3/2.1 MB 63.5 kB/s eta 0:00:13\n",
      "   ------------------------ --------------- 1.3/2.1 MB 63.5 kB/s eta 0:00:13\n",
      "   ------------------------ --------------- 1.3/2.1 MB 63.5 kB/s eta 0:00:13\n",
      "   ------------------------ --------------- 1.3/2.1 MB 63.5 kB/s eta 0:00:13\n",
      "   ------------------------ --------------- 1.3/2.1 MB 63.5 kB/s eta 0:00:13\n",
      "   ------------------------ --------------- 1.3/2.1 MB 63.5 kB/s eta 0:00:13\n",
      "   ------------------------ --------------- 1.3/2.1 MB 63.5 kB/s eta 0:00:13\n",
      "   ------------------------ --------------- 1.3/2.1 MB 63.5 kB/s eta 0:00:13\n",
      "   ------------------------ --------------- 1.3/2.1 MB 63.5 kB/s eta 0:00:13\n",
      "   ------------------------ --------------- 1.3/2.1 MB 63.5 kB/s eta 0:00:13\n",
      "   ------------------------ --------------- 1.3/2.1 MB 63.5 kB/s eta 0:00:13\n",
      "   ------------------------ --------------- 1.3/2.1 MB 63.5 kB/s eta 0:00:13\n",
      "   ------------------------ --------------- 1.3/2.1 MB 63.5 kB/s eta 0:00:13\n",
      "   ------------------------ --------------- 1.3/2.1 MB 63.5 kB/s eta 0:00:13\n",
      "   ------------------------ --------------- 1.3/2.1 MB 63.5 kB/s eta 0:00:13\n",
      "   ------------------------ --------------- 1.3/2.1 MB 63.5 kB/s eta 0:00:13\n",
      "   ------------------------ --------------- 1.3/2.1 MB 63.5 kB/s eta 0:00:13\n",
      "   ------------------------ --------------- 1.3/2.1 MB 63.5 kB/s eta 0:00:13\n",
      "   ------------------------ --------------- 1.3/2.1 MB 63.5 kB/s eta 0:00:13\n",
      "   ------------------------ --------------- 1.3/2.1 MB 63.5 kB/s eta 0:00:13\n",
      "   ------------------------ --------------- 1.3/2.1 MB 63.5 kB/s eta 0:00:13\n",
      "   ------------------------ --------------- 1.3/2.1 MB 63.5 kB/s eta 0:00:13\n",
      "   ------------------------ --------------- 1.3/2.1 MB 63.5 kB/s eta 0:00:13\n",
      "   ------------------------ --------------- 1.3/2.1 MB 63.5 kB/s eta 0:00:13\n",
      "   ------------------------ --------------- 1.3/2.1 MB 63.5 kB/s eta 0:00:13\n",
      "   ------------------------ --------------- 1.3/2.1 MB 63.5 kB/s eta 0:00:13\n",
      "   ------------------------ --------------- 1.3/2.1 MB 63.5 kB/s eta 0:00:13\n",
      "   ------------------------ --------------- 1.3/2.1 MB 63.5 kB/s eta 0:00:13\n",
      "   ------------------------ --------------- 1.3/2.1 MB 63.5 kB/s eta 0:00:13\n",
      "   ------------------------ --------------- 1.3/2.1 MB 63.5 kB/s eta 0:00:13\n",
      "   ------------------------ --------------- 1.3/2.1 MB 63.5 kB/s eta 0:00:13\n",
      "   ------------------------ --------------- 1.3/2.1 MB 63.5 kB/s eta 0:00:13\n",
      "   ------------------------ --------------- 1.3/2.1 MB 63.5 kB/s eta 0:00:13\n",
      "   ------------------------ --------------- 1.3/2.1 MB 63.5 kB/s eta 0:00:13\n",
      "   ------------------------ --------------- 1.3/2.1 MB 63.5 kB/s eta 0:00:13\n",
      "   ------------------------ --------------- 1.3/2.1 MB 63.5 kB/s eta 0:00:13\n",
      "   ------------------------ --------------- 1.3/2.1 MB 63.5 kB/s eta 0:00:13\n",
      "   ------------------------ --------------- 1.3/2.1 MB 63.5 kB/s eta 0:00:13\n",
      "   ------------------------ --------------- 1.3/2.1 MB 63.5 kB/s eta 0:00:13\n",
      "   ------------------------ --------------- 1.3/2.1 MB 63.5 kB/s eta 0:00:13\n",
      "   ------------------------ --------------- 1.3/2.1 MB 63.5 kB/s eta 0:00:13\n",
      "   ------------------------ --------------- 1.3/2.1 MB 63.5 kB/s eta 0:00:13\n",
      "   ------------------------ --------------- 1.3/2.1 MB 63.5 kB/s eta 0:00:13\n",
      "   ------------------------ --------------- 1.3/2.1 MB 63.5 kB/s eta 0:00:13\n",
      "   ------------------------ --------------- 1.3/2.1 MB 63.5 kB/s eta 0:00:13\n",
      "   ------------------------ --------------- 1.3/2.1 MB 63.5 kB/s eta 0:00:13\n",
      "   ------------------------ --------------- 1.3/2.1 MB 63.5 kB/s eta 0:00:13\n",
      "   ------------------------ --------------- 1.3/2.1 MB 63.5 kB/s eta 0:00:13\n",
      "   ------------------------ --------------- 1.3/2.1 MB 63.5 kB/s eta 0:00:13\n",
      "   ------------------------ --------------- 1.3/2.1 MB 63.5 kB/s eta 0:00:13\n",
      "   ------------------------ --------------- 1.3/2.1 MB 63.5 kB/s eta 0:00:13\n",
      "   ------------------------ --------------- 1.3/2.1 MB 63.5 kB/s eta 0:00:13\n",
      "   ------------------------ --------------- 1.3/2.1 MB 63.5 kB/s eta 0:00:13\n",
      "   ------------------------ --------------- 1.3/2.1 MB 63.5 kB/s eta 0:00:13\n",
      "   ------------------------ --------------- 1.3/2.1 MB 63.5 kB/s eta 0:00:13\n",
      "   ------------------------ --------------- 1.3/2.1 MB 63.5 kB/s eta 0:00:13\n",
      "   ----------------------------- ---------- 1.6/2.1 MB 35.0 kB/s eta 0:00:16\n",
      "   ----------------------------- ---------- 1.6/2.1 MB 35.0 kB/s eta 0:00:16\n",
      "   ----------------------------- ---------- 1.6/2.1 MB 35.0 kB/s eta 0:00:16\n",
      "   ----------------------------- ---------- 1.6/2.1 MB 35.0 kB/s eta 0:00:16\n",
      "   ----------------------------- ---------- 1.6/2.1 MB 35.0 kB/s eta 0:00:16\n",
      "   ----------------------------- ---------- 1.6/2.1 MB 35.0 kB/s eta 0:00:16\n",
      "   ----------------------------- ---------- 1.6/2.1 MB 35.0 kB/s eta 0:00:16\n",
      "   ----------------------------- ---------- 1.6/2.1 MB 35.0 kB/s eta 0:00:16\n",
      "   ----------------------------- ---------- 1.6/2.1 MB 35.0 kB/s eta 0:00:16\n",
      "   ----------------------------- ---------- 1.6/2.1 MB 35.0 kB/s eta 0:00:16\n",
      "   ----------------------------- ---------- 1.6/2.1 MB 35.0 kB/s eta 0:00:16\n",
      "   ----------------------------- ---------- 1.6/2.1 MB 35.0 kB/s eta 0:00:16\n",
      "   ----------------------------- ---------- 1.6/2.1 MB 35.0 kB/s eta 0:00:16\n",
      "   ----------------------------- ---------- 1.6/2.1 MB 35.0 kB/s eta 0:00:16\n",
      "   ----------------------------- ---------- 1.6/2.1 MB 35.0 kB/s eta 0:00:16\n",
      "   ----------------------------- ---------- 1.6/2.1 MB 35.0 kB/s eta 0:00:16\n",
      "   ----------------------------- ---------- 1.6/2.1 MB 35.0 kB/s eta 0:00:16\n",
      "   ----------------------------- ---------- 1.6/2.1 MB 35.0 kB/s eta 0:00:16\n",
      "   ----------------------------- ---------- 1.6/2.1 MB 35.0 kB/s eta 0:00:16\n",
      "   ----------------------------- ---------- 1.6/2.1 MB 35.0 kB/s eta 0:00:16\n",
      "   ----------------------------- ---------- 1.6/2.1 MB 35.0 kB/s eta 0:00:16\n",
      "   ----------------------------- ---------- 1.6/2.1 MB 35.0 kB/s eta 0:00:16\n",
      "   ----------------------------- ---------- 1.6/2.1 MB 35.0 kB/s eta 0:00:16\n",
      "   ----------------------------- ---------- 1.6/2.1 MB 35.0 kB/s eta 0:00:16\n",
      "   ----------------------------- ---------- 1.6/2.1 MB 35.0 kB/s eta 0:00:16\n",
      "   ----------------------------- ---------- 1.6/2.1 MB 35.0 kB/s eta 0:00:16\n",
      "   ----------------------------- ---------- 1.6/2.1 MB 35.0 kB/s eta 0:00:16\n",
      "   ----------------------------- ---------- 1.6/2.1 MB 35.0 kB/s eta 0:00:16\n",
      "   ----------------------------- ---------- 1.6/2.1 MB 35.0 kB/s eta 0:00:16\n",
      "   ----------------------------- ---------- 1.6/2.1 MB 35.0 kB/s eta 0:00:16\n",
      "   ----------------------------- ---------- 1.6/2.1 MB 35.0 kB/s eta 0:00:16\n",
      "   ----------------------------- ---------- 1.6/2.1 MB 35.0 kB/s eta 0:00:16\n",
      "   ----------------------------- ---------- 1.6/2.1 MB 35.0 kB/s eta 0:00:16\n",
      "   ----------------------------- ---------- 1.6/2.1 MB 35.0 kB/s eta 0:00:16\n",
      "   ----------------------------- ---------- 1.6/2.1 MB 35.0 kB/s eta 0:00:16\n",
      "   ----------------------------- ---------- 1.6/2.1 MB 35.0 kB/s eta 0:00:16\n",
      "   ----------------------------- ---------- 1.6/2.1 MB 35.0 kB/s eta 0:00:16\n",
      "   ----------------------------- ---------- 1.6/2.1 MB 35.0 kB/s eta 0:00:16\n",
      "   ----------------------------- ---------- 1.6/2.1 MB 35.0 kB/s eta 0:00:16\n",
      "   ----------------------------- ---------- 1.6/2.1 MB 35.0 kB/s eta 0:00:16\n",
      "   ----------------------------- ---------- 1.6/2.1 MB 35.0 kB/s eta 0:00:16\n",
      "   ----------------------------- ---------- 1.6/2.1 MB 35.0 kB/s eta 0:00:16\n",
      "   ----------------------------- ---------- 1.6/2.1 MB 35.0 kB/s eta 0:00:16\n",
      "   ----------------------------- ---------- 1.6/2.1 MB 35.0 kB/s eta 0:00:16\n",
      "   ----------------------------- ---------- 1.6/2.1 MB 35.0 kB/s eta 0:00:16\n",
      "   ----------------------------- ---------- 1.6/2.1 MB 35.0 kB/s eta 0:00:16\n",
      "   ----------------------------- ---------- 1.6/2.1 MB 35.0 kB/s eta 0:00:16\n",
      "   ----------------------------- ---------- 1.6/2.1 MB 35.0 kB/s eta 0:00:16\n",
      "   ----------------------------- ---------- 1.6/2.1 MB 35.0 kB/s eta 0:00:16\n",
      "   ---------------------------------- ----- 1.8/2.1 MB 19.7 kB/s eta 0:00:15\n",
      "   ---------------------------------- ----- 1.8/2.1 MB 19.7 kB/s eta 0:00:15\n",
      "   ---------------------------------- ----- 1.8/2.1 MB 19.7 kB/s eta 0:00:15\n",
      "   ---------------------------------- ----- 1.8/2.1 MB 19.7 kB/s eta 0:00:15\n",
      "   ---------------------------------- ----- 1.8/2.1 MB 19.7 kB/s eta 0:00:15\n",
      "   ---------------------------------------- 2.1/2.1 MB 29.2 kB/s eta 0:00:00\n",
      "Downloading greenlet-3.2.3-cp312-cp312-win_amd64.whl (297 kB)\n",
      "Using cached jsonpatch-1.33-py2.py3-none-any.whl (12 kB)\n",
      "Downloading orjson-3.11.0-cp312-cp312-win_amd64.whl (129 kB)\n",
      "Using cached requests_toolbelt-1.0.0-py2.py3-none-any.whl (54 kB)\n",
      "Downloading zstandard-0.23.0-cp312-cp312-win_amd64.whl (495 kB)\n",
      "Using cached jsonpointer-3.0.0-py2.py3-none-any.whl (7.6 kB)\n",
      "Installing collected packages: zstandard, orjson, jsonpointer, greenlet, SQLAlchemy, requests-toolbelt, jsonpatch, langsmith, langchain-core, langchain-text-splitters, langchain\n",
      "Successfully installed SQLAlchemy-2.0.41 greenlet-3.2.3 jsonpatch-1.33 jsonpointer-3.0.0 langchain-0.3.26 langchain-core-0.3.68 langchain-text-splitters-0.3.8 langsmith-0.4.5 orjson-3.11.0 requests-toolbelt-1.0.0 zstandard-0.23.0\n"
     ]
    }
   ],
   "source": [
    "pip install langchain"
   ]
  },
  {
   "cell_type": "code",
   "execution_count": 6,
   "id": "03f53644-85a9-4a24-93ec-3d6027d848c4",
   "metadata": {
    "collapsed": true,
    "jupyter": {
     "outputs_hidden": true
    }
   },
   "outputs": [
    {
     "name": "stdout",
     "output_type": "stream",
     "text": [
      "Collecting langchain-community\n",
      "  Downloading langchain_community-0.3.27-py3-none-any.whl.metadata (2.9 kB)\n",
      "Requirement already satisfied: langchain-core<1.0.0,>=0.3.66 in e:\\datascience\\anaconda\\envs\\asif\\lib\\site-packages (from langchain-community) (0.3.68)\n",
      "Requirement already satisfied: langchain<1.0.0,>=0.3.26 in e:\\datascience\\anaconda\\envs\\asif\\lib\\site-packages (from langchain-community) (0.3.26)\n",
      "Requirement already satisfied: SQLAlchemy<3,>=1.4 in e:\\datascience\\anaconda\\envs\\asif\\lib\\site-packages (from langchain-community) (2.0.41)\n",
      "Requirement already satisfied: requests<3,>=2 in e:\\datascience\\anaconda\\envs\\asif\\lib\\site-packages (from langchain-community) (2.32.3)\n",
      "Requirement already satisfied: PyYAML>=5.3 in e:\\datascience\\anaconda\\envs\\asif\\lib\\site-packages (from langchain-community) (6.0.1)\n",
      "Collecting aiohttp<4.0.0,>=3.8.3 (from langchain-community)\n",
      "  Downloading aiohttp-3.12.14-cp312-cp312-win_amd64.whl.metadata (7.9 kB)\n",
      "Requirement already satisfied: tenacity!=8.4.0,<10,>=8.1.0 in e:\\datascience\\anaconda\\envs\\asif\\lib\\site-packages (from langchain-community) (9.0.0)\n",
      "Collecting dataclasses-json<0.7,>=0.5.7 (from langchain-community)\n",
      "  Downloading dataclasses_json-0.6.7-py3-none-any.whl.metadata (25 kB)\n",
      "Collecting pydantic-settings<3.0.0,>=2.4.0 (from langchain-community)\n",
      "  Downloading pydantic_settings-2.10.1-py3-none-any.whl.metadata (3.4 kB)\n",
      "Requirement already satisfied: langsmith>=0.1.125 in e:\\datascience\\anaconda\\envs\\asif\\lib\\site-packages (from langchain-community) (0.4.5)\n",
      "Collecting httpx-sse<1.0.0,>=0.4.0 (from langchain-community)\n",
      "  Downloading httpx_sse-0.4.1-py3-none-any.whl.metadata (9.4 kB)\n",
      "Requirement already satisfied: numpy>=1.26.2 in e:\\datascience\\anaconda\\envs\\asif\\lib\\site-packages (from langchain-community) (1.26.4)\n",
      "Collecting aiohappyeyeballs>=2.5.0 (from aiohttp<4.0.0,>=3.8.3->langchain-community)\n",
      "  Using cached aiohappyeyeballs-2.6.1-py3-none-any.whl.metadata (5.9 kB)\n",
      "Collecting aiosignal>=1.4.0 (from aiohttp<4.0.0,>=3.8.3->langchain-community)\n",
      "  Downloading aiosignal-1.4.0-py3-none-any.whl.metadata (3.7 kB)\n",
      "Requirement already satisfied: attrs>=17.3.0 in e:\\datascience\\anaconda\\envs\\asif\\lib\\site-packages (from aiohttp<4.0.0,>=3.8.3->langchain-community) (24.2.0)\n",
      "Collecting frozenlist>=1.1.1 (from aiohttp<4.0.0,>=3.8.3->langchain-community)\n",
      "  Downloading frozenlist-1.7.0-cp312-cp312-win_amd64.whl.metadata (19 kB)\n",
      "Requirement already satisfied: multidict<7.0,>=4.5 in e:\\datascience\\anaconda\\envs\\asif\\lib\\site-packages (from aiohttp<4.0.0,>=3.8.3->langchain-community) (6.1.0)\n",
      "Requirement already satisfied: propcache>=0.2.0 in e:\\datascience\\anaconda\\envs\\asif\\lib\\site-packages (from aiohttp<4.0.0,>=3.8.3->langchain-community) (0.2.0)\n",
      "Requirement already satisfied: yarl<2.0,>=1.17.0 in e:\\datascience\\anaconda\\envs\\asif\\lib\\site-packages (from aiohttp<4.0.0,>=3.8.3->langchain-community) (1.17.1)\n",
      "Collecting marshmallow<4.0.0,>=3.18.0 (from dataclasses-json<0.7,>=0.5.7->langchain-community)\n",
      "  Downloading marshmallow-3.26.1-py3-none-any.whl.metadata (7.3 kB)\n",
      "Collecting typing-inspect<1,>=0.4.0 (from dataclasses-json<0.7,>=0.5.7->langchain-community)\n",
      "  Downloading typing_inspect-0.9.0-py3-none-any.whl.metadata (1.5 kB)\n",
      "Requirement already satisfied: langchain-text-splitters<1.0.0,>=0.3.8 in e:\\datascience\\anaconda\\envs\\asif\\lib\\site-packages (from langchain<1.0.0,>=0.3.26->langchain-community) (0.3.8)\n",
      "Requirement already satisfied: pydantic<3.0.0,>=2.7.4 in e:\\datascience\\anaconda\\envs\\asif\\lib\\site-packages (from langchain<1.0.0,>=0.3.26->langchain-community) (2.10.6)\n",
      "Requirement already satisfied: jsonpatch<2.0,>=1.33 in e:\\datascience\\anaconda\\envs\\asif\\lib\\site-packages (from langchain-core<1.0.0,>=0.3.66->langchain-community) (1.33)\n",
      "Requirement already satisfied: packaging<25,>=23.2 in c:\\users\\asif\\appdata\\roaming\\python\\python312\\site-packages (from langchain-core<1.0.0,>=0.3.66->langchain-community) (23.2)\n",
      "Requirement already satisfied: typing-extensions>=4.7 in e:\\datascience\\anaconda\\envs\\asif\\lib\\site-packages (from langchain-core<1.0.0,>=0.3.66->langchain-community) (4.12.2)\n",
      "Requirement already satisfied: httpx<1,>=0.23.0 in e:\\datascience\\anaconda\\envs\\asif\\lib\\site-packages (from langsmith>=0.1.125->langchain-community) (0.27.0)\n",
      "Requirement already satisfied: orjson<4.0.0,>=3.9.14 in e:\\datascience\\anaconda\\envs\\asif\\lib\\site-packages (from langsmith>=0.1.125->langchain-community) (3.11.0)\n",
      "Requirement already satisfied: requests-toolbelt<2.0.0,>=1.0.0 in e:\\datascience\\anaconda\\envs\\asif\\lib\\site-packages (from langsmith>=0.1.125->langchain-community) (1.0.0)\n",
      "Requirement already satisfied: zstandard<0.24.0,>=0.23.0 in e:\\datascience\\anaconda\\envs\\asif\\lib\\site-packages (from langsmith>=0.1.125->langchain-community) (0.23.0)\n",
      "Collecting python-dotenv>=0.21.0 (from pydantic-settings<3.0.0,>=2.4.0->langchain-community)\n",
      "  Downloading python_dotenv-1.1.1-py3-none-any.whl.metadata (24 kB)\n",
      "Collecting typing-inspection>=0.4.0 (from pydantic-settings<3.0.0,>=2.4.0->langchain-community)\n",
      "  Using cached typing_inspection-0.4.1-py3-none-any.whl.metadata (2.6 kB)\n",
      "Requirement already satisfied: charset-normalizer<4,>=2 in e:\\datascience\\anaconda\\envs\\asif\\lib\\site-packages (from requests<3,>=2->langchain-community) (3.3.2)\n",
      "Requirement already satisfied: idna<4,>=2.5 in e:\\datascience\\anaconda\\envs\\asif\\lib\\site-packages (from requests<3,>=2->langchain-community) (3.7)\n",
      "Requirement already satisfied: urllib3<3,>=1.21.1 in e:\\datascience\\anaconda\\envs\\asif\\lib\\site-packages (from requests<3,>=2->langchain-community) (2.2.2)\n",
      "Requirement already satisfied: certifi>=2017.4.17 in e:\\datascience\\anaconda\\envs\\asif\\lib\\site-packages (from requests<3,>=2->langchain-community) (2024.8.30)\n",
      "Requirement already satisfied: greenlet>=1 in e:\\datascience\\anaconda\\envs\\asif\\lib\\site-packages (from SQLAlchemy<3,>=1.4->langchain-community) (3.2.3)\n",
      "Requirement already satisfied: anyio in e:\\datascience\\anaconda\\envs\\asif\\lib\\site-packages (from httpx<1,>=0.23.0->langsmith>=0.1.125->langchain-community) (4.2.0)\n",
      "Requirement already satisfied: httpcore==1.* in e:\\datascience\\anaconda\\envs\\asif\\lib\\site-packages (from httpx<1,>=0.23.0->langsmith>=0.1.125->langchain-community) (1.0.2)\n",
      "Requirement already satisfied: sniffio in e:\\datascience\\anaconda\\envs\\asif\\lib\\site-packages (from httpx<1,>=0.23.0->langsmith>=0.1.125->langchain-community) (1.3.0)\n",
      "Requirement already satisfied: h11<0.15,>=0.13 in e:\\datascience\\anaconda\\envs\\asif\\lib\\site-packages (from httpcore==1.*->httpx<1,>=0.23.0->langsmith>=0.1.125->langchain-community) (0.14.0)\n",
      "Requirement already satisfied: jsonpointer>=1.9 in e:\\datascience\\anaconda\\envs\\asif\\lib\\site-packages (from jsonpatch<2.0,>=1.33->langchain-core<1.0.0,>=0.3.66->langchain-community) (3.0.0)\n",
      "Requirement already satisfied: annotated-types>=0.6.0 in e:\\datascience\\anaconda\\envs\\asif\\lib\\site-packages (from pydantic<3.0.0,>=2.7.4->langchain<1.0.0,>=0.3.26->langchain-community) (0.7.0)\n",
      "Requirement already satisfied: pydantic-core==2.27.2 in e:\\datascience\\anaconda\\envs\\asif\\lib\\site-packages (from pydantic<3.0.0,>=2.7.4->langchain<1.0.0,>=0.3.26->langchain-community) (2.27.2)\n",
      "Collecting mypy-extensions>=0.3.0 (from typing-inspect<1,>=0.4.0->dataclasses-json<0.7,>=0.5.7->langchain-community)\n",
      "  Downloading mypy_extensions-1.1.0-py3-none-any.whl.metadata (1.1 kB)\n",
      "Downloading langchain_community-0.3.27-py3-none-any.whl (2.5 MB)\n",
      "   ---------------------------------------- 0.0/2.5 MB ? eta -:--:--\n",
      "   ---------------------------------------- 0.0/2.5 MB ? eta -:--:--\n",
      "   ---------------------------------------- 0.0/2.5 MB ? eta -:--:--\n",
      "   ---------------------------------------- 0.0/2.5 MB ? eta -:--:--\n",
      "   ---------------------------------------- 0.0/2.5 MB ? eta -:--:--\n",
      "   ---------------------------------------- 0.0/2.5 MB ? eta -:--:--\n",
      "   ---------------------------------------- 0.0/2.5 MB ? eta -:--:--\n",
      "   ---- ----------------------------------- 0.3/2.5 MB ? eta -:--:--\n",
      "   ---- ----------------------------------- 0.3/2.5 MB ? eta -:--:--\n",
      "   ---- ----------------------------------- 0.3/2.5 MB ? eta -:--:--\n",
      "   -------- ------------------------------- 0.5/2.5 MB 599.9 kB/s eta 0:00:04\n",
      "   -------- ------------------------------- 0.5/2.5 MB 599.9 kB/s eta 0:00:04\n",
      "   -------- ------------------------------- 0.5/2.5 MB 599.9 kB/s eta 0:00:04\n",
      "   ------------ --------------------------- 0.8/2.5 MB 435.8 kB/s eta 0:00:05\n",
      "   ------------ --------------------------- 0.8/2.5 MB 435.8 kB/s eta 0:00:05\n",
      "   ------------ --------------------------- 0.8/2.5 MB 435.8 kB/s eta 0:00:05\n",
      "   ------------ --------------------------- 0.8/2.5 MB 435.8 kB/s eta 0:00:05\n",
      "   ---------------- ----------------------- 1.0/2.5 MB 390.3 kB/s eta 0:00:04\n",
      "   ---------------- ----------------------- 1.0/2.5 MB 390.3 kB/s eta 0:00:04\n",
      "   -------------------- ------------------- 1.3/2.5 MB 441.5 kB/s eta 0:00:03\n",
      "   -------------------- ------------------- 1.3/2.5 MB 441.5 kB/s eta 0:00:03\n",
      "   -------------------- ------------------- 1.3/2.5 MB 441.5 kB/s eta 0:00:03\n",
      "   ------------------------ --------------- 1.6/2.5 MB 432.4 kB/s eta 0:00:03\n",
      "   ----------------------------- ---------- 1.8/2.5 MB 479.4 kB/s eta 0:00:02\n",
      "   ----------------------------- ---------- 1.8/2.5 MB 479.4 kB/s eta 0:00:02\n",
      "   ----------------------------- ---------- 1.8/2.5 MB 479.4 kB/s eta 0:00:02\n",
      "   ----------------------------- ---------- 1.8/2.5 MB 479.4 kB/s eta 0:00:02\n",
      "   --------------------------------- ------ 2.1/2.5 MB 451.7 kB/s eta 0:00:01\n",
      "   --------------------------------- ------ 2.1/2.5 MB 451.7 kB/s eta 0:00:01\n",
      "   --------------------------------- ------ 2.1/2.5 MB 451.7 kB/s eta 0:00:01\n",
      "   ------------------------------------- -- 2.4/2.5 MB 447.4 kB/s eta 0:00:01\n",
      "   ---------------------------------------- 2.5/2.5 MB 458.0 kB/s eta 0:00:00\n",
      "Downloading aiohttp-3.12.14-cp312-cp312-win_amd64.whl (449 kB)\n",
      "Downloading dataclasses_json-0.6.7-py3-none-any.whl (28 kB)\n",
      "Downloading httpx_sse-0.4.1-py3-none-any.whl (8.1 kB)\n",
      "Downloading pydantic_settings-2.10.1-py3-none-any.whl (45 kB)\n",
      "Using cached aiohappyeyeballs-2.6.1-py3-none-any.whl (15 kB)\n",
      "Downloading aiosignal-1.4.0-py3-none-any.whl (7.5 kB)\n",
      "Downloading frozenlist-1.7.0-cp312-cp312-win_amd64.whl (43 kB)\n",
      "Downloading marshmallow-3.26.1-py3-none-any.whl (50 kB)\n",
      "Downloading python_dotenv-1.1.1-py3-none-any.whl (20 kB)\n",
      "Downloading typing_inspect-0.9.0-py3-none-any.whl (8.8 kB)\n",
      "Using cached typing_inspection-0.4.1-py3-none-any.whl (14 kB)\n",
      "Downloading mypy_extensions-1.1.0-py3-none-any.whl (5.0 kB)\n",
      "Installing collected packages: typing-inspection, python-dotenv, mypy-extensions, marshmallow, httpx-sse, frozenlist, aiohappyeyeballs, typing-inspect, aiosignal, pydantic-settings, dataclasses-json, aiohttp, langchain-community\n",
      "Successfully installed aiohappyeyeballs-2.6.1 aiohttp-3.12.14 aiosignal-1.4.0 dataclasses-json-0.6.7 frozenlist-1.7.0 httpx-sse-0.4.1 langchain-community-0.3.27 marshmallow-3.26.1 mypy-extensions-1.1.0 pydantic-settings-2.10.1 python-dotenv-1.1.1 typing-inspect-0.9.0 typing-inspection-0.4.1\n",
      "Note: you may need to restart the kernel to use updated packages.\n"
     ]
    },
    {
     "name": "stderr",
     "output_type": "stream",
     "text": [
      "  WARNING: The script dotenv.exe is installed in 'E:\\DataScience\\anaconda\\envs\\asif\\Scripts' which is not on PATH.\n",
      "  Consider adding this directory to PATH or, if you prefer to suppress this warning, use --no-warn-script-location.\n"
     ]
    }
   ],
   "source": [
    "pip install langchain-community"
   ]
  },
  {
   "cell_type": "code",
   "execution_count": 4,
   "id": "d6ad49d0-f833-420b-b940-e21ff70fe95d",
   "metadata": {},
   "outputs": [],
   "source": [
    "import langchain"
   ]
  },
  {
   "cell_type": "code",
   "execution_count": 5,
   "id": "ffd011f8-1e0f-463d-a73a-27ec6f427644",
   "metadata": {},
   "outputs": [],
   "source": [
    "from langchain.llms import OpenAI"
   ]
  },
  {
   "cell_type": "code",
   "execution_count": 6,
   "id": "1ac48e3d-1cd5-45e9-81bd-a1ab9106de38",
   "metadata": {},
   "outputs": [
    {
     "name": "stderr",
     "output_type": "stream",
     "text": [
      "C:\\Users\\ASIF\\AppData\\Local\\Temp\\ipykernel_15736\\3386809066.py:1: LangChainDeprecationWarning: The class `OpenAI` was deprecated in LangChain 0.0.10 and will be removed in 1.0. An updated version of the class exists in the :class:`~langchain-openai package and should be used instead. To use it run `pip install -U :class:`~langchain-openai` and import as `from :class:`~langchain_openai import OpenAI``.\n",
      "  client=OpenAI(openai_api_key=mykey)\n"
     ]
    }
   ],
   "source": [
    "client=OpenAI(openai_api_key=mykey)"
   ]
  },
  {
   "cell_type": "code",
   "execution_count": 9,
   "id": "523e87bd-6fad-41fa-9333-b8ed52be50a4",
   "metadata": {},
   "outputs": [],
   "source": [
    "prompt='What is capital of Pakistan?'"
   ]
  },
  {
   "cell_type": "code",
   "execution_count": 11,
   "id": "36058c37-2f67-4fb7-8e89-7e101770abad",
   "metadata": {},
   "outputs": [
    {
     "data": {
      "text/plain": [
       "'The capital of Pakistan is Islamabad.'"
      ]
     },
     "execution_count": 11,
     "metadata": {},
     "output_type": "execute_result"
    }
   ],
   "source": [
    "client.predict(prompt).strip()"
   ]
  },
  {
   "cell_type": "code",
   "execution_count": 12,
   "id": "c51d88b0-6819-4806-b539-32be8200d072",
   "metadata": {},
   "outputs": [],
   "source": [
    "prompt2='can you tell me total number of countries in asia and rank top 10 and why are they ranked as such?'"
   ]
  },
  {
   "cell_type": "code",
   "execution_count": 14,
   "id": "0ff63ffb-9def-4068-bb9b-87325a46eb31",
   "metadata": {
    "collapsed": true,
    "jupyter": {
     "outputs_hidden": true
    }
   },
   "outputs": [
    {
     "name": "stdout",
     "output_type": "stream",
     "text": [
      "There are 48 countries in Asia (including the Middle East).\n",
      "\n",
      "Top 10 countries in Asia (based on population):\n",
      "1. China - 1.4 billion - China is ranked as the most populous country in Asia and the world due to its large land area and high birth rate.\n",
      "2. India - 1.3 billion - India is the second most populous country in Asia and the world, with a large and growing population due to high birth rates and improved healthcare.\n",
      "3. Indonesia - 270 million - Indonesia's large population is due to its vast land area and high birth rate.\n",
      "4. Pakistan - 220 million - Pakistan's population is mainly due to its high birth rate and large land area.\n",
      "5. Bangladesh - 165 million - Bangladesh has a high population density and birth rate, contributing to its large population.\n",
      "6. Japan - 126 million - Japan has a high population density despite its small land area, due to advancements in technology and healthcare leading to a low birth rate and long life expectancy.\n",
      "7. Philippines - 109 million - The Philippines has a large population due to its high birth rate and a large number of overseas Filipino workers.\n",
      "8. Vietnam - 97 million - Vietnam's population is mainly due to a high birth rate and\n"
     ]
    }
   ],
   "source": [
    "print(client.predict(prompt2).strip())"
   ]
  },
  {
   "cell_type": "markdown",
   "id": "9fd99c37-e076-4d9c-85d0-e126ccbb251a",
   "metadata": {},
   "source": [
    "## Prompt Template"
   ]
  },
  {
   "cell_type": "code",
   "execution_count": 33,
   "id": "d2bde77a-0e2e-4825-9837-c51cc2708e7b",
   "metadata": {},
   "outputs": [],
   "source": [
    "from langchain.prompts import PromptTemplate"
   ]
  },
  {
   "cell_type": "markdown",
   "id": "4cf3b95b-3fdf-41b8-8251-0612ccf7a589",
   "metadata": {},
   "source": [
    "### 1st method"
   ]
  },
  {
   "cell_type": "code",
   "execution_count": 16,
   "id": "dcadba8f-7469-4e27-9214-e817a3aad5f9",
   "metadata": {},
   "outputs": [],
   "source": [
    "capital_prompt=PromptTemplate(\n",
    "    input_variables=['country'],\n",
    "    template='what is capital of {country}'\n",
    ")"
   ]
  },
  {
   "cell_type": "code",
   "execution_count": 20,
   "id": "eb6292a4-500f-4ba6-ac62-f0e69253f455",
   "metadata": {},
   "outputs": [],
   "source": [
    "promp_temp1=capital_prompt.format(country='Pakistan')"
   ]
  },
  {
   "cell_type": "code",
   "execution_count": 21,
   "id": "f6339923-7025-41ea-9861-a4790db16dda",
   "metadata": {},
   "outputs": [
    {
     "data": {
      "text/plain": [
       "'Islamabad'"
      ]
     },
     "execution_count": 21,
     "metadata": {},
     "output_type": "execute_result"
    }
   ],
   "source": [
    "client.predict(promp_temp1).strip()"
   ]
  },
  {
   "cell_type": "code",
   "execution_count": 24,
   "id": "6e916063-aa82-45da-bb21-87a0c6f993ec",
   "metadata": {},
   "outputs": [],
   "source": [
    "promp_temp2=capital_prompt.format(country='America')"
   ]
  },
  {
   "cell_type": "code",
   "execution_count": 25,
   "id": "25661aba-10da-4124-943b-fb987bb3e78d",
   "metadata": {},
   "outputs": [
    {
     "data": {
      "text/plain": [
       "'The capital of America is Washington, D.C.'"
      ]
     },
     "execution_count": 25,
     "metadata": {},
     "output_type": "execute_result"
    }
   ],
   "source": [
    "client.predict(promp_temp2).strip()"
   ]
  },
  {
   "cell_type": "markdown",
   "id": "ca04b727-dca9-44a4-966d-a62684aa7b42",
   "metadata": {},
   "source": [
    "### 2nd method"
   ]
  },
  {
   "cell_type": "code",
   "execution_count": 26,
   "id": "7a6deaa9-d807-4b2e-9ce4-25a42783a1db",
   "metadata": {},
   "outputs": [],
   "source": [
    "company_name=PromptTemplate.from_template('what will be the best suitable name of company which makes {product}?')"
   ]
  },
  {
   "cell_type": "code",
   "execution_count": 27,
   "id": "1938a02a-0eec-4ea0-b59a-f0e77d4132fc",
   "metadata": {},
   "outputs": [],
   "source": [
    "company_name_prompt=company_name.format(product='toys')"
   ]
  },
  {
   "cell_type": "code",
   "execution_count": 28,
   "id": "4817fe61-0eca-4335-8907-1fa59b342b86",
   "metadata": {},
   "outputs": [
    {
     "data": {
      "text/plain": [
       "'\"Playful Creations Co.\"'"
      ]
     },
     "execution_count": 28,
     "metadata": {},
     "output_type": "execute_result"
    }
   ],
   "source": [
    "client.predict(company_name_prompt).strip()"
   ]
  },
  {
   "cell_type": "code",
   "execution_count": 29,
   "id": "d1e44163-55ba-46a5-8d57-3400e7fb9203",
   "metadata": {},
   "outputs": [],
   "source": [
    "company_name_prompt=company_name.format(product='pants')"
   ]
  },
  {
   "cell_type": "code",
   "execution_count": 30,
   "id": "4f8db9e6-6359-4077-ab18-3c60820411b7",
   "metadata": {},
   "outputs": [
    {
     "data": {
      "text/plain": [
       "'\"Tailored Threads Co.\"'"
      ]
     },
     "execution_count": 30,
     "metadata": {},
     "output_type": "execute_result"
    }
   ],
   "source": [
    "client.predict(company_name_prompt).strip()"
   ]
  },
  {
   "cell_type": "markdown",
   "id": "1b357ccd-abcc-4681-aa56-9ef88138e5cc",
   "metadata": {},
   "source": [
    "# ***Agents***\n",
    "### Agents are used for calling third party api/tools"
   ]
  },
  {
   "cell_type": "code",
   "execution_count": 7,
   "id": "b130ff63-8820-409c-9771-bf4a636cc6a5",
   "metadata": {},
   "outputs": [
    {
     "name": "stderr",
     "output_type": "stream",
     "text": [
      "C:\\Users\\ASIF\\AppData\\Local\\Temp\\ipykernel_15736\\921434875.py:2: LangChainDeprecationWarning: The method `BaseLLM.predict` was deprecated in langchain-core 0.1.7 and will be removed in 1.0. Use :meth:`~invoke` instead.\n",
      "  print(client.predict(prompt1).strip())\n"
     ]
    },
    {
     "name": "stdout",
     "output_type": "stream",
     "text": [
      "According to the World Bank, the GDP of Pakistan in 2020 was approximately $264.14 billion USD.\n"
     ]
    }
   ],
   "source": [
    "prompt1='what is the GDP of paksitan?'\n",
    "print(client.predict(prompt1).strip())"
   ]
  },
  {
   "cell_type": "code",
   "execution_count": 8,
   "id": "00116817-d0d1-48f0-9bcf-b2e340fc4ef8",
   "metadata": {},
   "outputs": [
    {
     "name": "stdout",
     "output_type": "stream",
     "text": [
      "England won the most recent cricket World Cup in 2019.\n"
     ]
    }
   ],
   "source": [
    "prompt2='Who won the recent cricket wordcup?'\n",
    "print(client.predict(prompt2).strip())"
   ]
  },
  {
   "cell_type": "markdown",
   "id": "8b70032d-cb45-4d56-81c6-28038f6c688f",
   "metadata": {},
   "source": [
    "##### As model is unable to extract real-time data"
   ]
  },
  {
   "cell_type": "markdown",
   "id": "8fe95fce-e160-4e0c-82a6-0bdf6105c4cf",
   "metadata": {},
   "source": [
    "### For extracting real time data we use serp api\n",
    "### By using serpapi we will call google-search-engine\n",
    "### And we will extract information in a real-time"
   ]
  },
  {
   "cell_type": "code",
   "execution_count": 12,
   "id": "cbed6be0-cf0d-4d65-a20c-ff49aa241c20",
   "metadata": {
    "collapsed": true,
    "jupyter": {
     "outputs_hidden": true
    }
   },
   "outputs": [
    {
     "name": "stdout",
     "output_type": "stream",
     "text": [
      "Collecting google-search-results\n",
      "  Using cached google_search_results-2.4.2.tar.gz (18 kB)\n",
      "  Preparing metadata (setup.py): started\n",
      "  Preparing metadata (setup.py): finished with status 'done'\n",
      "Requirement already satisfied: requests in e:\\datascience\\anaconda\\envs\\asif\\lib\\site-packages (from google-search-results) (2.32.3)\n",
      "Requirement already satisfied: charset-normalizer<4,>=2 in e:\\datascience\\anaconda\\envs\\asif\\lib\\site-packages (from requests->google-search-results) (3.3.2)\n",
      "Requirement already satisfied: idna<4,>=2.5 in e:\\datascience\\anaconda\\envs\\asif\\lib\\site-packages (from requests->google-search-results) (3.7)\n",
      "Requirement already satisfied: urllib3<3,>=1.21.1 in e:\\datascience\\anaconda\\envs\\asif\\lib\\site-packages (from requests->google-search-results) (2.2.2)\n",
      "Requirement already satisfied: certifi>=2017.4.17 in e:\\datascience\\anaconda\\envs\\asif\\lib\\site-packages (from requests->google-search-results) (2024.8.30)\n",
      "Building wheels for collected packages: google-search-results\n",
      "  Building wheel for google-search-results (setup.py): started\n",
      "  Building wheel for google-search-results (setup.py): finished with status 'done'\n",
      "  Created wheel for google-search-results: filename=google_search_results-2.4.2-py3-none-any.whl size=32083 sha256=bb73f0e4a58d90b65806c94b981b4c696afe428ec39ea9ddad09ed8744c58731\n",
      "  Stored in directory: c:\\users\\asif\\appdata\\local\\pip\\cache\\wheels\\0c\\47\\f5\\89b7e770ab2996baf8c910e7353d6391e373075a0ac213519e\n",
      "Successfully built google-search-results\n",
      "Installing collected packages: google-search-results\n",
      "Successfully installed google-search-results-2.4.2\n",
      "Note: you may need to restart the kernel to use updated packages.\n"
     ]
    }
   ],
   "source": [
    "pip install google-search-results"
   ]
  },
  {
   "cell_type": "code",
   "execution_count": 142,
   "id": "d16a1298-da99-47ca-8b5e-ba73edcbf0a3",
   "metadata": {},
   "outputs": [],
   "source": [
    "serpapi_key='........................'"
   ]
  },
  {
   "cell_type": "code",
   "execution_count": 9,
   "id": "d078357a-a656-40e8-a2c7-180cefffff8c",
   "metadata": {},
   "outputs": [],
   "source": [
    "from langchain.agents import AgentType, load_tools, initialize_agent"
   ]
  },
  {
   "cell_type": "code",
   "execution_count": 13,
   "id": "839e11cd-eaca-4195-83eb-0242c56d94a2",
   "metadata": {},
   "outputs": [],
   "source": [
    "tool=load_tools(['serpapi'], serpapi_api_key=serpapi_key, llm=client)"
   ]
  },
  {
   "cell_type": "code",
   "execution_count": 14,
   "id": "9dfd5857-9999-48a7-a168-36bad671419f",
   "metadata": {},
   "outputs": [
    {
     "name": "stderr",
     "output_type": "stream",
     "text": [
      "C:\\Users\\ASIF\\AppData\\Local\\Temp\\ipykernel_15736\\2982974801.py:1: LangChainDeprecationWarning: LangChain agents will continue to be supported, but it is recommended for new use cases to be built with LangGraph. LangGraph offers a more flexible and full-featured framework for building agents, including support for tool-calling, persistence of state, and human-in-the-loop workflows. For details, refer to the `LangGraph documentation <https://langchain-ai.github.io/langgraph/>`_ as well as guides for `Migrating from AgentExecutor <https://python.langchain.com/docs/how_to/migrate_agent/>`_ and LangGraph's `Pre-built ReAct agent <https://langchain-ai.github.io/langgraph/how-tos/create-react-agent/>`_.\n",
      "  agent=initialize_agent(tool, client, agent=AgentType.ZERO_SHOT_REACT_DESCRIPTION, verbose=True)\n"
     ]
    }
   ],
   "source": [
    "agent=initialize_agent(tool, client, agent=AgentType.ZERO_SHOT_REACT_DESCRIPTION, verbose=True)"
   ]
  },
  {
   "cell_type": "code",
   "execution_count": 19,
   "id": "953ba3b3-ea43-4192-a0ff-8bb22748cbe4",
   "metadata": {
    "collapsed": true,
    "jupyter": {
     "outputs_hidden": true
    }
   },
   "outputs": [
    {
     "name": "stdout",
     "output_type": "stream",
     "text": [
      "\n",
      "\n",
      "\u001b[1m> Entering new AgentExecutor chain...\u001b[0m\n",
      "\u001b[32;1m\u001b[1;3m I should think about using the search engine to find the answer.\n",
      "Action: Search\n",
      "Action Input: \"2021 Cricket World Cup winner\"\u001b[0m\n",
      "Observation: \u001b[36;1m\u001b[1;3mAustralian Men’s Cricket Team\u001b[0m\n",
      "Thought:\u001b[32;1m\u001b[1;3m I now know the final answer\n",
      "Final Answer: Australian Men’s Cricket Team\u001b[0m\n",
      "\n",
      "\u001b[1m> Finished chain.\u001b[0m\n"
     ]
    },
    {
     "data": {
      "text/plain": [
       "'Australian Men’s Cricket Team'"
      ]
     },
     "execution_count": 19,
     "metadata": {},
     "output_type": "execute_result"
    }
   ],
   "source": [
    "agent.run('Who won the recent cricket wordcup?')"
   ]
  },
  {
   "cell_type": "code",
   "execution_count": 20,
   "id": "155adbfa-b014-462a-bc95-5533d127e11e",
   "metadata": {
    "collapsed": true,
    "jupyter": {
     "outputs_hidden": true
    }
   },
   "outputs": [
    {
     "name": "stdout",
     "output_type": "stream",
     "text": [
      "\n",
      "\n",
      "\u001b[1m> Entering new AgentExecutor chain...\u001b[0m\n",
      "\u001b[32;1m\u001b[1;3m I should search for the top 5 current world affairs\n",
      "Action: Search\n",
      "Action Input: \"top 5 current world affairs\"\u001b[0m\n",
      "Observation: \u001b[36;1m\u001b[1;3m['#1. Poverty · #2. Climate change · #3. Food insecurity · #4. Refugee rights · #5. COVID-19 · #6. Future pandemic preparation and response · #7. Healthcare · #8. Mental ...', \"World · Air India crash rekindles debate over cockpit video recorders · Huge fire ravages Belgium's Tomorrowland music festival main stage, days ahead of opening.\", 'Latest world news headlines: International breaking news and current affairs from US, Europe, Middle East, Asia, Africa and more.', \"Russia's interference in U.S. elections has revealed the vulnerability of American democracy to foreign adversaries. There is also growing concern over the ...\", '5 GLOBAL ISSUES TO WATCH IN 2025 · 1. Peace And Security: Resolving Catastrophic Conflict · 2. Financing for Development: Investing in a ...', 'Foreign Affairs is the leading magazine for in-depth analysis and debate of foreign policy, geopolitics and international affairs.', 'The Economist is always excellent, though it does not focus exclusively on foreign affairs: World News, Politics, Economics, Business & Finance', 'World leaders respond to latest Trump tariff threats against the EU and Mexico.', 'So, what are the most pressing issues in the world today? · Climate Change · Wars and military conflicts · Water contamination crisis · Human rights violation.', \"Israel strikes Syrian military HQ, IDF says · Cambodia makes 1,000 arrests in latest crackdown on cybercrime · Russia responds to Trump's Ukraine 'ultimatum' with ...\"]\u001b[0m\n",
      "Thought:\u001b[32;1m\u001b[1;3m I now know the final answer\n",
      "Final Answer: The top 5 current world affairs are poverty, climate change, food insecurity, refugee rights, and COVID-19.\u001b[0m\n",
      "\n",
      "\u001b[1m> Finished chain.\u001b[0m\n"
     ]
    },
    {
     "data": {
      "text/plain": [
       "'The top 5 current world affairs are poverty, climate change, food insecurity, refugee rights, and COVID-19.'"
      ]
     },
     "execution_count": 20,
     "metadata": {},
     "output_type": "execute_result"
    }
   ],
   "source": [
    "agent.run('can you tell me top 5 current world affairs?')"
   ]
  },
  {
   "cell_type": "code",
   "execution_count": 21,
   "id": "f706354d-09b0-438f-9ba2-e0880bf98584",
   "metadata": {
    "collapsed": true,
    "jupyter": {
     "outputs_hidden": true
    }
   },
   "outputs": [
    {
     "name": "stdout",
     "output_type": "stream",
     "text": [
      "Requirement already satisfied: wikipedia in e:\\datascience\\anaconda\\envs\\asif\\lib\\site-packages (1.4.0)\n",
      "Requirement already satisfied: beautifulsoup4 in e:\\datascience\\anaconda\\envs\\asif\\lib\\site-packages (from wikipedia) (4.12.3)\n",
      "Requirement already satisfied: requests<3.0.0,>=2.0.0 in e:\\datascience\\anaconda\\envs\\asif\\lib\\site-packages (from wikipedia) (2.32.3)\n",
      "Requirement already satisfied: charset-normalizer<4,>=2 in e:\\datascience\\anaconda\\envs\\asif\\lib\\site-packages (from requests<3.0.0,>=2.0.0->wikipedia) (3.3.2)\n",
      "Requirement already satisfied: idna<4,>=2.5 in e:\\datascience\\anaconda\\envs\\asif\\lib\\site-packages (from requests<3.0.0,>=2.0.0->wikipedia) (3.7)\n",
      "Requirement already satisfied: urllib3<3,>=1.21.1 in e:\\datascience\\anaconda\\envs\\asif\\lib\\site-packages (from requests<3.0.0,>=2.0.0->wikipedia) (2.2.2)\n",
      "Requirement already satisfied: certifi>=2017.4.17 in e:\\datascience\\anaconda\\envs\\asif\\lib\\site-packages (from requests<3.0.0,>=2.0.0->wikipedia) (2024.8.30)\n",
      "Requirement already satisfied: soupsieve>1.2 in e:\\datascience\\anaconda\\envs\\asif\\lib\\site-packages (from beautifulsoup4->wikipedia) (2.5)\n",
      "Note: you may need to restart the kernel to use updated packages.\n"
     ]
    }
   ],
   "source": [
    "pip install wikipedia"
   ]
  },
  {
   "cell_type": "code",
   "execution_count": 24,
   "id": "7603dcea-ec44-4e2b-8be4-7d9d2d7394df",
   "metadata": {},
   "outputs": [],
   "source": [
    "tool=load_tools(['wikipedia'],llm=client)"
   ]
  },
  {
   "cell_type": "code",
   "execution_count": 25,
   "id": "238395fc-3cf6-4758-a6ce-fa24fc7ac22a",
   "metadata": {},
   "outputs": [],
   "source": [
    "wikipedia_agent=initialize_agent(tool, client, agent=AgentType.ZERO_SHOT_REACT_DESCRIPTION, verbose=True)"
   ]
  },
  {
   "cell_type": "code",
   "execution_count": 26,
   "id": "11e09c98-6e4b-422b-b3ed-57dfd95c6dbc",
   "metadata": {
    "collapsed": true,
    "jupyter": {
     "outputs_hidden": true
    }
   },
   "outputs": [
    {
     "name": "stdout",
     "output_type": "stream",
     "text": [
      "\n",
      "\n",
      "\u001b[1m> Entering new AgentExecutor chain...\u001b[0m\n",
      "\u001b[32;1m\u001b[1;3m I'm not sure how Wikipedia would help with this question\n",
      "Action: Action\n",
      "Action Input: N/A\u001b[0m\n",
      "Observation: Action is not a valid tool, try one of [wikipedia].\n",
      "Thought:\u001b[32;1m\u001b[1;3m I should use Wikipedia for this question\n",
      "Action: wikipedia\n",
      "Action Input: current world affairs\u001b[0m\n",
      "Observation: \u001b[36;1m\u001b[1;3mPage: Institute of Current World Affairs\n",
      "Summary: The Institute of Current World Affairs (ICWA) is an operating foundation established in 1925 by US industrial heir and magnate Charles Richard Crane to advance American understanding of international cultures and affairs by sending young professionals abroad to study countries, regions and globally important issues. Institute alumni include leading journalists, scholars, diplomats, activists and businesspeople.\n",
      "ICWA says it selects its fellows from a diverse group of young professionals for two years of cultural immersion in locations around the globe. Fellows explore their topics through self-designed and fully funded programs of study, thought and writing. They record their research and analysis in monthly dispatches.\n",
      "While in the field, fellows receive support and mentoring from ICWA staff, former fellows and ICWA members with expertise in fellowship areas.\n",
      "Former fellows credit the intensive immersion experience of an ICWA fellowship, free from deadlines and career pressures, with enabling them to cultivate their talent and engage with their subject in ways that have a profound impact.\n",
      "The Institute of Current World Affairs is recognized as a tax-exempt organization under Section 501(c)(3) of the Internal Revenue Code.\n",
      "\n",
      "Page: Current Affairs (magazine)\n",
      "Summary: Current Affairs is an American bimonthly magazine that discusses political and cultural topics from a left-wing perspective. It was founded by Oren Nimni and Nathan J. Robinson in 2015. The magazine is published in print and online, and also has a podcast. It does not feature advertising, and is funded by subscriptions and donations.\n",
      "Its political stances have been described as socialist, progressive, and broadly leftist. The magazine's stated mission is \"to produce the world's first readable political publication and to make life joyful again.\" Its format is influenced by magazines such as Jacobin and Spy.\n",
      "\n",
      "Page: Current affairs (news format)\n",
      "Summary: Current affairs is a genre of broadcast journalism in which major news stories are discussed at length in a timely manner.\n",
      "This differs from regular news broadcasts that place emphasis on news reports presented for simple presentation as soon as possible, often with a minimum of analysis. It is also different from the news magazine show format in that events are discussed immediately.\n",
      "The UK's BBC programmes, such as This World, Panorama, Real Story, BBC Scotland Investigates, Spotlight, Week In Week Out, and Inside Out, fit the definition.\n",
      "In Canada, CBC Radio produces a number of current affairs shows both nationally, such as The Current and As It Happens, as well as regionally with morning current affairs shows such as Information Morning — a focus the radio network developed in the 1970s as a way to recapture audiences from television.\n",
      "In Australia, the aptly named A Current Affair, developed by the Nine Network in the 1970s, focuses on community issues not usually discussed by major news bulletins. Recurring stories include: hoons, dodgy tradies, neighbours from hell, and corruption. They also run numerous stories about local legends as well as various lifestyle tips. Today Tonight, produced by the Seven Network from 1995 to 2019, was also similar in format, covering stories comparable to that of ACA.\n",
      "Additionally, newspapers such as the Private Eye, The Economist, Monocle, The Spectator, The Week, The Oldie, Investors Chronicle, Prospect, MoneyWeek, New Statesman, Time, Fortune, BBC History Magazine, and History Today, are all sometimes referred to as current affairs magazines.\u001b[0m\n",
      "Thought:\u001b[32;1m\u001b[1;3m I now know the final answer\n",
      "Final Answer: The top 5 current world affairs can vary depending on individual perspectives. Some possible current world affairs that are frequently discussed in the media and on Wikipedia include: ongoing conflicts and crises in Syria, Yemen, and Venezuela, the rise of populism and nationalism in global politics, the impact of climate change and environmental issues, the ongoing Brexit negotiations, and the ongoing trade war between the US and China.\u001b[0m\n",
      "\n",
      "\u001b[1m> Finished chain.\u001b[0m\n"
     ]
    },
    {
     "data": {
      "text/plain": [
       "'The top 5 current world affairs can vary depending on individual perspectives. Some possible current world affairs that are frequently discussed in the media and on Wikipedia include: ongoing conflicts and crises in Syria, Yemen, and Venezuela, the rise of populism and nationalism in global politics, the impact of climate change and environmental issues, the ongoing Brexit negotiations, and the ongoing trade war between the US and China.'"
      ]
     },
     "execution_count": 26,
     "metadata": {},
     "output_type": "execute_result"
    }
   ],
   "source": [
    "wikipedia_agent.run('can you tell me top 5 current world affairs?')"
   ]
  },
  {
   "cell_type": "code",
   "execution_count": 29,
   "id": "70374c57-ce71-48c8-a7e4-c4e51cd608e9",
   "metadata": {
    "collapsed": true,
    "jupyter": {
     "outputs_hidden": true
    }
   },
   "outputs": [
    {
     "name": "stdout",
     "output_type": "stream",
     "text": [
      "\n",
      "\n",
      "\u001b[1m> Entering new AgentExecutor chain...\u001b[0m\n",
      "\u001b[32;1m\u001b[1;3m I should always think about what to do\n",
      "Action: wikipedia\n",
      "Action Input: GDP of USA\u001b[0m\n",
      "Observation: \u001b[36;1m\u001b[1;3mPage: Economy of the United States\n",
      "Summary: The United States has a highly developed mixed economy. It is the world's largest economy by nominal GDP and second largest by purchasing power parity (PPP). As of 2025, it has the world's seventh highest nominal GDP per capita and ninth highest GDP per capita by PPP. According to the World Bank, the U.S. accounted for 14.8% of the global aggregate GDP in 2024 in purchasing power parity terms and 26.2% in nominal terms. The U.S. dollar is the currency of record most used in international transactions and is the world's reserve currency, backed by a large U.S. treasuries market, its role as the reference standard for the petrodollar system, and its linked eurodollar. Several countries use it as their official currency and in others it is the de facto currency. Since the end of World War II, the economy has achieved relatively steady growth, low unemployment and inflation, and rapid advances in technology.\n",
      "The American economy is fueled by high productivity, well-developed transportation infrastructure, and extensive natural resources. Americans have the sixth highest average household and employee income among OECD member states. In 2021, they had the highest median household income among OECD countries, although the country also had one of the world's highest income inequalities among the developed countries. The largest U.S. trading partners are Canada, Mexico, China, Japan, Germany, South Korea, the United Kingdom, Taiwan, India, and Vietnam. The U.S. is the world's largest importer and second-largest exporter. It has free trade agreements with several countries, including Canada and Mexico (through the USMCA), Australia, South Korea, Israel, and several others that are in effect or under negotiation. The U.S. has a highly flexible labor market, where the industry adheres to a hire-and-fire policy, and job security is relatively low. Among OECD nations, the U.S. has a highly efficient social security system; social expenditure stood at roughly 30% of GDP.\n",
      "The United States is the world's largest producer of petroleum, natural gas, and blood products. In 2016, it was the world's largest trading country, and second largest manufacturer, with American manufacturing making up a fifth of the global total. The U.S. has the largest internal market for goods, and also dominates the services trade. Total U.S. trade was $4.2 trillion in 2018. Of the world's 500 largest companies, 139 are headquartered in the U.S. The U.S. has the world's highest number of billionaires, with total wealth of $5.7 trillion. U.S. commercial banks had $22.9 trillion in assets in December 2022. U.S. global assets under management had more than $30 trillion in assets. During the Great Recession of 2008, the U.S. economy suffered a significant decline. The American Reinvestment and Recovery Act was enacted by the United States Congress, and in the ensuing years the U.S. experienced the longest economic expansion on record by July 2019.\n",
      "The New York Stock Exchange and Nasdaq are the world's largest stock exchanges by market capitalization and trade volume. The U.S. has the world's largest gold reserves, with over 8,000 tonnes of gold. In 2014, the U.S. economy was ranked first in international ranking on venture capital and global research and development funding. As of 2024, the U.S. spends around 3.46% of GDP on cutting-edge research and development across various sectors of the economy. Consumer spending comprised 68% of the U.S. economy in 2022, while its labor share of income was 44% in 2021. The U.S. has the world's largest consumer market. The nation's labor market has attracted immigrants from all over the world and its net migration rate is among the highest in the world. The U.S. is one of the top-performing economies in studies such as the Ease of Doing Business Index, the Global Competitiveness Report, and others.\n",
      "\n",
      "Page: List of U.S. states and territories by GDP\n",
      "Summary: This is a list of U.S. states and\u001b[0m\n",
      "Thought:\u001b[32;1m\u001b[1;3m I should always think about what to do\n",
      "Action: wikipedia\n",
      "Action Input: GDP of each state in the USA\u001b[0m\n",
      "Observation: \u001b[36;1m\u001b[1;3mPage: List of U.S. states and territories by GDP\n",
      "Summary: This is a list of U.S. states and territories by gross domestic product (GDP). This article presents the 50 U.S. states and the District of Columbia and their nominal GDP at current prices.\n",
      "The data source for the list is the Bureau of Economic Analysis (BEA) in 2024. The BEA defined GDP by state as \"the sum of value added from all industries in the state.\"\n",
      "Overall, in the calendar year 2024, the United States' Nominal GDP at Current Prices totaled at $29.184 trillion, as compared to $27.720 trillion in 2023.\n",
      "The three U.S. states with the highest GDPs were California ($4.103 trillion), Texas ($2.709 trillion), and New York ($2.297 trillion). The three U.S. states with the lowest GDPs were Vermont ($45.7 billion), Wyoming ($53.0 billion), and Alaska ($69.9 billion).\n",
      "GDP per capita also varied widely throughout the United States in 2024, with New York ($117,332), Massachusetts ($110,561), and Washington (state) ($108,468) recording the three highest GDP per capita figures in the U.S., while Mississippi ($53,061), Arkansas ($60,276), and West Virginia ($60,783) recorded the three lowest GDP per capita figures in the U.S. The District of Columbia, though, recorded a GDP per capita figure far higher than any U.S. state in 2024 at $263,220.\n",
      "\n",
      "Page: Economy of the United States\n",
      "Summary: The United States has a highly developed mixed economy. It is the world's largest economy by nominal GDP and second largest by purchasing power parity (PPP). As of 2025, it has the world's seventh highest nominal GDP per capita and ninth highest GDP per capita by PPP. According to the World Bank, the U.S. accounted for 14.8% of the global aggregate GDP in 2024 in purchasing power parity terms and 26.2% in nominal terms. The U.S. dollar is the currency of record most used in international transactions and is the world's reserve currency, backed by a large U.S. treasuries market, its role as the reference standard for the petrodollar system, and its linked eurodollar. Several countries use it as their official currency and in others it is the de facto currency. Since the end of World War II, the economy has achieved relatively steady growth, low unemployment and inflation, and rapid advances in technology.\n",
      "The American economy is fueled by high productivity, well-developed transportation infrastructure, and extensive natural resources. Americans have the sixth highest average household and employee income among OECD member states. In 2021, they had the highest median household income among OECD countries, although the country also had one of the world's highest income inequalities among the developed countries. The largest U.S. trading partners are Canada, Mexico, China, Japan, Germany, South Korea, the United Kingdom, Taiwan, India, and Vietnam. The U.S. is the world's largest importer and second-largest exporter. It has free trade agreements with several countries, including Canada and Mexico (through the USMCA), Australia, South Korea, Israel, and several others that are in effect or under negotiation. The U.S. has a highly flexible labor market, where the industry adheres to a hire-and-fire policy, and job security is relatively low. Among OECD nations, the U.S. has a highly efficient social security system; social expenditure stood at roughly 30% of GDP.\n",
      "The United States is the world's largest producer of petroleum, natural gas, and blood products. In 2016, it was the world's largest trading country, and second largest manufacturer, with American manufacturing making up a fifth of the global total. The U.S. has the largest internal market for goods, and also dominates the services trade. Total U.S. trade was $4.2 trillion in 2018. Of the world's 500 largest companies, 139 are headquartered in the U.S. The U.S. has the world's highest number of billionaires, with total wealth of $5.7 trillion. U.S. commercial banks had $22.9 trillion in assets in December 2022. U.S. global assets under manag\u001b[0m\n",
      "Thought:\u001b[32;1m\u001b[1;3m I now know the final answer\n",
      "Final Answer: The current GDP of the USA is $29.184 trillion (2024).\u001b[0m\n",
      "\n",
      "\u001b[1m> Finished chain.\u001b[0m\n"
     ]
    },
    {
     "data": {
      "text/plain": [
       "'The current GDP of the USA is $29.184 trillion (2024).'"
      ]
     },
     "execution_count": 29,
     "metadata": {},
     "output_type": "execute_result"
    }
   ],
   "source": [
    "wikipedia_agent.run('can you tell me what is current GDP of USA?')"
   ]
  },
  {
   "cell_type": "code",
   "execution_count": 28,
   "id": "20513d98-2271-4218-bb04-656e5ed640ba",
   "metadata": {
    "collapsed": true,
    "jupyter": {
     "outputs_hidden": true
    }
   },
   "outputs": [
    {
     "name": "stdout",
     "output_type": "stream",
     "text": [
      "\n",
      "\n",
      "\u001b[1m> Entering new AgentExecutor chain...\u001b[0m\n",
      "\u001b[32;1m\u001b[1;3m First, I should get familiar with the format and structure of the ICC Cricket World Cup.\n",
      "Action: wikipedia\n",
      "Action Input: ICC Cricket World Cup\u001b[0m\n",
      "Observation: \u001b[36;1m\u001b[1;3mPage: Cricket World Cup\n",
      "Summary: The ICC Men's Cricket World Cup is a quadrennial world cup for cricket in One Day International (ODI) format, organised by the International Cricket Council (ICC). The tournament is one of the world's most viewed sporting events and considered the flagship event of the international cricket calendar by the ICC. \n",
      "The first Cricket World Cup was organised in England in June 1975, with the first ODI cricket match having been played only four years earlier. However, a separate Women's Cricket World Cup had been held two years before the first men's tournament, and a tournament involving multiple international teams had been held as early as 1912, when a triangular tournament of Test matches was played between Australia, England and South Africa. The first three World Cups were held in England. From the 1987 tournament onwards, hosting has been shared between countries under an unofficial rotation system, with 14 ICC members having hosted at least one match in the tournament.\n",
      "The current format involves a qualification phase, which takes place over the preceding three years, to determine which teams qualify for the tournament phase. In the tournament phase, 10 teams, including the automatically qualifying host nation, compete for the title at venues within the host nation over about a month. In the 2027 World Cup, the format will be changed to accommodate an expanded 14-team final competition.\n",
      "A total of twenty teams have competed in the 13 editions of the tournament, with ten teams competing in the recent 2023 tournament. Australia has won the tournament six times, India and West Indies twice each, while Pakistan, Sri Lanka and England have won it once each. The best performance by a non-full-member team came when Kenya made the semi-finals of the 2003 tournament.\n",
      "Australia are the current champions after winning the 2023 World Cup in India. The subsequent 2027 World Cup will be held jointly in South Africa, Zimbabwe and Namibia.\n",
      "\n",
      "Page: 2023 Cricket World Cup\n",
      "Summary: The 2023 ICC Men's Cricket World Cup was the 13th edition of the ICC Men's Cricket World Cup, a quadrennial One Day International (ODI) cricket tournament organized by the International Cricket Council (ICC). It was hosted from 5 October to 19 November 2023 across ten venues in India. This was the fourth World Cup held in India, but the first where India was the sole host.\n",
      "The tournament was contested by ten national teams, maintaining the same format used in 2019. After six weeks of round-robin matches, India, South Africa, Australia, and New Zealand finished as the top four and qualified for the knockout stage. In the knockout stage, India and Australia beat New Zealand and South Africa, respectively, to advance to the final, played on 19 November at the Narendra Modi Stadium in Ahmedabad. Australia won the final by six wickets, winning their sixth Cricket World Cup title.\n",
      "A total of 1,250,307 spectators attended the matches, the highest number in any Cricket World Cup to date. The tournament set viewership records in India, drawing 518 million viewers, with a peak of 59 million streaming viewers during the Final, which alone recorded a record-breaking global audience of about 300 million viewers worldwide.\n",
      "\n",
      "Page: 2027 Cricket World Cup\n",
      "Summary: The 2027 ICC Cricket World Cup will be the 14th edition of the Cricket World Cup, the quadrennial international men's Cricket championship contested by the national teams of the member associations of ICC. It is scheduled to be played in South Africa, Zimbabwe, and Namibia in October and November 2027. This will be the second time that South Africa and Zimbabwe will have co-hosted the tournament, after the 2003 edition, while Namibia will host it for the first time.\n",
      "\n",
      "\u001b[0m\n",
      "Thought:\u001b[32;1m\u001b[1;3m Now I have a good understanding of the recent ICC Cricket World Cups and how they are structured.\n",
      "Action: wikipedia\n",
      "Action Input: Recent ICC Cricket World Cup results\u001b[0m\n",
      "Observation: \u001b[36;1m\u001b[1;3mPage: India national cricket team\n",
      "Summary: The India men's national cricket team, also known as Men in Blue, represents India in international cricket. It is governed by the Board of Control for Cricket in India and is a full member nation of the International Cricket Council with Test, ODI and T20I status. India are the current holders of the T20 World Cup, the Champions Trophy and the Asia Cup.\n",
      "The team has played 592 Test matches, winning 182, losing 186, with 223 draws and 1 tie. As of May 2025, India is ranked fourth in the ICC Men's Test Team Rankings with 105 rating points. India have played in two of the three World Test Championship finals, finishing runners-up in 2021 and 2023, while finishing third in 2025.\n",
      "Test rivalries include the Border–Gavaskar Trophy with Australia, Freedom Trophy with South Africa, Anthony de Mello Trophy and Pataudi Trophy both with England.\n",
      "The team has played 1,066 ODI matches, winning 567, losing 445, tying 10 and with 44 ending in a no-result. As of May 2025, India is ranked first in the ICC Men's ODI Team Rankings with 124 rating points. India have appeared in the World Cup final four times in 1983, 2003, 2011, and 2023 and have won the World Cup twice in 1983 and 2011. It was the second team, after the West Indies, to win the World Cup, and the first to win the competition on home soil after winning it in 2011. India have also won the Champions Trophy three times, in 2002, 2013 and 2025. In addition to that, they have also won the ODI Asia Cup seven times, in 1984, 1988, 1990–91, 1995, 2010, 2018, and 2023.\n",
      "The team has played 247 Twenty20 International matches, winning 164, losing 71, tying 6 and with 6 ending in a no-result. As of May 2025, India is ranked first in the ICC Men's T20I Team Rankings with 271 rating points. India have won the T20 World Cup twice in 2007 and 2024. They have also won the T20 Asia Cup in 2016 and have secured a gold medal at the Asian Games in 2022.\n",
      "\n",
      "Page: 2011 Cricket World Cup\n",
      "Summary: The 2011 ICC Cricket World Cup was the tenth Cricket World Cup. It was played in India, Sri Lanka and Bangladesh, while the latter hosted World Cup matches for the first time. India won the tournament, defeating Sri Lanka by six wickets in the final at Wankhede Stadium in Mumbai, thus becoming the first country to win the Cricket World Cup final on home soil. India's Yuvraj Singh was declared as the player of the tournament. This was the first time in World Cup history that two Asian teams had appeared in the final. It was also the first time since the 1992 World Cup that the final did not feature Australia.\n",
      "Fourteen national cricket teams took part in this tournament, including 10 full members and four associate members of the International Cricket Council (ICC). The opening ceremony was held on 17 February 2011 at Bangabandhu National Stadium, Dhaka, and the tournament was played between 19 February and 2 April. The first match was played between India and Bangladesh at the Sher-e-Bangla National Stadium in Mirpur, Dhaka.\n",
      "Pakistan was also scheduled to be a co-host, but after the 2009's terrorist attack on the Sri Lanka national cricket team in Lahore, the ICC cancelled that, and the headquarters of the organising committee, originally in Lahore, was transferred to Mumbai. Pakistan was to have held 14 matches, including one semi-final. Eight of the games (including the semi-final) were awarded to India, four to Sri Lanka, and two to Bangladesh.\n",
      "\n",
      "Page: Cricket World Cup\n",
      "Summary: The ICC Men's Cricket World Cup is a quadrennial world cup for cricket in One Day International (ODI) format, organised by the International Cricket Council (ICC). The tournament is one of the world's most viewed sporting events and considered the flagship event of the international cricket calendar by the ICC. \n",
      "The first Cricket World Cup was organised in England in June 1975, with the first ODI cricket match having been played only four years earlier. However, a separate Women's Cricket World Cu\u001b[0m\n",
      "Thought:\u001b[32;1m\u001b[1;3m I now know the final answer\n",
      "Final Answer: The recent ICC Cricket World Cup was held in 2023 and was won by Australia. The next Cricket World Cup will be held in 2027 and will be co-hosted by South Africa, Zimbabwe, and Namibia. The current champions are India, who have won the tournament twice in 1983 and 2011. India is also currently ranked first in the ICC Men's ODI and T20I team rankings. \u001b[0m\n",
      "\n",
      "\u001b[1m> Finished chain.\u001b[0m\n"
     ]
    },
    {
     "data": {
      "text/plain": [
       "\"The recent ICC Cricket World Cup was held in 2023 and was won by Australia. The next Cricket World Cup will be held in 2027 and will be co-hosted by South Africa, Zimbabwe, and Namibia. The current champions are India, who have won the tournament twice in 1983 and 2011. India is also currently ranked first in the ICC Men's ODI and T20I team rankings.\""
      ]
     },
     "execution_count": 28,
     "metadata": {},
     "output_type": "execute_result"
    }
   ],
   "source": [
    "wikipedia_agent.run('can you tell about recent ICC Criket WorldCup?')"
   ]
  },
  {
   "cell_type": "markdown",
   "id": "95249488-7764-4ae8-aeea-cd8b63500100",
   "metadata": {},
   "source": [
    "# Chain"
   ]
  },
  {
   "cell_type": "markdown",
   "id": "5ec459f5-d658-42a3-92b6-b47c8c64baa4",
   "metadata": {},
   "source": [
    "## Central to langchain is a vital component known as LangChain Chains, forming the core connection among new one or several LLMs.\n",
    "## In certain, sophosticated applications, it becomes necessary to chian LLms together, either with each other or with other elements."
   ]
  },
  {
   "cell_type": "markdown",
   "id": "4776a8d1-ec58-4f1e-95d0-90dbe64a2c2f",
   "metadata": {},
   "source": [
    "## Example_1"
   ]
  },
  {
   "cell_type": "code",
   "execution_count": 34,
   "id": "02ccb41e-bb0e-4c3b-9c45-81024eddf054",
   "metadata": {},
   "outputs": [],
   "source": [
    "prompt_temp=PromptTemplate(\n",
    "    input_variables=['product'],\n",
    "    template='suggest the company name that makes {product}'\n",
    ")"
   ]
  },
  {
   "cell_type": "code",
   "execution_count": 35,
   "id": "a636ea62-1e51-45a5-8487-aa23aae59127",
   "metadata": {},
   "outputs": [
    {
     "name": "stderr",
     "output_type": "stream",
     "text": [
      "C:\\Users\\ASIF\\AppData\\Local\\Temp\\ipykernel_15736\\2273574515.py:1: LangChainDeprecationWarning: The class `LLMChain` was deprecated in LangChain 0.1.17 and will be removed in 1.0. Use :meth:`~RunnableSequence, e.g., `prompt | llm`` instead.\n",
      "  chain=LLMChain(llm=client, prompt=prompt_temp)\n"
     ]
    }
   ],
   "source": [
    "chain=LLMChain(llm=client, prompt=prompt_temp)"
   ]
  },
  {
   "cell_type": "code",
   "execution_count": 37,
   "id": "426508c6-7551-4f4d-8cce-9912495173ca",
   "metadata": {},
   "outputs": [
    {
     "data": {
      "text/plain": [
       "'FizzCo'"
      ]
     },
     "execution_count": 37,
     "metadata": {},
     "output_type": "execute_result"
    }
   ],
   "source": [
    "chain.run('soda').strip()"
   ]
  },
  {
   "cell_type": "markdown",
   "id": "0f7a4f8d-2728-4e2b-8dc5-4f71fa6ab7ad",
   "metadata": {},
   "source": [
    "# Example_2"
   ]
  },
  {
   "cell_type": "code",
   "execution_count": 44,
   "id": "9593242a-30f9-495c-bcab-cd92ccafdfb2",
   "metadata": {},
   "outputs": [],
   "source": [
    "from langchain.chains import SimpleSequentialChain"
   ]
  },
  {
   "cell_type": "code",
   "execution_count": 38,
   "id": "3d47dc1f-65ef-4f6b-973d-ee0791037ad2",
   "metadata": {},
   "outputs": [],
   "source": [
    "prompt1=PromptTemplate(\n",
    "    input_variables=['startup'],\n",
    "    template='suggest me a best name for a startup for {startup}'\n",
    ")"
   ]
  },
  {
   "cell_type": "code",
   "execution_count": 39,
   "id": "6e6c4c88-648f-4c13-a266-efe32c5096db",
   "metadata": {},
   "outputs": [],
   "source": [
    "chain_name=LLMChain(llm=client, prompt=prompt1, verbose=True)"
   ]
  },
  {
   "cell_type": "code",
   "execution_count": 40,
   "id": "faa41483-55bd-4a7e-9178-9b29de828221",
   "metadata": {},
   "outputs": [],
   "source": [
    "prompt2=PromptTemplate(\n",
    "    input_variables=['name'],\n",
    "    template='give the effective steps of strategy for startup that is known as {name}'\n",
    ")"
   ]
  },
  {
   "cell_type": "code",
   "execution_count": 42,
   "id": "625b03f0-3313-4a9d-a860-79f378a43558",
   "metadata": {},
   "outputs": [],
   "source": [
    "chain_strategy=LLMChain(llm=client, prompt=prompt2, verbose=True)"
   ]
  },
  {
   "cell_type": "code",
   "execution_count": 45,
   "id": "51dfc116-1ffb-4962-a5a3-0113d45cf700",
   "metadata": {},
   "outputs": [],
   "source": [
    "final_chain=SimpleSequentialChain(chains=[chain_name,chain_strategy])"
   ]
  },
  {
   "cell_type": "code",
   "execution_count": 46,
   "id": "722d755c-9c7f-4370-92fb-a0bae50a1ac4",
   "metadata": {
    "collapsed": true,
    "jupyter": {
     "outputs_hidden": true
    }
   },
   "outputs": [
    {
     "name": "stdout",
     "output_type": "stream",
     "text": [
      "\n",
      "\n",
      "\u001b[1m> Entering new LLMChain chain...\u001b[0m\n",
      "Prompt after formatting:\n",
      "\u001b[32;1m\u001b[1;3msuggest me a best name for a startup for Artificial Intelligence\u001b[0m\n",
      "\n",
      "\u001b[1m> Finished chain.\u001b[0m\n",
      "\n",
      "\n",
      "\u001b[1m> Entering new LLMChain chain...\u001b[0m\n",
      "Prompt after formatting:\n",
      "\u001b[32;1m\u001b[1;3mgive the effective steps of strategy for startup that is known as \n",
      "\n",
      "\"Neural Nexus\" \u001b[0m\n",
      "\n",
      "\u001b[1m> Finished chain.\u001b[0m\n"
     ]
    },
    {
     "data": {
      "text/plain": [
       "\"\\n\\n1. Define the Vision and Goals: The first step in building a successful startup is to clearly define the vision and goals of the company. This includes identifying the problem that the company intends to solve, the target market, and the long-term goals of the company.\\n\\n2. Conduct Market Research: Once the vision and goals are defined, conduct thorough market research to understand the competitive landscape, target audience, and potential demand for your product or service. This will help in shaping your strategy and positioning your startup in the market.\\n\\n3. Develop a Unique Value Proposition: In order to stand out in a crowded market, your startup needs to have a unique value proposition that differentiates it from competitors. This could be in the form of a unique product or service offering, a different pricing model, or a unique approach to solving the problem.\\n\\n4. Build a Strong Team: As a startup, your team is your biggest asset. It is important to build a team with diverse skills, experiences, and a shared passion for the vision of the company. This team will be responsible for executing the strategy and driving the growth of the company.\\n\\n5. Create a Solid Business Plan: A well-crafted business plan is essential for any startup. It outlines the company's goals, target market,\""
      ]
     },
     "execution_count": 46,
     "metadata": {},
     "output_type": "execute_result"
    }
   ],
   "source": [
    "final_chain.run('Artificial Intelligence')"
   ]
  },
  {
   "cell_type": "code",
   "execution_count": 47,
   "id": "2f5399b3-a9c5-410d-8e45-ba86af34a137",
   "metadata": {
    "collapsed": true,
    "jupyter": {
     "outputs_hidden": true
    }
   },
   "outputs": [
    {
     "name": "stdout",
     "output_type": "stream",
     "text": [
      "\n",
      "\n",
      "\u001b[1m> Entering new LLMChain chain...\u001b[0m\n",
      "Prompt after formatting:\n",
      "\u001b[32;1m\u001b[1;3msuggest me a best name for a startup for Agriculture\u001b[0m\n",
      "\n",
      "\u001b[1m> Finished chain.\u001b[0m\n",
      "\n",
      "\n",
      "\u001b[1m> Entering new LLMChain chain...\u001b[0m\n",
      "Prompt after formatting:\n",
      "\u001b[32;1m\u001b[1;3mgive the effective steps of strategy for startup that is known as \n",
      "\n",
      "\"GreenHarvest Co.\"\u001b[0m\n",
      "\n",
      "\u001b[1m> Finished chain.\u001b[0m\n"
     ]
    },
    {
     "data": {
      "text/plain": [
       "\"1. Identify the target market: The first step in creating a successful startup strategy for GreenHarvest Co. is to clearly define the target market. This could include individuals and organizations that are interested in sustainable and eco-friendly products, as well as those looking for high-quality and organic produce.\\n\\n2. Conduct market research: Once the target market is identified, it is important to conduct thorough market research to understand the needs and preferences of potential customers. This will help in creating a product or service that meets the demand of the market.\\n\\n3. Develop a unique value proposition: The next step is to develop a unique value proposition that sets GreenHarvest Co. apart from its competitors. This could include highlighting the sustainable and organic practices used in the production process, as well as the quality and freshness of the products.\\n\\n4. Create a strong brand identity: A strong brand identity is essential for any startup to stand out in a crowded market. GreenHarvest Co. should focus on creating a brand that reflects its values of sustainability, health, and eco-friendliness.\\n\\n5. Build a strong online presence: In today's digital age, having a strong online presence is crucial for any business. GreenHarvest Co. should invest in creating a professional website, social media presence,\""
      ]
     },
     "execution_count": 47,
     "metadata": {},
     "output_type": "execute_result"
    }
   ],
   "source": [
    "final_chain.run('Agriculture').strip()"
   ]
  },
  {
   "cell_type": "markdown",
   "id": "cdcbc127-447a-47bc-aaf2-6d2f2703a61c",
   "metadata": {},
   "source": [
    "## Example_3\n",
    "### to show output of all chains"
   ]
  },
  {
   "cell_type": "code",
   "execution_count": 52,
   "id": "a2b359cf-db5c-46d1-9e90-7334dea100b8",
   "metadata": {},
   "outputs": [],
   "source": [
    "from langchain.chains import SequentialChain"
   ]
  },
  {
   "cell_type": "code",
   "execution_count": 48,
   "id": "d64b3c0d-4804-4806-b415-083ef8168833",
   "metadata": {},
   "outputs": [],
   "source": [
    "prompt1=PromptTemplate(\n",
    "    input_variables=['startup'],\n",
    "    template='suggest me a best name for a startup for {startup}'\n",
    ")"
   ]
  },
  {
   "cell_type": "code",
   "execution_count": 49,
   "id": "20f2c794-85f6-4d2a-a36b-cfc4ec714f5b",
   "metadata": {},
   "outputs": [],
   "source": [
    "chain_name=LLMChain(llm=client, prompt=prompt1, output_key='startup_name')"
   ]
  },
  {
   "cell_type": "code",
   "execution_count": 55,
   "id": "6b62305b-2a08-4afe-a81c-0113a04b0314",
   "metadata": {},
   "outputs": [],
   "source": [
    "prompt2=PromptTemplate(\n",
    "    input_variables=['startup_name'],\n",
    "    template='give the effective steps of strategy for startup that is known as {startup_name}'\n",
    ")"
   ]
  },
  {
   "cell_type": "code",
   "execution_count": 56,
   "id": "384e6804-aa72-40a5-87a8-a8b394e854fc",
   "metadata": {},
   "outputs": [],
   "source": [
    "chain_strategy=LLMChain(llm=client, prompt=prompt2, output_key='strategy')"
   ]
  },
  {
   "cell_type": "code",
   "execution_count": 57,
   "id": "be8058e9-ba6e-4033-bfec-98f7d1ac1885",
   "metadata": {},
   "outputs": [],
   "source": [
    "final_chain=SequentialChain(chains=[chain_name,chain_strategy],\n",
    "                           input_variables=['startup'],\n",
    "                           output_variables=['startup_name','strategy'])"
   ]
  },
  {
   "cell_type": "code",
   "execution_count": 63,
   "id": "3bc4ca02-9157-422d-8468-71ba0211e292",
   "metadata": {
    "collapsed": true,
    "jupyter": {
     "outputs_hidden": true
    }
   },
   "outputs": [
    {
     "data": {
      "text/plain": [
       "{'startup': 'Agriculture',\n",
       " 'startup_name': '\\n\\n1. \"Harvest Hub\"\\n2. \"Green Fields Co.\"\\n3. \"Agro Innovations\"\\n4. \"GrowSmart Solutions\"\\n5. \"Cultivate Co.\"\\n6. \"Farmwise Technologies\"\\n7. \"Seedling Ventures\"\\n8. \"Field to Fork\"\\n9. \"AgriVision Inc.\"\\n10. \"Sustainable Harvests\"',\n",
       " 'strategy': \"\\n\\nStep 1: Define Your Mission and Vision\\nThe first step in developing a successful startup strategy is to clearly define your mission and vision. This will serve as the guiding force for all your decisions and actions. For example, Harvest Hub's mission could be to provide access to fresh, locally grown produce to urban communities, while AgriVision Inc. could focus on using technology to improve farming efficiency and sustainability.\\n\\nStep 2: Conduct Market Research\\nConducting thorough market research is crucial in understanding your target audience, their needs and preferences, as well as your competition. This will help you identify any gaps in the market that your startup can fill and also guide your product development.\\n\\nStep 3: Develop a Unique Value Proposition\\nBased on your mission and market research, develop a unique value proposition for your startup. This is what sets you apart from your competitors and attracts customers. For example, Green Fields Co. could emphasize their use of sustainable farming practices, while Cultivate Co. could highlight their commitment to supporting small-scale farmers.\\n\\nStep 4: Create a Business Plan\\nA well-developed business plan is essential for any startup. It outlines your goals, target market, marketing strategy, financial projections, and more. This will serve as a roadmap for your startup\"}"
      ]
     },
     "execution_count": 63,
     "metadata": {},
     "output_type": "execute_result"
    }
   ],
   "source": [
    "final_chain({'startup':'Agriculture'})"
   ]
  },
  {
   "cell_type": "markdown",
   "id": "32275ef0-7546-4ef3-b465-cd5f5688acb1",
   "metadata": {},
   "source": [
    "# Document Loader"
   ]
  },
  {
   "cell_type": "code",
   "execution_count": 69,
   "id": "6d1bfb08-3f56-475c-879f-071f38aee756",
   "metadata": {
    "collapsed": true,
    "jupyter": {
     "outputs_hidden": true
    }
   },
   "outputs": [
    {
     "name": "stdout",
     "output_type": "stream",
     "text": [
      "Collecting pypdf\n",
      "  Using cached pypdf-5.8.0-py3-none-any.whl.metadata (7.1 kB)\n",
      "Using cached pypdf-5.8.0-py3-none-any.whl (309 kB)\n",
      "Installing collected packages: pypdf\n",
      "Successfully installed pypdf-5.8.0\n",
      "Note: you may need to restart the kernel to use updated packages.\n"
     ]
    }
   ],
   "source": [
    "pip install pypdf"
   ]
  },
  {
   "cell_type": "code",
   "execution_count": 65,
   "id": "ce6866bb-2f53-4957-b42d-4a101a3fc55a",
   "metadata": {},
   "outputs": [],
   "source": [
    "from langchain.document_loaders import PyPDFLoader"
   ]
  },
  {
   "cell_type": "code",
   "execution_count": 67,
   "id": "e4adda1f-f80e-4ea5-b2ea-26667d09f155",
   "metadata": {},
   "outputs": [],
   "source": [
    "file=PyPDFLoader(r'C:\\Users\\ASIF\\OneDrive - University of Engineering and Technology Taxila\\Documents\\22-SE-21.pdf')"
   ]
  },
  {
   "cell_type": "code",
   "execution_count": 70,
   "id": "69902df1-31e3-4a81-b29c-f8e7b29b7b77",
   "metadata": {},
   "outputs": [],
   "source": [
    "pages=file.load_and_split()"
   ]
  },
  {
   "cell_type": "code",
   "execution_count": 78,
   "id": "dddb65bd-660b-4c66-b686-84ef2af7071a",
   "metadata": {
    "collapsed": true,
    "jupyter": {
     "outputs_hidden": true
    },
    "scrolled": true
   },
   "outputs": [
    {
     "name": "stdout",
     "output_type": "stream",
     "text": [
      "page_content='SC&D Lab \n",
      "      Assignment#01  \n",
      " \n",
      "   Submitted By: \n",
      "     Muhammad Asif \n",
      "            22-SE-21 \n",
      " \n",
      "   Submitted To: \n",
      "     Ma’am Nazia \n",
      " \n",
      "   Date: \n",
      "    05-05-2025' metadata={'producer': 'Microsoft: Print To PDF', 'creator': 'PyPDF', 'creationdate': '2025-05-04T23:35:45+05:00', 'author': '', 'moddate': '2025-05-04T23:35:45+05:00', 'title': 'Microsoft Word - 22-SE-21', 'source': 'C:\\\\Users\\\\ASIF\\\\OneDrive - University of Engineering and Technology Taxila\\\\Documents\\\\22-SE-21.pdf', 'total_pages': 8, 'page': 0, 'page_label': '1'}\n"
     ]
    }
   ],
   "source": [
    "for page in pages:\n",
    "    print(page)\n",
    "    break"
   ]
  },
  {
   "cell_type": "markdown",
   "id": "42055de2-dc01-4744-a1a1-b2878322836f",
   "metadata": {},
   "source": [
    "## CSV Loader"
   ]
  },
  {
   "cell_type": "code",
   "execution_count": 79,
   "id": "4a634931-0e37-4051-b5d5-fd4fb4296101",
   "metadata": {},
   "outputs": [],
   "source": [
    "from langchain.document_loaders.csv_loader import CSVLoader"
   ]
  },
  {
   "cell_type": "code",
   "execution_count": 87,
   "id": "55577716-eabc-4b81-88af-65618f074f38",
   "metadata": {},
   "outputs": [],
   "source": [
    "file=CSVLoader(r'E:\\NLP\\NLP_S2\\movies_sentiment_data.csv')"
   ]
  },
  {
   "cell_type": "code",
   "execution_count": null,
   "id": "1ccf4069-e413-497b-8f5a-31479eef1269",
   "metadata": {},
   "outputs": [],
   "source": []
  },
  {
   "cell_type": "markdown",
   "id": "4de73b5f-ad17-44ad-bec8-ae1a4b033f20",
   "metadata": {},
   "source": [
    "# Memory"
   ]
  },
  {
   "cell_type": "code",
   "execution_count": 88,
   "id": "aeaf3512-abb1-454c-a4b9-98e34032e2a8",
   "metadata": {},
   "outputs": [],
   "source": [
    "client=OpenAI(openai_api_key=mykey)"
   ]
  },
  {
   "cell_type": "code",
   "execution_count": 89,
   "id": "c143fbff-5853-44da-ab97-0dc4baf68789",
   "metadata": {},
   "outputs": [],
   "source": [
    "prompt_temp=PromptTemplate(\n",
    "    input_variables=['product'],\n",
    "    template='suggest the company name that makes {product}'\n",
    ")"
   ]
  },
  {
   "cell_type": "code",
   "execution_count": 90,
   "id": "98c1aa96-6d49-43d3-8482-1edd26f125c0",
   "metadata": {},
   "outputs": [],
   "source": [
    "chain=LLMChain(llm=client,prompt=prompt_temp)"
   ]
  },
  {
   "cell_type": "code",
   "execution_count": 91,
   "id": "dbbc958e-7027-417c-8c51-f073798fb909",
   "metadata": {},
   "outputs": [
    {
     "data": {
      "text/plain": [
       "'VinoCrafters'"
      ]
     },
     "execution_count": 91,
     "metadata": {},
     "output_type": "execute_result"
    }
   ],
   "source": [
    "chain.run('wine').strip()"
   ]
  },
  {
   "cell_type": "code",
   "execution_count": 92,
   "id": "4e4d0752-3ef0-4738-bca4-3df35ea115c5",
   "metadata": {},
   "outputs": [
    {
     "data": {
      "text/plain": [
       "'\"Playful Creations Co.\"'"
      ]
     },
     "execution_count": 92,
     "metadata": {},
     "output_type": "execute_result"
    }
   ],
   "source": [
    "chain.run('toys').strip()"
   ]
  },
  {
   "cell_type": "code",
   "execution_count": 93,
   "id": "ae89b7ad-a312-400d-844d-f3964dc9d7a7",
   "metadata": {},
   "outputs": [
    {
     "data": {
      "text/plain": [
       "'1. SkyTech Drones\\n2. AeroDrone Solutions\\n3. FlightWorks Technologies\\n4. PrecisionUAV Co.\\n5. Winged Innovations\\n6. DroneWorks Corporation\\n7. Aviatrix Robotics\\n8. Airborne Dynamics\\n9. SkyScout Industries\\n10. Aerial Robotics Co.'"
      ]
     },
     "execution_count": 93,
     "metadata": {},
     "output_type": "execute_result"
    }
   ],
   "source": [
    "chain.run('drons').strip()"
   ]
  },
  {
   "cell_type": "code",
   "execution_count": 94,
   "id": "118fd44d-5a56-4f2b-8a7f-abfc8eecc889",
   "metadata": {},
   "outputs": [],
   "source": [
    "chain.memory"
   ]
  },
  {
   "cell_type": "markdown",
   "id": "7e7c503e-32b2-4695-bbbb-44d11e9ad145",
   "metadata": {},
   "source": [
    "### As it has been seen thar it is not having any memory, that is we are implementing multiple approaches for it"
   ]
  },
  {
   "cell_type": "code",
   "execution_count": null,
   "id": "b8469c89-4eb4-4235-bc8d-4448b6618c58",
   "metadata": {},
   "outputs": [],
   "source": []
  },
  {
   "cell_type": "markdown",
   "id": "0367cfd5-d531-4a6f-bf5a-f47dfe3876e3",
   "metadata": {},
   "source": [
    "# ***ConversationBufferMemory***"
   ]
  },
  {
   "cell_type": "markdown",
   "id": "c499c1f2-9881-42ff-acea-66eab10b2d71",
   "metadata": {},
   "source": [
    "#### ConversationBufferMemory retain all previous conversation"
   ]
  },
  {
   "cell_type": "code",
   "execution_count": 95,
   "id": "fb423a33-83c8-40d1-9caa-4e641527340e",
   "metadata": {},
   "outputs": [],
   "source": [
    "from langchain.memory import ConversationBufferMemory"
   ]
  },
  {
   "cell_type": "code",
   "execution_count": 97,
   "id": "85a34677-5f2a-4391-8077-e7525c65f1e1",
   "metadata": {},
   "outputs": [],
   "source": [
    "memory=ConversationBufferMemory()"
   ]
  },
  {
   "cell_type": "code",
   "execution_count": 98,
   "id": "c0d330f4-b1f2-4eb6-a41e-2617055485bd",
   "metadata": {},
   "outputs": [],
   "source": [
    "prompt_temp=PromptTemplate(\n",
    "    input_variables=['product'],\n",
    "    template='suggest the company name that makes {product}'\n",
    ")"
   ]
  },
  {
   "cell_type": "code",
   "execution_count": 99,
   "id": "8c1e7ea0-3b67-4e51-b629-c0b4baeb0168",
   "metadata": {},
   "outputs": [],
   "source": [
    "chain=LLMChain(llm=client,prompt=prompt_temp, memory=memory)"
   ]
  },
  {
   "cell_type": "code",
   "execution_count": 100,
   "id": "b7d8be33-71a8-4979-ba3e-946e3e6d9232",
   "metadata": {},
   "outputs": [
    {
     "data": {
      "text/plain": [
       "'Vineyard Vines Wine Co.'"
      ]
     },
     "execution_count": 100,
     "metadata": {},
     "output_type": "execute_result"
    }
   ],
   "source": [
    "chain.run('wine').strip()"
   ]
  },
  {
   "cell_type": "code",
   "execution_count": 101,
   "id": "25909902-3587-45ec-8078-c1212034e409",
   "metadata": {},
   "outputs": [
    {
     "data": {
      "text/plain": [
       "'\"Playtopia\"'"
      ]
     },
     "execution_count": 101,
     "metadata": {},
     "output_type": "execute_result"
    }
   ],
   "source": [
    "chain.run('toys').strip()"
   ]
  },
  {
   "cell_type": "code",
   "execution_count": 102,
   "id": "27ebc52d-cb57-4ea6-a7d2-3f2a8f80a6b6",
   "metadata": {},
   "outputs": [
    {
     "data": {
      "text/plain": [
       "'\"SkyTech Drones\"'"
      ]
     },
     "execution_count": 102,
     "metadata": {},
     "output_type": "execute_result"
    }
   ],
   "source": [
    "chain.run('drons').strip()"
   ]
  },
  {
   "cell_type": "code",
   "execution_count": 103,
   "id": "b6edfa81-1da7-4106-aa6f-679e0edbad40",
   "metadata": {},
   "outputs": [
    {
     "data": {
      "text/plain": [
       "ConversationBufferMemory(chat_memory=InMemoryChatMessageHistory(messages=[HumanMessage(content='wine', additional_kwargs={}, response_metadata={}), AIMessage(content='\\n\\nVineyard Vines Wine Co. ', additional_kwargs={}, response_metadata={}), HumanMessage(content='toys', additional_kwargs={}, response_metadata={}), AIMessage(content='\\n\\n\"Playtopia\" ', additional_kwargs={}, response_metadata={}), HumanMessage(content='drons', additional_kwargs={}, response_metadata={}), AIMessage(content='\\n\\n\"SkyTech Drones\" ', additional_kwargs={}, response_metadata={})]))"
      ]
     },
     "execution_count": 103,
     "metadata": {},
     "output_type": "execute_result"
    }
   ],
   "source": [
    "chain.memory"
   ]
  },
  {
   "cell_type": "code",
   "execution_count": 104,
   "id": "19dd2af6-a2d8-4b32-89f6-3f81533a26bf",
   "metadata": {},
   "outputs": [
    {
     "data": {
      "text/plain": [
       "langchain.memory.buffer.ConversationBufferMemory"
      ]
     },
     "execution_count": 104,
     "metadata": {},
     "output_type": "execute_result"
    }
   ],
   "source": [
    "type(chain.memory)"
   ]
  },
  {
   "cell_type": "markdown",
   "id": "e98e18ca-4b42-4c28-8d3b-930bb0e80ada",
   "metadata": {},
   "source": [
    "# ***ConversationChain***"
   ]
  },
  {
   "cell_type": "markdown",
   "id": "9886018a-7369-469f-8966-2ab3399df7e3",
   "metadata": {},
   "source": [
    "#### ConversationChain Remembers the previous conversation and can give answer according to context what it has."
   ]
  },
  {
   "cell_type": "code",
   "execution_count": 106,
   "id": "ea36fd6d-6bff-4a92-953c-d7ece46ade2b",
   "metadata": {},
   "outputs": [],
   "source": [
    "from langchain.chains import ConversationChain"
   ]
  },
  {
   "cell_type": "code",
   "execution_count": 108,
   "id": "57a9a6e0-ca10-4336-8d4c-9bd7955c8282",
   "metadata": {},
   "outputs": [],
   "source": [
    "chain=ConversationChain(llm=OpenAI(openai_api_key=mykey, temperature=.7))"
   ]
  },
  {
   "cell_type": "code",
   "execution_count": 109,
   "id": "8a331536-cf59-428a-8fc4-e9eb4b61e61d",
   "metadata": {},
   "outputs": [
    {
     "data": {
      "text/plain": [
       "\" The first cricket world cup was held in 1975 and was won by the West Indies team. The final match was played between the West Indies and Australia at Lord's Cricket Ground in London, England. The West Indies won by 17 runs and were declared the first ever cricket world cup champions.\""
      ]
     },
     "execution_count": 109,
     "metadata": {},
     "output_type": "execute_result"
    }
   ],
   "source": [
    "chain.run('Who won the first cricket world cup?')"
   ]
  },
  {
   "cell_type": "code",
   "execution_count": 110,
   "id": "58b493ae-9818-49d0-b849-92525a74728e",
   "metadata": {},
   "outputs": [
    {
     "data": {
      "text/plain": [
       "' 4-3 is equal to 1.'"
      ]
     },
     "execution_count": 110,
     "metadata": {},
     "output_type": "execute_result"
    }
   ],
   "source": [
    "chain.run('what will be 4-3?')"
   ]
  },
  {
   "cell_type": "code",
   "execution_count": 111,
   "id": "d8c1c23a-3175-4724-915a-d2f03d95551b",
   "metadata": {},
   "outputs": [
    {
     "data": {
      "text/plain": [
       "' As of September 2021, the current Prime Minister of Pakistan is Imran Khan. He has been in office since August 2018, after his political party, the Pakistan Tehreek-e-Insaf, won the general elections.'"
      ]
     },
     "execution_count": 111,
     "metadata": {},
     "output_type": "execute_result"
    }
   ],
   "source": [
    "chain.run('who is current PM of pakistan?')"
   ]
  },
  {
   "cell_type": "code",
   "execution_count": 112,
   "id": "513d0211-43b9-45ca-b8b5-2af30818c2f6",
   "metadata": {},
   "outputs": [
    {
     "data": {
      "text/plain": [
       "' The captain of the winning West Indies team in the first cricket world cup was Clive Lloyd. He was also a key player in the team, scoring 102 runs in the final match against Australia. After the tournament, Lloyd was hailed as a hero in the West Indies and went on to have a successful career as both a player and coach.'"
      ]
     },
     "execution_count": 112,
     "metadata": {},
     "output_type": "execute_result"
    }
   ],
   "source": [
    "chain.run('who was the captain of winnig team?')"
   ]
  },
  {
   "cell_type": "markdown",
   "id": "984a7319-0643-4d60-b671-fd3d7fe717fd",
   "metadata": {},
   "source": [
    "#### As it is now capable to remember previous conversation but it remember complete conversation.\n",
    "#### We can also limit the number of conversation to remember by using ***ConversationBufferWindowMemory*** in LLM."
   ]
  },
  {
   "cell_type": "markdown",
   "id": "401100fd-31b0-4b76-9f83-0d437f52d71f",
   "metadata": {},
   "source": [
    "# ***ConversationBufferWindowMemory***\n",
    "#### we specify k to remember k previous conversations"
   ]
  },
  {
   "cell_type": "code",
   "execution_count": 113,
   "id": "49fa1982-d5df-4909-9e66-3863f34ca406",
   "metadata": {},
   "outputs": [],
   "source": [
    "from langchain.memory import ConversationBufferWindowMemory"
   ]
  },
  {
   "cell_type": "code",
   "execution_count": 125,
   "id": "2a10175d-3143-4693-9ea6-c4cec590b52f",
   "metadata": {},
   "outputs": [],
   "source": [
    "memory=ConversationBufferWindowMemory(k=5)"
   ]
  },
  {
   "cell_type": "code",
   "execution_count": 126,
   "id": "37520b7e-0965-47d1-be89-b11d7ee7720a",
   "metadata": {},
   "outputs": [],
   "source": [
    "chain=ConversationChain(llm=OpenAI(openai_api_key=mykey, temperature=.7), memory=memory)"
   ]
  },
  {
   "cell_type": "code",
   "execution_count": 127,
   "id": "bca14486-81fe-4f86-b240-63fee12132ee",
   "metadata": {},
   "outputs": [
    {
     "data": {
      "text/plain": [
       "' The first cricket world cup was won by West Indies in 1975. It was held in England and featured eight teams, including Australia, England, India, New Zealand, Pakistan, Sri Lanka, and the West Indies. The West Indies defeated Australia in the final match by 17 runs.'"
      ]
     },
     "execution_count": 127,
     "metadata": {},
     "output_type": "execute_result"
    }
   ],
   "source": [
    "chain.run('Who won the first cricket world cup?')"
   ]
  },
  {
   "cell_type": "code",
   "execution_count": 128,
   "id": "02d91248-0895-48b7-bca4-fa7aa5145d9b",
   "metadata": {},
   "outputs": [
    {
     "data": {
      "text/plain": [
       "' The answer to 4-3 is 1.'"
      ]
     },
     "execution_count": 128,
     "metadata": {},
     "output_type": "execute_result"
    }
   ],
   "source": [
    "chain.run('what will be 4-3?')"
   ]
  },
  {
   "cell_type": "code",
   "execution_count": 129,
   "id": "3331a10f-4056-49da-894b-33b54b8a7c42",
   "metadata": {},
   "outputs": [
    {
     "data": {
      "text/plain": [
       "' The current Prime Minister of Pakistan is Imran Khan. He took office in August 2018 after his political party, the Pakistan Tehreek-e-Insaf, won the general election. Prior to becoming Prime Minister, Khan was a renowned cricketer and the captain of the Pakistani national team. He has also been involved in various philanthropic and social initiatives.'"
      ]
     },
     "execution_count": 129,
     "metadata": {},
     "output_type": "execute_result"
    }
   ],
   "source": [
    "chain.run('who is current PM of pakistan?')"
   ]
  },
  {
   "cell_type": "code",
   "execution_count": 130,
   "id": "8d9eec79-dec5-401a-b6ea-6dfc2571dafb",
   "metadata": {},
   "outputs": [
    {
     "data": {
      "text/plain": [
       "\"  The captain of the winning West Indies team in the first cricket world cup was Clive Lloyd. He was a skilled batsman and led the team to victory with his strategic captaincy. Lloyd is considered one of the greatest cricketers in West Indies history and was inducted into the International Cricket Council's Hall of Fame in 2009.\""
      ]
     },
     "execution_count": 130,
     "metadata": {},
     "output_type": "execute_result"
    }
   ],
   "source": [
    "chain.run('who was the captain of winnig team?')"
   ]
  }
 ],
 "metadata": {
  "kernelspec": {
   "display_name": "Python 3.13.1",
   "language": "python",
   "name": "python3.13"
  },
  "language_info": {
   "codemirror_mode": {
    "name": "ipython",
    "version": 3
   },
   "file_extension": ".py",
   "mimetype": "text/x-python",
   "name": "python",
   "nbconvert_exporter": "python",
   "pygments_lexer": "ipython3",
   "version": "3.12.4"
  }
 },
 "nbformat": 4,
 "nbformat_minor": 5
}
